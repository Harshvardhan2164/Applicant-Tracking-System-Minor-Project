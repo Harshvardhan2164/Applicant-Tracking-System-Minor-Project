{
 "cells": [
  {
   "cell_type": "code",
   "execution_count": 1,
   "metadata": {},
   "outputs": [],
   "source": [
    "import spacy\n",
    "from spacy.pipeline import EntityRuler\n",
    "from spacy.lang.en import English\n",
    "from spacy.tokens import Doc"
   ]
  },
  {
   "cell_type": "code",
   "execution_count": 2,
   "metadata": {},
   "outputs": [],
   "source": [
    "import gensim\n",
    "from gensim import corpora"
   ]
  },
  {
   "cell_type": "code",
   "execution_count": 3,
   "metadata": {},
   "outputs": [
    {
     "name": "stderr",
     "output_type": "stream",
     "text": [
      "C:\\Users\\Harshvardhan Sharma\\AppData\\Local\\Temp\\ipykernel_8516\\3982058290.py:3: DeprecationWarning: \n",
      "Pyarrow will become a required dependency of pandas in the next major release of pandas (pandas 3.0),\n",
      "(to allow more performant data types, such as the Arrow string type, and better interoperability with other libraries)\n",
      "but was not found to be installed on your system.\n",
      "If this would cause problems for you,\n",
      "please provide us feedback at https://github.com/pandas-dev/pandas/issues/54466\n",
      "        \n",
      "  import pandas as pd\n",
      "[nltk_data] Downloading package stopwords to C:\\Users\\Harshvardhan\n",
      "[nltk_data]     Sharma\\AppData\\Roaming\\nltk_data...\n",
      "[nltk_data]   Package stopwords is already up-to-date!\n",
      "[nltk_data] Downloading package wordnet to C:\\Users\\Harshvardhan\n",
      "[nltk_data]     Sharma\\AppData\\Roaming\\nltk_data...\n",
      "[nltk_data]   Package wordnet is already up-to-date!\n"
     ]
    },
    {
     "data": {
      "text/plain": [
       "True"
      ]
     },
     "execution_count": 3,
     "metadata": {},
     "output_type": "execute_result"
    }
   ],
   "source": [
    "from spacy import displacy\n",
    "import numpy as np \n",
    "import pandas as pd\n",
    "from wordcloud import WordCloud\n",
    "import matplotlib.pyplot as plt\n",
    "import jsonlines\n",
    "import re\n",
    "import nltk\n",
    "from nltk.corpus import stopwords\n",
    "from nltk.stem import WordNetLemmatizer\n",
    "nltk.download(['stopwords', 'wordnet'])"
   ]
  },
  {
   "cell_type": "code",
   "execution_count": 4,
   "metadata": {},
   "outputs": [],
   "source": [
    "import warnings \n",
    "warnings.filterwarnings('ignore')"
   ]
  },
  {
   "cell_type": "code",
   "execution_count": 5,
   "metadata": {},
   "outputs": [],
   "source": [
    "df = pd.read_csv('Resume.csv')\n",
    "df=df.reindex(np.random.permutation(df.index))\n"
   ]
  },
  {
   "cell_type": "code",
   "execution_count": 6,
   "metadata": {},
   "outputs": [
    {
     "data": {
      "text/html": [
       "<div>\n",
       "<style scoped>\n",
       "    .dataframe tbody tr th:only-of-type {\n",
       "        vertical-align: middle;\n",
       "    }\n",
       "\n",
       "    .dataframe tbody tr th {\n",
       "        vertical-align: top;\n",
       "    }\n",
       "\n",
       "    .dataframe thead th {\n",
       "        text-align: right;\n",
       "    }\n",
       "</style>\n",
       "<table border=\"1\" class=\"dataframe\">\n",
       "  <thead>\n",
       "    <tr style=\"text-align: right;\">\n",
       "      <th></th>\n",
       "      <th>ID</th>\n",
       "      <th>Resume_str</th>\n",
       "      <th>Resume_html</th>\n",
       "      <th>Category</th>\n",
       "    </tr>\n",
       "  </thead>\n",
       "  <tbody>\n",
       "    <tr>\n",
       "      <th>1335</th>\n",
       "      <td>24703983</td>\n",
       "      <td>ACCOUNTANT       Summary    Experienc...</td>\n",
       "      <td>&lt;div class=\"fontsize fontface vmargins hmargin...</td>\n",
       "      <td>AUTOMOBILE</td>\n",
       "    </tr>\n",
       "    <tr>\n",
       "      <th>1282</th>\n",
       "      <td>73282756</td>\n",
       "      <td>DIRECTOR OF DIGITAL INNOVATION AND ST...</td>\n",
       "      <td>&lt;div class=\"fontsize fontface vmargins hmargin...</td>\n",
       "      <td>DIGITAL-MEDIA</td>\n",
       "    </tr>\n",
       "    <tr>\n",
       "      <th>2029</th>\n",
       "      <td>12826414</td>\n",
       "      <td>DIRECTOR OF PIPELINE OPERATIONS      ...</td>\n",
       "      <td>&lt;div class=\"fontsize fontface vmargins hmargin...</td>\n",
       "      <td>CONSTRUCTION</td>\n",
       "    </tr>\n",
       "    <tr>\n",
       "      <th>395</th>\n",
       "      <td>69532425</td>\n",
       "      <td>PRE-SERVICE TEACHER         Summary  ...</td>\n",
       "      <td>&lt;div class=\"fontsize fontface vmargins hmargin...</td>\n",
       "      <td>TEACHER</td>\n",
       "    </tr>\n",
       "    <tr>\n",
       "      <th>829</th>\n",
       "      <td>19774173</td>\n",
       "      <td>SALES ASSOCIATE       Objective    To...</td>\n",
       "      <td>&lt;div class=\"fontsize fontface vmargins hmargin...</td>\n",
       "      <td>FITNESS</td>\n",
       "    </tr>\n",
       "  </tbody>\n",
       "</table>\n",
       "</div>"
      ],
      "text/plain": [
       "            ID                                         Resume_str  \\\n",
       "1335  24703983           ACCOUNTANT       Summary    Experienc...   \n",
       "1282  73282756           DIRECTOR OF DIGITAL INNOVATION AND ST...   \n",
       "2029  12826414           DIRECTOR OF PIPELINE OPERATIONS      ...   \n",
       "395   69532425           PRE-SERVICE TEACHER         Summary  ...   \n",
       "829   19774173           SALES ASSOCIATE       Objective    To...   \n",
       "\n",
       "                                            Resume_html       Category  \n",
       "1335  <div class=\"fontsize fontface vmargins hmargin...     AUTOMOBILE  \n",
       "1282  <div class=\"fontsize fontface vmargins hmargin...  DIGITAL-MEDIA  \n",
       "2029  <div class=\"fontsize fontface vmargins hmargin...   CONSTRUCTION  \n",
       "395   <div class=\"fontsize fontface vmargins hmargin...        TEACHER  \n",
       "829   <div class=\"fontsize fontface vmargins hmargin...        FITNESS  "
      ]
     },
     "execution_count": 6,
     "metadata": {},
     "output_type": "execute_result"
    }
   ],
   "source": [
    "data = df.copy().iloc[\n",
    "    0:200,\n",
    "]\n",
    "data.head()\n"
   ]
  },
  {
   "cell_type": "code",
   "execution_count": 7,
   "metadata": {},
   "outputs": [
    {
     "name": "stdout",
     "output_type": "stream",
     "text": [
      "<class 'pandas.core.frame.DataFrame'>\n",
      "Index: 200 entries, 1335 to 1848\n",
      "Data columns (total 4 columns):\n",
      " #   Column       Non-Null Count  Dtype \n",
      "---  ------       --------------  ----- \n",
      " 0   ID           200 non-null    int64 \n",
      " 1   Resume_str   200 non-null    object\n",
      " 2   Resume_html  200 non-null    object\n",
      " 3   Category     200 non-null    object\n",
      "dtypes: int64(1), object(3)\n",
      "memory usage: 7.8+ KB\n"
     ]
    },
    {
     "data": {
      "text/plain": [
       "ID        Resume_str                                                                                                                                                                                                                                                                                                                                                                                                                                                                                                                                                                                                                                                                                                                                                                                                                                                                                                                                                                                                                                                                                                                                                                                                                                                                                                                                                                                                                                                                                                                                                                                                                                                                                                                                                                                                                                                                                                                                                                                                                                                                                                                                                                                                                                                                                                                                                                                                                                                                                                                                                                                                                                                                                                                                                                                                                                                                                                                                                                                                                                                                                                                                                                                                                                                                                                                                                                                                                                                                                                                                                                                                                                                                                                                                                                                                                                                                                                                                                                                                                                                                                                                                                                                                                                                                                                                                                                                                                                                                                                                                                                                                                                                                                                                                                                                                                                                                                                                                                                                                                                                                                                                                                                                                                                                                                                                                                                                                                                                                                                                                                                                                                                                                                                                                                                                                                                                                                                                                                                                                                                                                                                                                                                                                                                                                                                                                                                                                                                                                                                                                                                                                                                                                                                                                                                                                                                                                                                                                                                                                                                                                                                                                                                                                                                                                                                                                                                                                                                                                                                                                                                                                                                                                                                                                                                                                                                                                                                                                                                                                                                                                                                                                                                                                                                                                                                                                                                                                                                                                                                                                                                                                                                                                                                                                                                             Resume_html                                                                                                                                                                                                                                                                                                                                                                                                                                                                                                                                                                                                                                                                                                                                                                                                                                                                                                                                                                                                                                                                                                                                                                                                                                                                                                                                                                                                                                                                                                                                                                                                                                                                                                                                                                                                                                                                                                                                                                                                                                                                                                                                                                                                                                                                                                                                                                                                                                                                                                                                                                                                                                                                                                                                                                                                                                                                                                                                                                                                                                                                                                                                                                                                                                                                                                                                                                                                                                                                                                                                                                                                                                                                                                                                                                                                                                                                                                                                                                                                                                                                                                                                                                                                                                                                                                                                                                                                                                                                                                                                                                                                                                                                                                                                                                                                                                                                                                                                                                                                                                                                                                                                                                                                                                                                                                                                                                                                                                                                                                                                                                                                                                                                                                                                                                                                                                                                                                                                                                                                                                                                                                                                                                                                                                                                                                                                                                                                                                                                                                                                                                                                                                                                                                                                                                                                                                                                                                                                                                                                                                                                                                                                                                                                                                                                                                                                                                                                                                                                                                                                                                                                                                                                                                                                                                                                                                                                                                                                                                                                                                                                                                                                                                                                                                                                                                                                                                                                                                                                                                                                                                                                                                                                                                                                                                                                                                                                                                                                                                                                                                                                                                                                                                                                                                                                                                                                                                                                                                                                                                                                                                                                                                                                                                                                                                                                                                                                                                                                                                                                                                                                                                                                                                                                                                                                                                                                                                                                                                                                                                                                                                                                                                                                                                                                                                                                                                                                                                                                                                                                                                                                                                                                                                                                                                                                                                                                                                                                                                                                                                                                                                                                                                                                                                                                                                                                                                                                                                                                                                                                                                                                                                                                                                                                                                                                                                                                                                                                                                                                                                                                                                                                                                                                                                                                                                                                                                                                                                                                                                                                                                                                                                                                                                                                                                                                                                                                                                                                                                                                                                                                                                                                                                                                                                                                                                                                                                                                                                                                                                                                                                                                                                                                                                                                                                                                                                                                                                                                                                                                                                                                                                                                                                                                                                                                                                                                                                                                                                                                                                                                                                                                                                                                                                                                                                                                                                                                                                                                                                                                                                                                                                                                                                                                                                                                                                                                                                                                                                                                                                                                                                                                                                                                                                                                                                                                                                                                                                                                                                                                                                                                                                                                                                                                                                                                                                                                                                                                                                                                                                                                                                                                                                                                                                                                                                                                                                                                                                                                                                                                                                                                                                                                                                                                                                                                                                                                                                                                                                                                                                                                                                                                                                                                                                                                                                                                                                                                                                                                                                                                                                                                                                                                                                                                                                                                                                                                                                                                                                                                                                                                                                                                                                                                                                                                                                                                                                                                                                                                                                                                                                                                                                                                                                                                                                                                                                                                                                                                                                                                                                                                                                                                                                                                                                                                                                                                                                                                                                                                                                                                                                                                                                                                                                                                                                                                                                                                                                                                                                                                                                                                                                                                                                                                                                                                                        Category              \n",
       "10235429  FITNESS INSTRUCTOR         Professional Summary    Dynamic, entrepreneurial sales executive with a record of achievement and success driving sales growth in highly competitive markets. Solid background securing key clients and increasing product distribution to grow market share. Steadfast in building new business, securing customer loyalty, and developing strong relationships with external business partners. Well organized with a track record that demonstrates self-motivation, creativity and the initiative to achieve both personal and corporate goals.      Skills         Sales Management   Account Management   Program Management   Client Relationships   Product Marketing     Customer Retention   Distribution Strategies   Team Leadership   Wine & Spirits/Beverage Industry            Experience      Fitness Instructor  ,   02/2013   to   Current     Company Name   –   City  ,   State    Teach energetic workouts that are challenging and motivating, yet safe. Provide students individualized hands-on adjustment throughout class. Address each student by name during class and cultivate long term relationships. Organized the 2014 Fitness Kick-off Challenge in which local vendors provided educational seminars/products to inspire a commitment to a healthier lifestyle. Assist clients of all ages and fitness levels in improving health and wellness.       Owner  ,   01/2011   to   Current     Company Name   –   City  ,   State    Founder of a stand up paddle board business consisting of retail sales, rentals and lessons. Hands on involvement from lease contract negotiations to build-out, to website development and marketing strategy. On site management of all daily operations as well as recruiting, hiring and training staff. Responsible for all aspects of business including inventory management, product education, payroll, and social media outreach. Organized corporate outings and charity fundraisers. Became the first and only Austin stand up paddle board company to offer online reservations for clients. Achieved an overall 5 star rating on YELP within the first year of business. The company is closing October 31, 2014.       Central Regional Manager  ,   10/2008   to   03/2011     Company Name   –   City  ,   State    Successfully executed sales and managed an eight state region consisting of two distributors/brokers, with a combined total sales of approximately $2.7 million. Developed and implemented a promotional calendar for regional locations of national food stores. Collaborated with corporate buyers on private label product development and program management. Worked as a team with distributor management and staff to educate and develop programs for increasing product knowledge, market presence and sales. Monthly conference calls with broker principals to review performance, goals and opportunities. Conducted educational tea classes for retail sales partners as well as consumers.       Fine Wine Specialist  ,   2008   to   2008     Company Name   –   City  ,   State    Developed relationships with on/off premise accounts to identify opportunities for product placement. Conducted wait staff training seminars and designed wine by the glass programs to support the Diamond portfolio. Assisted with inventory management and stock rotation. Set shelf space, cold box and built displays to support supplier promotions and incentive programs. Demonstrated sales abilities through successful presentation and promotion of new and existing products and the expansion of business. Met or exceeded assigned monthly quotas and placement objectives.       Western Regional Sales Manager  ,   2005   to   2008     Company Name   –   City  ,   State    Proficiently managed sales in a six state region comprised of eight different distributors/brokers, with combined total sales of approximately $1million. Interfaced directly with buyers, distributor management, sales representatives and marketing associates located throughout the territory. Conducted regular reviews with distributor management to ensure consistent performance to goal. Attended distributor sales meetings to present and educate representatives on new and existing products. Designed and implemented various sales incentives with a focus on elevating performance. Provided product training and promotional strategies to sales representatives and restaurant and retail staff. Developed Excel program to track monthly performance to goal.Increased overall sales in region by 9.5%.       California Area Sales Manager  ,   2002   to   2004     Company Name   –   City  ,   State    Interfaced with key on/off-premise accounts, working in partnership with the distributor sales force to promote brand building and line expansion of existing brands within the portfolio. Conducted trade and public tastings, special promotions and wine maker dinners. Achieved growth in 13 focus brands resulting in a 24% increase in sales.       Wine Steward/Educator  ,   2001   to   2002     Company Name   –   City  ,   State    Instrumental in developing and implementing the bi-monthly wine class for consumers. Created content and format of class material and presented it in a manner that was informative yet fun. As head of the wine department, responsible for driving sales, monthly promotions and all merchandising. Operated in a management capacity when opening or closing the store. Managed staff, reconciled all bank transactions, generated reports and ensured the store was properly stocked and detailed. Provided assistance to customers with wine selections and food/wine \\r\\npairing, made product recommendations and developed rapport to promote \\r\\ncustomer loyalty and repeat business.       Wine Educator  ,   2000   to   2001     Company Name   –   City  ,   State    Responsible for daily operation of the Terrace Wine Bar at the Golden Vine Winery, hosted by Robert Mondavi at Disney's California Adventure. Conducted guided wine tastings for guests and educational seminars and tastings for the restaurant staff.       Product Marketing Manager  ,   1995   to   1998     Company Name   –   City  ,   State           Memory Products Buyer  ,   1988   to   1991     Company Name   –   City  ,   State    Additional purchasing experience with two high-technology firms in Austin, TX,.       Education      High School Diploma  :         University of Texas   -   City  ,   State    Communications       Volunteering    Blue Dog Rescue Best Friends Animal Sanctuary      Certifications    2013 Certified Bar Method Fitness Instructor, 2012\\r\\nCertified Power Yoga and Yoga Sculpt Instructor, 2002 Court of Masters Sommelier -Level One Certification                                                                                                                                                                                                                                                                                                                                                                                                                                                                                                                                                                                                                                                                                                                                                                                                                                                                                                                                                                                                                                                                                                                                                                                                                                                                                                                                                                                                                                                                                                                                                                                                                                                                                                                                                                                                                                                         <div class=\"fontsize fontface vmargins hmargins linespacing pagesize\" id=\"document\"> <div class=\"section firstsection\" id=\"SECTION_NAME515138965\" style=\"\\r\\n      padding-top:0px;\\r\\n    \"> <div class=\"paragraph PARAGRAPH_NAME firstparagraph\" id=\"PARAGRAPH_515138965_1_336325748\"> <div class=\"name\" itemprop=\"name\"> <span class=\"field\" id=\"515138965FNAM1\"> </span> <span> </span> <span class=\"field\" id=\"515138965LNAM1\"> FITNESS INSTRUCTOR</span> </div> <div class=\"lowerborder\"> </div> </div> </div> <div class=\"section\" id=\"SECTION_SUMM515138969\" style=\"\\r\\n      padding-top:0px;\\r\\n    \"> <div class=\"heading\"> <div class=\"sectiontitle\" id=\"SECTNAME_SUMM515138969\"> Professional Summary</div> </div> <div class=\"paragraph firstparagraph\" id=\"PARAGRAPH_515138969_1_336325762\"> <div class=\"field singlecolumn\" id=\"515138969FRFM1\"> Dynamic, entrepreneurial sales executive with a record of achievement and success driving sales growth in highly competitive markets. Solid background securing key clients and increasing product distribution to grow market share. Steadfast in building new business, securing customer loyalty, and developing strong relationships with external business partners. Well organized with a track record that demonstrates self-motivation, creativity and the initiative to achieve both personal and corporate goals.</div> </div> </div> <div class=\"section\" id=\"SECTION_HILT515139159\" style=\"\\r\\n      padding-top:0px;\\r\\n    \"> <div class=\"heading\"> <div class=\"sectiontitle\" id=\"SECTNAME_HILT515139159\"> Skills</div> </div> <div class=\"paragraph firstparagraph\" id=\"PARAGRAPH_515139159_1_336330303\"> <div class=\"singlecolumn maincolumn\"> <table class=\"twocol\"> <tbody> <tr> <td class=\"field twocol_1\" id=\"515139159SKC11\"> <div style=\"text-align: center;\"> Sales Management<br/> </div> <div style=\"text-align: center;\"> Account Management<br/> </div> <div style=\"text-align: center;\"> Program Management<br/> </div> <div style=\"text-align: center;\"> Client Relationships<br/> </div> <div style=\"text-align: center;\"> Product Marketing<br/> </div> </td> <td class=\"field twocol_2\" id=\"515139159SKC21\"> <div style=\"text-align: center;\"> Customer Retention<br/> </div> <div style=\"text-align: center;\"> Distribution Strategies<br/> </div> <div style=\"text-align: center;\"> Team Leadership<br/> </div> <div style=\"text-align: center;\"> Wine &amp; Spirits/Beverage Industry<br/> </div> </td> </tr> </tbody> </table> </div> </div> </div> <div class=\"section\" id=\"SECTION_EXPR515138967\" style=\"\\r\\n      padding-top:0px;\\r\\n    \"> <div class=\"heading\"> <div class=\"sectiontitle\" id=\"SECTNAME_EXPR515138967\"> Experience</div> </div> <div class=\"paragraph firstparagraph\" id=\"PARAGRAPH_515138967_1_336325750\" itemscope=\"\" itemtype=\"https://schema.org/Organization\"> <div class=\"singlecolumn\"> <span class=\"paddedline\"> <span class=\"jobtitle\" id=\"515138967JTIT1\"> Fitness Instructor</span> <span> , </span> <span class=\"jobdates\" format=\"%m/%Y\" id=\"515138967JSTD1\"> 02/2013</span> <span>  to </span> <span class=\"jobdates\" format=\"%m/%Y\" id=\"515138967EDDT1\"> Current</span> <br/> </span> <span class=\"paddedline\" itemscope=\"\" itemtype=\"https://schema.org/postalAddress\"> <span class=\"companyname\" id=\"515138967COMP1\" itemprop=\"name\"> Company Name</span> <span>  – </span> <span class=\"joblocation jobcity\" id=\"515138967JCIT1\" itemprop=\"addressLocality\"> City</span> <span> , </span> <span class=\"joblocation jobstate\" id=\"515138967JSTA1\" itemprop=\"addressRegion\"> State</span> <br/> </span> <span class=\"jobline\" id=\"515138967JDES1\" itemprop=\"description\"> Teach energetic workouts that are challenging and motivating, yet safe. Provide students individualized hands-on adjustment throughout class. Address each student by name during class and cultivate long term relationships. Organized the 2014 Fitness Kick-off Challenge in which local vendors provided educational seminars/products to inspire a commitment to a healthier lifestyle. Assist clients of all ages and fitness levels in improving health and wellness.</span> </div> </div> <div class=\"paragraph\" id=\"PARAGRAPH_515138967_2_336325751\" itemscope=\"\" itemtype=\"https://schema.org/Organization\"> <div class=\"singlecolumn\"> <span class=\"paddedline\"> <span class=\"jobtitle\" id=\"515138967JTIT2\"> Owner</span> <span> , </span> <span class=\"jobdates\" format=\"%m/%Y\" id=\"515138967JSTD2\"> 01/2011</span> <span>  to </span> <span class=\"jobdates\" format=\"%m/%Y\" id=\"515138967EDDT2\"> Current</span> <br/> </span> <span class=\"paddedline\" itemscope=\"\" itemtype=\"https://schema.org/postalAddress\"> <span class=\"companyname\" id=\"515138967COMP2\" itemprop=\"name\"> Company Name</span> <span>  – </span> <span class=\"joblocation jobcity\" id=\"515138967JCIT2\" itemprop=\"addressLocality\"> City</span> <span> , </span> <span class=\"joblocation jobstate\" id=\"515138967JSTA2\" itemprop=\"addressRegion\"> State</span> <br/> </span> <span class=\"jobline\" id=\"515138967JDES2\" itemprop=\"description\"> Founder of a stand up paddle board business consisting of retail sales, rentals and lessons. Hands on involvement from lease contract negotiations to build-out, to website development and marketing strategy. On site management of all daily operations as well as recruiting, hiring and training staff. Responsible for all aspects of business including inventory management, product education, payroll, and social media outreach. Organized corporate outings and charity fundraisers. Became the first and only Austin stand up paddle board company to offer online reservations for clients. Achieved an overall 5 star rating on YELP within the first year of business. The company is closing October 31, 2014.</span> </div> </div> <div class=\"paragraph\" id=\"PARAGRAPH_515138967_3_336325752\" itemscope=\"\" itemtype=\"https://schema.org/Organization\"> <div class=\"singlecolumn\"> <span class=\"paddedline\"> <span class=\"jobtitle\" id=\"515138967JTIT3\"> Central Regional Manager</span> <span> , </span> <span class=\"jobdates\" format=\"%m/%Y\" id=\"515138967JSTD3\"> 10/2008</span> <span>  to </span> <span class=\"jobdates\" format=\"%m/%Y\" id=\"515138967EDDT3\"> 03/2011</span> <br/> </span> <span class=\"paddedline\" itemscope=\"\" itemtype=\"https://schema.org/postalAddress\"> <span class=\"companyname\" id=\"515138967COMP3\" itemprop=\"name\"> Company Name</span> <span>  – </span> <span class=\"joblocation jobcity\" id=\"515138967JCIT3\" itemprop=\"addressLocality\"> City</span> <span> , </span> <span class=\"joblocation jobstate\" id=\"515138967JSTA3\" itemprop=\"addressRegion\"> State</span> <br/> </span> <span class=\"jobline\" id=\"515138967JDES3\" itemprop=\"description\"> Successfully executed sales and managed an eight state region consisting of two distributors/brokers, with a combined total sales of approximately $2.7 million. Developed and implemented a promotional calendar for regional locations of national food stores. Collaborated with corporate buyers on private label product development and program management. Worked as a team with distributor management and staff to educate and develop programs for increasing product knowledge, market presence and sales. Monthly conference calls with broker principals to review performance, goals and opportunities. Conducted educational tea classes for retail sales partners as well as consumers.</span> </div> </div> <div class=\"paragraph\" id=\"PARAGRAPH_515138967_4_336325753\" itemscope=\"\" itemtype=\"https://schema.org/Organization\"> <div class=\"singlecolumn\"> <span class=\"paddedline\"> <span class=\"jobtitle\" id=\"515138967JTIT4\"> Fine Wine Specialist</span> <span> , </span> <span class=\"jobdates\" format=\"%m/%Y\" id=\"515138967JSTD4\"> 2008</span> <span>  to </span> <span class=\"jobdates\" format=\"%m/%Y\" id=\"515138967EDDT4\"> 2008</span> <br/> </span> <span class=\"paddedline\" itemscope=\"\" itemtype=\"https://schema.org/postalAddress\"> <span class=\"companyname\" id=\"515138967COMP4\" itemprop=\"name\"> Company Name</span> <span>  – </span> <span class=\"joblocation jobcity\" id=\"515138967JCIT4\" itemprop=\"addressLocality\"> City</span> <span> , </span> <span class=\"joblocation jobstate\" id=\"515138967JSTA4\" itemprop=\"addressRegion\"> State</span> <br/> </span> <span class=\"jobline\" id=\"515138967JDES4\" itemprop=\"description\"> Developed relationships with on/off premise accounts to identify opportunities for product placement. Conducted wait staff training seminars and designed wine by the glass programs to support the Diamond portfolio. Assisted with inventory management and stock rotation. Set shelf space, cold box and built displays to support supplier promotions and incentive programs. Demonstrated sales abilities through successful presentation and promotion of new and existing products and the expansion of business. Met or exceeded assigned monthly quotas and placement objectives.</span> </div> </div> <div class=\"paragraph\" id=\"PARAGRAPH_515138967_5_336325754\" itemscope=\"\" itemtype=\"https://schema.org/Organization\"> <div class=\"singlecolumn\"> <span class=\"paddedline\"> <span class=\"jobtitle\" id=\"515138967JTIT5\"> Western Regional Sales Manager</span> <span> , </span> <span class=\"jobdates\" format=\"%m/%Y\" id=\"515138967JSTD5\"> 2005</span> <span>  to </span> <span class=\"jobdates\" format=\"%m/%Y\" id=\"515138967EDDT5\"> 2008</span> <br/> </span> <span class=\"paddedline\" itemscope=\"\" itemtype=\"https://schema.org/postalAddress\"> <span class=\"companyname\" id=\"515138967COMP5\" itemprop=\"name\"> Company Name</span> <span>  – </span> <span class=\"joblocation jobcity\" id=\"515138967JCIT5\" itemprop=\"addressLocality\"> City</span> <span> , </span> <span class=\"joblocation jobstate\" id=\"515138967JSTA5\" itemprop=\"addressRegion\"> State</span> <br/> </span> <span class=\"jobline\" id=\"515138967JDES5\" itemprop=\"description\"> Proficiently managed sales in a six state region comprised of eight different distributors/brokers, with combined total sales of approximately $1million. Interfaced directly with buyers, distributor management, sales representatives and marketing associates located throughout the territory. Conducted regular reviews with distributor management to ensure consistent performance to goal. Attended distributor sales meetings to present and educate representatives on new and existing products. Designed and implemented various sales incentives with a focus on elevating performance. Provided product training and promotional strategies to sales representatives and restaurant and retail staff. Developed Excel program to track monthly performance to goal.Increased overall sales in region by 9.5%.</span> </div> </div> <div class=\"paragraph\" id=\"PARAGRAPH_515138967_6_336325755\" itemscope=\"\" itemtype=\"https://schema.org/Organization\"> <div class=\"singlecolumn\"> <span class=\"paddedline\"> <span class=\"jobtitle\" id=\"515138967JTIT6\"> California Area Sales Manager</span> <span> , </span> <span class=\"jobdates\" format=\"%m/%Y\" id=\"515138967JSTD6\"> 2002</span> <span>  to </span> <span class=\"jobdates\" format=\"%m/%Y\" id=\"515138967EDDT6\"> 2004</span> <br/> </span> <span class=\"paddedline\" itemscope=\"\" itemtype=\"https://schema.org/postalAddress\"> <span class=\"companyname\" id=\"515138967COMP6\" itemprop=\"name\"> Company Name</span> <span>  – </span> <span class=\"joblocation jobcity\" id=\"515138967JCIT6\" itemprop=\"addressLocality\"> City</span> <span> , </span> <span class=\"joblocation jobstate\" id=\"515138967JSTA6\" itemprop=\"addressRegion\"> State</span> <br/> </span> <span class=\"jobline\" id=\"515138967JDES6\" itemprop=\"description\"> Interfaced with key on/off-premise accounts, working in partnership with the distributor sales force to promote brand building and line expansion of existing brands within the portfolio. Conducted trade and public tastings, special promotions and wine maker dinners. Achieved growth in 13 focus brands resulting in a 24% increase in sales.</span> </div> </div> <div class=\"paragraph\" id=\"PARAGRAPH_515138967_7_336325756\" itemscope=\"\" itemtype=\"https://schema.org/Organization\"> <div class=\"singlecolumn\"> <span class=\"paddedline\"> <span class=\"jobtitle\" id=\"515138967JTIT7\"> Wine Steward/Educator</span> <span> , </span> <span class=\"jobdates\" format=\"%m/%Y\" id=\"515138967JSTD7\"> 2001</span> <span>  to </span> <span class=\"jobdates\" format=\"%m/%Y\" id=\"515138967EDDT7\"> 2002</span> <br/> </span> <span class=\"paddedline\" itemscope=\"\" itemtype=\"https://schema.org/postalAddress\"> <span class=\"companyname\" id=\"515138967COMP7\" itemprop=\"name\"> Company Name</span> <span>  – </span> <span class=\"joblocation jobcity\" id=\"515138967JCIT7\" itemprop=\"addressLocality\"> City</span> <span> , </span> <span class=\"joblocation jobstate\" id=\"515138967JSTA7\" itemprop=\"addressRegion\"> State</span> <br/> </span> <span class=\"jobline\" id=\"515138967JDES7\" itemprop=\"description\"> Instrumental in developing and implementing the bi-monthly wine class for consumers. Created content and format of class material and presented it in a manner that was informative yet fun. As head of the wine department, responsible for driving sales, monthly promotions and all merchandising. Operated in a management capacity when opening or closing the store. Managed staff, reconciled all bank transactions, generated reports and ensured the store was properly stocked and detailed. Provided assistance to customers with wine selections and food/wine \\r\\npairing, made product recommendations and developed rapport to promote \\r\\ncustomer loyalty and repeat business.</span> </div> </div> <div class=\"paragraph\" id=\"PARAGRAPH_515138967_8_336325757\" itemscope=\"\" itemtype=\"https://schema.org/Organization\"> <div class=\"singlecolumn\"> <span class=\"paddedline\"> <span class=\"jobtitle\" id=\"515138967JTIT8\"> Wine Educator</span> <span> , </span> <span class=\"jobdates\" format=\"%m/%Y\" id=\"515138967JSTD8\"> 2000</span> <span>  to </span> <span class=\"jobdates\" format=\"%m/%Y\" id=\"515138967EDDT8\"> 2001</span> <br/> </span> <span class=\"paddedline\" itemscope=\"\" itemtype=\"https://schema.org/postalAddress\"> <span class=\"companyname\" id=\"515138967COMP8\" itemprop=\"name\"> Company Name</span> <span>  – </span> <span class=\"joblocation jobcity\" id=\"515138967JCIT8\" itemprop=\"addressLocality\"> City</span> <span> , </span> <span class=\"joblocation jobstate\" id=\"515138967JSTA8\" itemprop=\"addressRegion\"> State</span> <br/> </span> <span class=\"jobline\" id=\"515138967JDES8\" itemprop=\"description\"> Responsible for daily operation of the Terrace Wine Bar at the Golden Vine Winery, hosted by Robert Mondavi at Disney's California Adventure. Conducted guided wine tastings for guests and educational seminars and tastings for the restaurant staff.</span> </div> </div> <div class=\"paragraph\" id=\"PARAGRAPH_515138967_9_336325758\" itemscope=\"\" itemtype=\"https://schema.org/Organization\"> <div class=\"singlecolumn\"> <span class=\"paddedline\"> <span class=\"jobtitle\" id=\"515138967JTIT9\"> Product Marketing Manager</span> <span> , </span> <span class=\"jobdates\" format=\"%m/%Y\" id=\"515138967JSTD9\"> 1995</span> <span>  to </span> <span class=\"jobdates\" format=\"%m/%Y\" id=\"515138967EDDT9\"> 1998</span> <br/> </span> <span class=\"paddedline\" itemscope=\"\" itemtype=\"https://schema.org/postalAddress\"> <span class=\"companyname\" id=\"515138967COMP9\" itemprop=\"name\"> Company Name</span> <span>  – </span> <span class=\"joblocation jobcity\" id=\"515138967JCIT9\" itemprop=\"addressLocality\"> City</span> <span> , </span> <span class=\"joblocation jobstate\" id=\"515138967JSTA9\" itemprop=\"addressRegion\"> State</span> <br/> </span> <span class=\"jobline\" id=\"515138967JDES9\" itemprop=\"description\"> </span> </div> </div> <div class=\"paragraph\" id=\"PARAGRAPH_515138967_10_336325759\" itemscope=\"\" itemtype=\"https://schema.org/Organization\"> <div class=\"singlecolumn\"> <span class=\"paddedline\"> <span class=\"jobtitle\" id=\"515138967JTIT10\"> Memory Products Buyer</span> <span> , </span> <span class=\"jobdates\" format=\"%m/%Y\" id=\"515138967JSTD10\"> 1988</span> <span>  to </span> <span class=\"jobdates\" format=\"%m/%Y\" id=\"515138967EDDT10\"> 1991</span> <br/> </span> <span class=\"paddedline\" itemscope=\"\" itemtype=\"https://schema.org/postalAddress\"> <span class=\"companyname\" id=\"515138967COMP10\" itemprop=\"name\"> Company Name</span> <span>  – </span> <span class=\"joblocation jobcity\" id=\"515138967JCIT10\" itemprop=\"addressLocality\"> City</span> <span> , </span> <span class=\"joblocation jobstate\" id=\"515138967JSTA10\" itemprop=\"addressRegion\"> State</span> <br/> </span> <span class=\"jobline\" id=\"515138967JDES10\" itemprop=\"description\"> Additional purchasing experience with two high-technology firms in Austin, TX,.</span> </div> </div> </div> <div class=\"section\" id=\"SECTION_EDUC515138968\" style=\"\\r\\n      padding-top:0px;\\r\\n    \"> <div class=\"heading\"> <div class=\"sectiontitle\" id=\"SECTNAME_EDUC515138968\"> Education</div> </div> <div class=\"paragraph firstparagraph\" id=\"PARAGRAPH_515138968_1_336325761\" itemscope=\"\" itemtype=\"https://schema.org/EducationalOrganization\"> <div class=\"singlecolumn\"> <span class=\"paddedline\" itemprop=\"description\"> <span class=\"degree\" id=\"515138968DGRE1\" itemprop=\"name\"> High School Diploma</span> <span> : </span> <span class=\"programline\" id=\"515138968STUY1\"> </span> <span class=\"jobdates\" id=\"515138968GRYR1\"> </span> </span> <span class=\"paddedline\"> <span class=\"companyname companyname_educ\" id=\"515138968SCHO1\" itemprop=\"name\"> University of Texas</span> <span>  - </span> <span class=\"joblocation jobcity\" id=\"515138968SCIT1\"> City</span> <span> , </span> <span class=\"joblocation jobstate\" id=\"515138968SSTA1\"> State</span> <br/> </span> <span class=\"field\" id=\"515138968FRFM1\"> Communications</span> </div> </div> </div> <div class=\"section\" id=\"SECTION_SKLL515138972\" style=\"\\r\\n      padding-top:0px;\\r\\n    \"> <div class=\"heading\"> <div class=\"sectiontitle\" id=\"SECTNAME_SKLL515138972\"> Volunteering</div> </div> <div class=\"paragraph firstparagraph\" id=\"PARAGRAPH_515138972_1_336325765\"> <div class=\"field singlecolumn\" id=\"515138972FRFM1\"> Blue Dog Rescue<br/> Best Friends Animal Sanctuary</div> </div> </div> <div class=\"section\" id=\"SECTION_CERT515138970\" style=\"\\r\\n      padding-top:0px;\\r\\n    \"> <div class=\"heading\"> <div class=\"sectiontitle\" id=\"SECTNAME_CERT515138970\"> Certifications</div> </div> <div class=\"paragraph firstparagraph\" id=\"PARAGRAPH_515138970_1_336325763\"> <div class=\"field singlecolumn\" id=\"515138970FRFM1\"> 2013 Certified Bar Method Fitness Instructor, 2012\\r\\nCertified Power Yoga and Yoga Sculpt Instructor, 2002 Court of Masters Sommelier -Level One Certification</div> </div> </div> </div>                                                                                                                                                                                                                                                                                                                                                                                                                                                                                                                                                                                                                                                                                                                                                                                                                                                                                                                                                                                                                                                                                                                                                                                                                                                                                                                                                                                                                                                                                                                                                                                                                                                                                                                                                                                                                                                                                                                                                                                                                                FITNESS                   1\n",
       "32140087  SALES SUPPORT           Experience      SALES SUPPORT    February 2002   to   January 2010     Company Name   －   City  ,   State      Directed team-centric initiatives to process and release 56,000+ digitally preflight pdfx1a Run of Press /magazine ads totaling $50 million in publications via Associated Press AdSend, B-Linked AdTransit, FTP sites and platforms for Macy's, Inc.  Liaised among production department and Pre-Press teams to ensure color corrections and quality control were maintained, as well as staff at major magazines doing color mark-ups on press runs / approvals for quality control.  Implemented VIO Adsend Web Application to release digital plate Macy's ads to publications, as well as Soft Proofing for both Creative and Production Departments and AdGate Adsend program for releasing ads to publication.  Served as a Stakeholder / Team Member of a Soft Proof Committee responsible for implementation of new Approve V.1.3 Digital Color Approval / Correction System on EIZO monitors.  Led transition team centralizing four 4 / Color Run of Press (ROP) operations divisions into new Macy's, Inc.  Continually aligned costs with planned budget to decrease production expenses 25% every quarter.  Increased processing efficiency 50% decreased errors 75% via a new Adsend Roadmap for Adobe Advertising Cloud team.  Created cost-controlling production schedules to coordinate an increase in Macy's ROP and Magazine Ads.  Contributing to a $200+ million sales increase for Macy's East during a 4th Quarter Holiday Season.          Marketing Project Production Manager, Production Manager    January 2010   to   February 2018     Company Name   －   City  ,   State      Led and supervised forward-thinking teams in conceptualizing, developing dynamic templates, releasing direct mail, inserts, and outdoor ads to pre-press department and external vendors.  Coordinated final direct mail/SEM ad review meetings with SVP of Marketing Operations to facilitate sales edits, and proofread approved URL/QR Codes/Web ID's.  Managed ad traffic flow to Pre-Press and Blue Line sign offs for creative team, as well as final delivery of print and digital files to external printers via FTP sites.  Performed quality control and color correction mark-ups for completeness and accuracy.  Created InDesign templates for blow-ins/stich-ins, OOH campaigns/Omnichannel platform.  Led negotiation meetings with Creative, Pre-Press, printers, and vendors.  Continually ensured scheduled press run timekeeping within budget by 85%, by providing final roadmaps to printers.  Selected by VP of Marketing & Operations to co-train all newly hired employees because of cross-functional leadership skills.  Played a vital role in achieving $250+ million Direct Mail sales for Fall and Spring Seasons, by creating new proof process.  Receiving Macy's \"Marketing Star of the Year Awards\" from 2013 - 2018 for exemplary job performance managing inserts.  Successfully managing production of new annual Macy's Men's Fashion Book direct mail and SEM campaigns.  Advertising Project, , Color Run of Press/Magazines.          Staging Street Operations Manager    January 1998   to   January 2010     Company Name   －   City  ,   State            Assistant Production Manager    January 1998   to   January 2002     Company Name   －   City  ,   State            Marketing Manager    January 2000   to   January 2001     Company Name   －   City  ,   State            Advertising Manager, Advertising Sales Support    January 1995   to   January 1998     Company Name   －   City  ,   State            Education      Master of Business Administration   :   Marketing & Project Management      SOUTHERN NEW HAMPSHIRE UNIVERSITY                  Bachelor of Arts   :   History & Political Science (Management & Marketing)      MANHATTANVILLE COLLEGE                  PMP Certificate in Project Management   Certificate in Digital Plate Processing   Certificate in Pre-Press Preparation & Processing   Certificate in Soft Proofing   Certificate in 4 / Color Processing & Correction  Certificate in Social Media Advertising Certificate in Email Marketing   Certificate in (SEO) Search Engine Optimization  Certificate in Google Analytics Search Advertising  Certificate in Branding & Fan Building   Certificate in 3D Printing Workshop  Certificate in Digital Photography Workshop                Summary    QUALIFICATIONS FOR PROJECT MANAGER, MEMBER SUPPORT TOOLS AND PROCESS\\r\\n Innovative Leader Committed to Delivering Excellence in Marketing & Advertising and Maximizing Bottom-Line Results.\\r\\nHighly Accomplished Marketing/Advertising Project Manager with Digital/Print Production Leader, and Ad Manager experience who drives Campaign Development, trends tracking, Consulting, Project Management, and initiatives to align with a company's vision.  Innovative Thought Leader who develops synergistic campaigns for world-class print products/services, cultivating a strong brand image with superior quality. Influential Strategist who Leads Cross-Functional Teams/Processes, Advising on Creative Assets, Ad Manage on SEM Platforms, develops alliances among senior-level decision-makers, top vendors, media companies, and agencies.      Affiliations    American Marketing Association   The Organization of Black Designers   Advertising Production Club of New York\\r\\nNational Black MBA Association   Association for Project Management   Digital Marketing Association   Digital Advertising Alliance\\r\\nMacy's Thanksgiving Day Parade Committee   Macy's 4th July Fireworks Committee   The Bowery Mission   Henry Street Settlement      Highlights          Vendor Relations\\t       Project Management/OOH          4/Color Correction Specialization          Team Building / Training / Innovation  Print Production/ Schedules      Creative Team Collaboration\\t    Process Optimization\\t     Consulting / Negotiation / Maximization  Strategic Analysis / Planning     Graphic Design / Ad Traffic\\t Soft Proofing / Digital Files     Proofreading / Editing / Quality Control  Building Templates         Strategic Planning / Implementation\\t      Cost Reduction / Avoidance\\t  Turnaround / Crisis Management  Digital Photo Retouching          Microsoft Office Suite / Adobe Creative Suite / QuarkXPress          ADTransit  / ADSend  / Pre-Press              Skills    Vendor Relations\\t       Project Management/OOH          4/Color Correction Specialization          Team Building / Training / Innovation\\r\\nPrint Production/ Schedules      Creative Team Collaboration\\t    Process Optimization\\t     Consulting / Negotiation / Maximization\\r\\nStrategic Analysis / Planning     Graphic Design / Ad Traffic\\t Soft Proofing / Digital Files     Proofreading / Editing / Quality Control\\r\\nBuilding Templates         Strategic Planning / Implementation\\t      Cost Reduction / Avoidance\\t  Turnaround / Crisis Management\\r\\nDigital Photo Retouching          Microsoft Office Suite / Adobe Creative Suite / QuarkXPress          ADTransit  / ADSend  / Pre-Press                                                                                                                                                                                                                                                                                                                                                                                                                                                                                                                                                                                                                                                                                                                                                                                                                                                                                                                                                                                                                                                                                                                                                                                                                                                                                                                                                                                                                                                                         <div class=\"fontsize fontface vmargins hmargins linespacing pagesize\" id=\"document\"> <div class=\"section firstsection\" id=\"SECTION_NAME3e3b8d25-0d1d-47ea-b11a-f298476accc0\" style=\"padding-top:NaNpx;\"> <div class=\"paragraph PARAGRAPH_NAME firstparagraph\" id=\"PARAGRAPH_3e3b8d25-0d1d-47ea-b11a-f298476accc0_1_520ae66b-d6f6-465a-96db-a462013d2888\" style=\"padding-top:NaNpx;\"> <div class=\"name thinbottomborder\" itemprop=\"name\"> <span class=\"field\" id=\"3e3b8d25-0d1d-47ea-b11a-f298476accc0FNAM1\"> </span> <span> </span> <span class=\"field\" id=\"3e3b8d25-0d1d-47ea-b11a-f298476accc0LNAM1\"> SALES SUPPORT</span> </div> <div class=\"myGap\"> </div> <div class=\"lowerborder thinbottomborder\"> </div> </div> </div> <div class=\"section\" id=\"SECTION_EXPR6d744be3-b15b-4711-a93d-467d69f8bb22\" style=\"padding-top:NaNpx;\"> <div class=\"heading\"> <div class=\"sectiontitle thinbottomborder\" id=\"SECTNAME_EXPR6d744be3-b15b-4711-a93d-467d69f8bb22\"> Experience</div> </div> <div class=\"paragraph firstparagraph\" id=\"PARAGRAPH_6d744be3-b15b-4711-a93d-467d69f8bb22_1_8e1f573e-0361-4bb1-84e0-2b224f9ff903\" itemscope=\"\" itemtype=\"https://schema.org/Organization\" style=\"padding-top:NaNpx;\"> <div class=\"singlecolumn\"> <span class=\"paddedline\"> <span class=\"jobtitle\" id=\"6d744be3-b15b-4711-a93d-467d69f8bb22JTIT1\"> SALES SUPPORT</span> <br/> <span> <span class=\"jobdates\" format=\"%B %Y\" id=\"6d744be3-b15b-4711-a93d-467d69f8bb22JSTD1\"> February 2002</span> <span>  to </span> <span class=\"jobdates\" format=\"%B %Y\" id=\"6d744be3-b15b-4711-a93d-467d69f8bb22EDDT1\"> January 2010</span> </span> </span> <span class=\"paddedline\" itemscope=\"\" itemtype=\"https://schema.org/postalAddress\"> <span class=\"companyname\" id=\"6d744be3-b15b-4711-a93d-467d69f8bb22COMP1\" itemprop=\"name\"> Company Name</span> <span>  － </span> <span class=\"joblocation jobcity\" id=\"6d744be3-b15b-4711-a93d-467d69f8bb22JCIT1\" itemprop=\"addressLocality\"> City</span> <span> , </span> <span class=\"joblocation jobstate\" id=\"6d744be3-b15b-4711-a93d-467d69f8bb22JSTA1\" itemprop=\"addressRegion\"> State</span> </span> <span class=\"paddedline\"> <span class=\"jobline\" id=\"6d744be3-b15b-4711-a93d-467d69f8bb22JDES1\" itemprop=\"description\"> <ul> <li> Directed team-centric initiatives to process and release 56,000+ digitally preflight pdfx1a Run of Press /magazine ads totaling $50 million in publications via Associated Press AdSend, B-Linked AdTransit, FTP sites and platforms for Macy's, Inc.</li> <li> Liaised among production department and Pre-Press teams to ensure color corrections and quality control were maintained, as well as staff at major magazines doing color mark-ups on press runs / approvals for quality control.</li> <li> Implemented VIO Adsend Web Application to release digital plate Macy's ads to publications, as well as Soft Proofing for both Creative and Production Departments and AdGate Adsend program for releasing ads to publication.</li> <li> Served as a Stakeholder / Team Member of a Soft Proof Committee responsible for implementation of new Approve V.1.3 Digital Color Approval / Correction System on EIZO monitors.</li> <li> Led transition team centralizing four 4 / Color Run of Press (ROP) operations divisions into new Macy's, Inc.</li> <li> Continually aligned costs with planned budget to decrease production expenses 25% every quarter.</li> <li> Increased processing efficiency 50% decreased errors 75% via a new Adsend Roadmap for Adobe Advertising Cloud team.</li> <li> Created cost-controlling production schedules to coordinate an increase in Macy's ROP and Magazine Ads.</li> <li> Contributing to a $200+ million sales increase for Macy's East during a 4th Quarter Holiday Season.</li> </ul> </span> </span> </div> </div> <div class=\"paragraph\" id=\"PARAGRAPH_6d744be3-b15b-4711-a93d-467d69f8bb22_2_3885d38c-086a-4f3e-b9ac-5118d770953c\" itemscope=\"\" itemtype=\"https://schema.org/Organization\" style=\"padding-top:NaNpx;\"> <div class=\"singlecolumn\"> <span class=\"paddedline\"> <span class=\"jobtitle\" id=\"6d744be3-b15b-4711-a93d-467d69f8bb22JTIT2\"> Marketing Project Production Manager, Production Manager</span> <br/> <span> <span class=\"jobdates\" format=\"%B %Y\" id=\"6d744be3-b15b-4711-a93d-467d69f8bb22JSTD2\"> January 2010</span> <span>  to </span> <span class=\"jobdates\" format=\"%B %Y\" id=\"6d744be3-b15b-4711-a93d-467d69f8bb22EDDT2\"> February 2018</span> </span> </span> <span class=\"paddedline\" itemscope=\"\" itemtype=\"https://schema.org/postalAddress\"> <span class=\"companyname\" id=\"6d744be3-b15b-4711-a93d-467d69f8bb22COMP2\" itemprop=\"name\"> Company Name</span> <span>  － </span> <span class=\"joblocation jobcity\" id=\"6d744be3-b15b-4711-a93d-467d69f8bb22JCIT2\" itemprop=\"addressLocality\"> City</span> <span> , </span> <span class=\"joblocation jobstate\" id=\"6d744be3-b15b-4711-a93d-467d69f8bb22JSTA2\" itemprop=\"addressRegion\"> State</span> </span> <span class=\"paddedline\"> <span class=\"jobline\" id=\"6d744be3-b15b-4711-a93d-467d69f8bb22JDES2\" itemprop=\"description\"> <ul> <li> Led and supervised forward-thinking teams in conceptualizing, developing dynamic templates, releasing direct mail, inserts, and outdoor ads to pre-press department and external vendors.</li> <li> Coordinated final direct mail/SEM ad review meetings with SVP of Marketing Operations to facilitate sales edits, and proofread approved URL/QR Codes/Web ID's.</li> <li> Managed ad traffic flow to Pre-Press and Blue Line sign offs for creative team, as well as final delivery of print and digital files to external printers via FTP sites.</li> <li> Performed quality control and color correction mark-ups for completeness and accuracy.</li> <li> Created InDesign templates for blow-ins/stich-ins, OOH campaigns/Omnichannel platform.</li> <li> Led negotiation meetings with Creative, Pre-Press, printers, and vendors.</li> <li> Continually ensured scheduled press run timekeeping within budget by 85%, by providing final roadmaps to printers.</li> <li> Selected by VP of Marketing &amp; Operations to co-train all newly hired employees because of cross-functional leadership skills.</li> <li> Played a vital role in achieving $250+ million Direct Mail sales for Fall and Spring Seasons, by creating new proof process.</li> <li> Receiving Macy's \"Marketing Star of the Year Awards\" from 2013 - 2018 for exemplary job performance managing inserts.</li> <li> Successfully managing production of new annual Macy's Men's Fashion Book direct mail and SEM campaigns.</li> <li> Advertising Project, , Color Run of Press/Magazines.</li> </ul> </span> </span> </div> </div> <div class=\"paragraph\" id=\"PARAGRAPH_6d744be3-b15b-4711-a93d-467d69f8bb22_3_f27f8c30-c907-405b-9b99-0a479e9a7459\" itemscope=\"\" itemtype=\"https://schema.org/Organization\" style=\"padding-top:NaNpx;\"> <div class=\"singlecolumn\"> <span class=\"paddedline\"> <span class=\"jobtitle\" id=\"6d744be3-b15b-4711-a93d-467d69f8bb22JTIT3\"> Staging Street Operations Manager</span> <br/> <span> <span class=\"jobdates\" format=\"%B %Y\" id=\"6d744be3-b15b-4711-a93d-467d69f8bb22JSTD3\"> January 1998</span> <span>  to </span> <span class=\"jobdates\" format=\"%B %Y\" id=\"6d744be3-b15b-4711-a93d-467d69f8bb22EDDT3\"> January 2010</span> </span> </span> <span class=\"paddedline\" itemscope=\"\" itemtype=\"https://schema.org/postalAddress\"> <span class=\"companyname\" id=\"6d744be3-b15b-4711-a93d-467d69f8bb22COMP3\" itemprop=\"name\"> Company Name</span> <span>  － </span> <span class=\"joblocation jobcity\" id=\"6d744be3-b15b-4711-a93d-467d69f8bb22JCIT3\" itemprop=\"addressLocality\"> City</span> <span> , </span> <span class=\"joblocation jobstate\" id=\"6d744be3-b15b-4711-a93d-467d69f8bb22JSTA3\" itemprop=\"addressRegion\"> State</span> </span> <span class=\"paddedline\"> <span class=\"jobline\" id=\"6d744be3-b15b-4711-a93d-467d69f8bb22JDES3\" itemprop=\"description\"> </span> </span> </div> </div> <div class=\"paragraph\" id=\"PARAGRAPH_6d744be3-b15b-4711-a93d-467d69f8bb22_4_050d3ac9-232c-4838-baea-032b7fc0cf13\" itemscope=\"\" itemtype=\"https://schema.org/Organization\" style=\"padding-top:NaNpx;\"> <div class=\"singlecolumn\"> <span class=\"paddedline\"> <span class=\"jobtitle\" id=\"6d744be3-b15b-4711-a93d-467d69f8bb22JTIT4\"> Assistant Production Manager</span> <br/> <span> <span class=\"jobdates\" format=\"%B %Y\" id=\"6d744be3-b15b-4711-a93d-467d69f8bb22JSTD4\"> January 1998</span> <span>  to </span> <span class=\"jobdates\" format=\"%B %Y\" id=\"6d744be3-b15b-4711-a93d-467d69f8bb22EDDT4\"> January 2002</span> </span> </span> <span class=\"paddedline\" itemscope=\"\" itemtype=\"https://schema.org/postalAddress\"> <span class=\"companyname\" id=\"6d744be3-b15b-4711-a93d-467d69f8bb22COMP4\" itemprop=\"name\"> Company Name</span> <span>  － </span> <span class=\"joblocation jobcity\" id=\"6d744be3-b15b-4711-a93d-467d69f8bb22JCIT4\" itemprop=\"addressLocality\"> City</span> <span> , </span> <span class=\"joblocation jobstate\" id=\"6d744be3-b15b-4711-a93d-467d69f8bb22JSTA4\" itemprop=\"addressRegion\"> State</span> </span> <span class=\"paddedline\"> <span class=\"jobline\" id=\"6d744be3-b15b-4711-a93d-467d69f8bb22JDES4\" itemprop=\"description\"> </span> </span> </div> </div> <div class=\"paragraph\" id=\"PARAGRAPH_6d744be3-b15b-4711-a93d-467d69f8bb22_5_f6a2fefd-576d-4652-ade8-a1be00311cd8\" itemscope=\"\" itemtype=\"https://schema.org/Organization\" style=\"padding-top:NaNpx;\"> <div class=\"singlecolumn\"> <span class=\"paddedline\"> <span class=\"jobtitle\" id=\"6d744be3-b15b-4711-a93d-467d69f8bb22JTIT5\"> Marketing Manager</span> <br/> <span> <span class=\"jobdates\" format=\"%B %Y\" id=\"6d744be3-b15b-4711-a93d-467d69f8bb22JSTD5\"> January 2000</span> <span>  to </span> <span class=\"jobdates\" format=\"%B %Y\" id=\"6d744be3-b15b-4711-a93d-467d69f8bb22EDDT5\"> January 2001</span> </span> </span> <span class=\"paddedline\" itemscope=\"\" itemtype=\"https://schema.org/postalAddress\"> <span class=\"companyname\" id=\"6d744be3-b15b-4711-a93d-467d69f8bb22COMP5\" itemprop=\"name\"> Company Name</span> <span>  － </span> <span class=\"joblocation jobcity\" id=\"6d744be3-b15b-4711-a93d-467d69f8bb22JCIT5\" itemprop=\"addressLocality\"> City</span> <span> , </span> <span class=\"joblocation jobstate\" id=\"6d744be3-b15b-4711-a93d-467d69f8bb22JSTA5\" itemprop=\"addressRegion\"> State</span> </span> <span class=\"paddedline\"> <span class=\"jobline\" id=\"6d744be3-b15b-4711-a93d-467d69f8bb22JDES5\" itemprop=\"description\"> </span> </span> </div> </div> <div class=\"paragraph\" id=\"PARAGRAPH_6d744be3-b15b-4711-a93d-467d69f8bb22_6_9eab8b5d-d98b-4bb9-82f9-8795b5e12c7c\" itemscope=\"\" itemtype=\"https://schema.org/Organization\" style=\"padding-top:NaNpx;\"> <div class=\"singlecolumn\"> <span class=\"paddedline\"> <span class=\"jobtitle\" id=\"6d744be3-b15b-4711-a93d-467d69f8bb22JTIT6\"> Advertising Manager, Advertising Sales Support</span> <br/> <span> <span class=\"jobdates\" format=\"%B %Y\" id=\"6d744be3-b15b-4711-a93d-467d69f8bb22JSTD6\"> January 1995</span> <span>  to </span> <span class=\"jobdates\" format=\"%B %Y\" id=\"6d744be3-b15b-4711-a93d-467d69f8bb22EDDT6\"> January 1998</span> </span> </span> <span class=\"paddedline\" itemscope=\"\" itemtype=\"https://schema.org/postalAddress\"> <span class=\"companyname\" id=\"6d744be3-b15b-4711-a93d-467d69f8bb22COMP6\" itemprop=\"name\"> Company Name</span> <span>  － </span> <span class=\"joblocation jobcity\" id=\"6d744be3-b15b-4711-a93d-467d69f8bb22JCIT6\" itemprop=\"addressLocality\"> City</span> <span> , </span> <span class=\"joblocation jobstate\" id=\"6d744be3-b15b-4711-a93d-467d69f8bb22JSTA6\" itemprop=\"addressRegion\"> State</span> </span> <span class=\"paddedline\"> <span class=\"jobline\" id=\"6d744be3-b15b-4711-a93d-467d69f8bb22JDES6\" itemprop=\"description\"> </span> </span> </div> </div> </div> <div class=\"section\" id=\"SECTION_EDUC62ea8be9-6d23-45a6-9ec1-c0583bb1f9a3\" style=\"padding-top:NaNpx;\"> <div class=\"heading\"> <div class=\"sectiontitle thinbottomborder\" id=\"SECTNAME_EDUC62ea8be9-6d23-45a6-9ec1-c0583bb1f9a3\"> Education</div> </div> <div class=\"paragraph firstparagraph\" id=\"PARAGRAPH_62ea8be9-6d23-45a6-9ec1-c0583bb1f9a3_1_2e6c6c2c-a44d-464a-9801-b1cc1af9c236\" itemscope=\"\" itemtype=\"https://schema.org/EducationalOrganization\" style=\"padding-top:NaNpx;\"> <div class=\"singlecolumn\"> <span class=\"paddedline\" itemprop=\"description\"> <span class=\"degree\" dependency=\"DGRE\" id=\"62ea8be9-6d23-45a6-9ec1-c0583bb1f9a3DGRE1\" itemprop=\"name\"> Master of Business Administration</span> <span>  : </span> <span class=\"programline\" dependency=\"STUY\" id=\"62ea8be9-6d23-45a6-9ec1-c0583bb1f9a3STUY1\"> Marketing &amp; Project Management</span> <span class=\"jobdates\" id=\"62ea8be9-6d23-45a6-9ec1-c0583bb1f9a3GRYR1\"> </span> </span> <span class=\"paddedline\"> <span class=\"companyname companyname_educ\" dependency=\"SCHO\" id=\"62ea8be9-6d23-45a6-9ec1-c0583bb1f9a3SCHO1\" itemprop=\"name\"> SOUTHERN NEW HAMPSHIRE UNIVERSITY</span> <span class=\"joblocation jobcity\" id=\"62ea8be9-6d23-45a6-9ec1-c0583bb1f9a3SCIT1\"> </span> <span class=\"joblocation jobstate\" id=\"62ea8be9-6d23-45a6-9ec1-c0583bb1f9a3SSTA1\"> </span> <span class=\"joblocation jobstate\" id=\"62ea8be9-6d23-45a6-9ec1-c0583bb1f9a3SCNT1\"> </span> </span> <span class=\"paddedline\"> <span class=\"field\" id=\"62ea8be9-6d23-45a6-9ec1-c0583bb1f9a3FRFM1\"> </span> </span> </div> </div> <div class=\"paragraph\" id=\"PARAGRAPH_62ea8be9-6d23-45a6-9ec1-c0583bb1f9a3_2_e815bb66-69aa-418d-8142-d413203f5dce\" itemscope=\"\" itemtype=\"https://schema.org/EducationalOrganization\" style=\"padding-top:NaNpx;\"> <div class=\"singlecolumn\"> <span class=\"paddedline\" itemprop=\"description\"> <span class=\"degree\" dependency=\"DGRE\" id=\"62ea8be9-6d23-45a6-9ec1-c0583bb1f9a3DGRE2\" itemprop=\"name\"> Bachelor of Arts</span> <span>  : </span> <span class=\"programline\" dependency=\"STUY\" id=\"62ea8be9-6d23-45a6-9ec1-c0583bb1f9a3STUY2\"> History &amp; Political Science (Management &amp; Marketing)</span> <span class=\"jobdates\" id=\"62ea8be9-6d23-45a6-9ec1-c0583bb1f9a3GRYR2\"> </span> </span> <span class=\"paddedline\"> <span class=\"companyname companyname_educ\" dependency=\"SCHO\" id=\"62ea8be9-6d23-45a6-9ec1-c0583bb1f9a3SCHO2\" itemprop=\"name\"> MANHATTANVILLE COLLEGE</span> <span class=\"joblocation jobcity\" id=\"62ea8be9-6d23-45a6-9ec1-c0583bb1f9a3SCIT2\"> </span> <span class=\"joblocation jobstate\" id=\"62ea8be9-6d23-45a6-9ec1-c0583bb1f9a3SSTA2\"> </span> <span class=\"joblocation jobstate\" id=\"62ea8be9-6d23-45a6-9ec1-c0583bb1f9a3SCNT2\"> </span> </span> <span class=\"paddedline\"> <span class=\"field\" id=\"62ea8be9-6d23-45a6-9ec1-c0583bb1f9a3FRFM2\"> </span> </span> </div> </div> <div class=\"paragraph\" id=\"PARAGRAPH_62ea8be9-6d23-45a6-9ec1-c0583bb1f9a3_3_654e9ac6-13d7-4f60-a929-cdbc81f7d9b7\" itemscope=\"\" itemtype=\"https://schema.org/EducationalOrganization\" style=\"padding-top:NaNpx;\"> <div class=\"singlecolumn\"> <span class=\"paddedline\" itemprop=\"description\"> <span class=\"degree\" dependency=\"DGRE\" id=\"62ea8be9-6d23-45a6-9ec1-c0583bb1f9a3DGRE3\" itemprop=\"name\"> PMP Certificate in Project Management   Certificate in Digital Plate Processing   Certificate in Pre-Press Preparation &amp; Processing   Certificate in Soft Proofing   Certificate in 4 / Color Processing &amp; Correction  Certificate in Social Media Advertising Certificate in Email Marketing   Certificate in (SEO) Search Engine Optimization  Certificate in Google Analytics Search Advertising  Certificate in Branding &amp; Fan Building   Certificate in 3D Printing Workshop  Certificate in Digital Photography Workshop</span> <span class=\"programline\" dependency=\"STUY\" id=\"62ea8be9-6d23-45a6-9ec1-c0583bb1f9a3STUY3\"> </span> <span class=\"jobdates\" id=\"62ea8be9-6d23-45a6-9ec1-c0583bb1f9a3GRYR3\"> </span> </span> <span class=\"paddedline\"> <span class=\"field\" id=\"62ea8be9-6d23-45a6-9ec1-c0583bb1f9a3FRFM3\"> </span> </span> </div> </div> </div> <div class=\"section\" id=\"SECTION_SUMMcc8be694-8afc-41c3-a8a4-de31a4969bd0\" style=\"padding-top:NaNpx;\"> <div class=\"heading\"> <div class=\"sectiontitle thinbottomborder\" id=\"SECTNAME_SUMMcc8be694-8afc-41c3-a8a4-de31a4969bd0\"> Summary</div> </div> <div class=\"paragraph firstparagraph\" id=\"PARAGRAPH_cc8be694-8afc-41c3-a8a4-de31a4969bd0_1_22c620aa-db19-4b43-97a0-9a2f3f9b4f9a\" style=\"padding-top:NaNpx;\"> <div class=\"field singlecolumn\" id=\"cc8be694-8afc-41c3-a8a4-de31a4969bd0FRFM1\"> QUALIFICATIONS FOR PROJECT MANAGER, MEMBER SUPPORT TOOLS AND PROCESS\\r\\n Innovative Leader Committed to Delivering Excellence in Marketing &amp; Advertising and Maximizing Bottom-Line Results.\\r\\nHighly Accomplished Marketing/Advertising Project Manager with Digital/Print Production Leader, and Ad Manager experience who drives Campaign Development, trends tracking, Consulting, Project Management, and initiatives to align with a company's vision.  Innovative Thought Leader who develops synergistic campaigns for world-class print products/services, cultivating a strong brand image with superior quality. Influential Strategist who Leads Cross-Functional Teams/Processes, Advising on Creative Assets, Ad Manage on SEM Platforms, develops alliances among senior-level decision-makers, top vendors, media companies, and agencies.</div> </div> </div> <div class=\"section\" id=\"SECTION_AFIL9add3a16-fda6-4803-8db8-0b95b8e69132\" style=\"padding-top:NaNpx;\"> <div class=\"heading\"> <div class=\"sectiontitle thinbottomborder\" id=\"SECTNAME_AFIL9add3a16-fda6-4803-8db8-0b95b8e69132\"> Affiliations</div> </div> <div class=\"paragraph firstparagraph\" id=\"PARAGRAPH_9add3a16-fda6-4803-8db8-0b95b8e69132_1_fbe86e32-fc44-41cb-9a87-4b6e4859fea6\" style=\"padding-top:NaNpx;\"> <div class=\"field singlecolumn\" id=\"9add3a16-fda6-4803-8db8-0b95b8e69132FRFM1\"> American Marketing Association   The Organization of Black Designers   Advertising Production Club of New York\\r\\nNational Black MBA Association   Association for Project Management   Digital Marketing Association   Digital Advertising Alliance\\r\\nMacy's Thanksgiving Day Parade Committee   Macy's 4th July Fireworks Committee   The Bowery Mission   Henry Street Settlement</div> </div> </div> <div class=\"section\" id=\"SECTION_HILT9e67f71f-66dc-4aff-8e5f-56aa4b7c35c1\" style=\"padding-top:NaNpx;\"> <div class=\"heading\"> <div class=\"sectiontitle thinbottomborder\" id=\"SECTNAME_HILT9e67f71f-66dc-4aff-8e5f-56aa4b7c35c1\"> Highlights</div> </div> <div class=\"paragraph firstparagraph\" id=\"PARAGRAPH_9e67f71f-66dc-4aff-8e5f-56aa4b7c35c1_1_d49d5da3-3dcc-4121-a252-207e3cd138c3\" style=\"padding-top:NaNpx;\"> <div class=\"singlecolumn maincolumn\"> <table class=\"twocol\"> <tbody> <tr> <td class=\"field twocol_1 charspace\" id=\"9e67f71f-66dc-4aff-8e5f-56aa4b7c35c1SKC11\"> <ul> <li> Vendor Relations\\t       Project Management/OOH          4/Color Correction Specialization          Team Building / Training / Innovation</li> <li> Print Production/ Schedules      Creative Team Collaboration\\t    Process Optimization\\t     Consulting / Negotiation / Maximization</li> <li> Strategic Analysis / Planning     Graphic Design / Ad Traffic\\t Soft Proofing / Digital Files     Proofreading / Editing / Quality Control</li> <li> Building Templates         Strategic Planning / Implementation\\t      Cost Reduction / Avoidance\\t  Turnaround / Crisis Management</li> <li> Digital Photo Retouching          Microsoft Office Suite / Adobe Creative Suite / QuarkXPress          ADTransit  / ADSend  / Pre-Press</li> </ul> </td> <td class=\"field twocol_2 charspace\" id=\"9e67f71f-66dc-4aff-8e5f-56aa4b7c35c1SKC21\"> </td> </tr> </tbody> </table> </div> </div> </div> <div class=\"section\" id=\"SECTION_SKLL4c8eb892-ab0d-4693-a00c-f68534b07628\" style=\"padding-top:NaNpx;\"> <div class=\"heading\"> <div class=\"sectiontitle thinbottomborder\" id=\"SECTNAME_SKLL4c8eb892-ab0d-4693-a00c-f68534b07628\"> Skills</div> </div> <div class=\"paragraph firstparagraph\" id=\"PARAGRAPH_4c8eb892-ab0d-4693-a00c-f68534b07628_1_4276e3fc-128f-471e-8303-048ca92de3df\" style=\"padding-top:NaNpx;\"> <div class=\"field singlecolumn\" id=\"4c8eb892-ab0d-4693-a00c-f68534b07628FRFM1\"> Vendor Relations\\t       Project Management/OOH          4/Color Correction Specialization          Team Building / Training / Innovation\\r\\nPrint Production/ Schedules      Creative Team Collaboration\\t    Process Optimization\\t     Consulting / Negotiation / Maximization\\r\\nStrategic Analysis / Planning     Graphic Design / Ad Traffic\\t Soft Proofing / Digital Files     Proofreading / Editing / Quality Control\\r\\nBuilding Templates         Strategic Planning / Implementation\\t      Cost Reduction / Avoidance\\t  Turnaround / Crisis Management\\r\\nDigital Photo Retouching          Microsoft Office Suite / Adobe Creative Suite / QuarkXPress          ADTransit  / ADSend  / Pre-Press</div> </div> </div> </div>  SALES                     1\n",
       "29770086  CONSULTANT       Executive Profile     Marketing Executive offering outstanding presentation, communication and cross-cultural team management skills. High-energy, results-oriented leader with an entrepreneurial attitude. Desires a high-level position in a professional corporate environment.       Skill Highlights          Hubspot/SEO  Marketo  Google Analytics/PPC  Wordpress  Salesforce.com      Project Management  Basecamp  JIRA  MS Project  Trello            Core Accomplishments      Project Management:     Introduced SCRUM to marketing team, resulting in a 15% increase in productivity.  Created a metrics-based reporting for marketing and sales teams to track all conversions.     Human Resources:     Spearheaded a new-hire program which increased retention.    Operations Management:     Initiated geo-local landing page PPC strategy, which resulted in a 35% lift in conversion within a million dollar per month budget.  Handled all SEO strategies related to creating successful advertising for new dealer program and growing affiliate channel 44%.    Staff Development:     Launched well-received refresher program of professional development courses for all staff.   Created a self assessment and rubric for measuring growth.         Professional Experience      Consultant     Jan 2015   to   Jan 2016      Company Name   -   City  ,   State     Created new revenue streams via LinkedIn and Meetups. Generated new business through inbound lead generation campaign.  Captured local market share with small business clients through a partnership referral program.         VP of Marketing     Oct 2012   to   Jan 2015      Company Name   -   City  ,   State     Spearheaded mega PPC campaign, resulting in a 53% increase in revenue year over year.    Generated new business through SEO and PR campaigns.  Created new revenue streams through cutting unnecessary expenditures of $89,000.  Held accountable for a daily goals of 150 systems, which were often exceeded.  Improved customer experience via Website relaunch with mobile and Ecommerce implementation.  Forecasted, trend analysis, lifecycle/product marketing, promotions, product testing, affiliate and customer base marketing.  Trained sales pods on new product rollouts and provide rebuttals based on product knowledge and competitor intelligence.         Director of Marketing     Jun 2011   to   Sep 2012      Company Name   -   City  ,   State     Generated increased revenue of 45% by acquiring and upselling these clients: Codank Software, Checkpoint Technologies, Security Guard Exchange, Lowes, Mercedes Benz, Toyota, and Bank of America.  Developed and directed strategy for launch of new viral campaign based entirely on a shoestring budget and yielded 1,500 participants.  Instituted project management to allow clients to manage their campaigns effectively, increasing productivity by 15%.  Coordinated corporate events for the Mayor Fox of Charlotte, CBI (non-profit) and other clients.  Negotiated client contracts including: terms and conditions, pricing and services including customized, digital strategies to all clients.          CEO/Client Success  Officer     Jul 2006   to   May 2011      Company Name   -   City  ,   State     Liaised with all clients to ensure 100% satisfaction including first call resolution (98% FCR).  Conducted sales and implemented marketing plans and local PR strategies increasing our impressions by 200%.  Designed and implemented digital marketing projects on time and on budget.  Ensured monthly rent was paid on time and pursued any delinquent payments in a timely manner.         Director of Marketing     Jun 2009   to   Feb 2010      Company Name   -   City  ,   State     Executed hands-on Interactive-Digital, IT, Analytics, SEO, SEM, SMO, Vendor Relations, Analytics and leverage multi-million dollar budgets.  Full redesign/rebrand and Ecomm implementation for Dental, Medical, Veterinary and Special Markets.   Developed SEO friendly, Social Media enriched site for Henry Schein.   Conducted usability, beta & multivariate testing for new site launch.         Interactive Consumer Marketing Manager     Nov 2008   to   Jun 2009      Company Name   -   City  ,   State     Developed and directed strategy for launch of new Optimum Auto product that became #1 in the market place  for the next 11 months after launch.  Solely drove online traffic through PPC and SEO resulting in $4 million in Auto sales in only 3 months.  Branded Optimum Homes campaign  and launched with promotions, blog and multi-media to drive revenue by 60%.   Executed hands-on SEO/SEM/PPC/SMO optimization of all large company sites, email campaigns and analytics for newsletters, Press Releases and Ad placement.         Education      Master's Degree of Arts  ,   English, Business and Multicultural Education    Stony Brook University   -   City  ,   State      GPA:   GPA: 4.0    English, Business and Multicultural Education GPA: 4.0        Six Sigma Black Belt Certified  ,   Project Management    MSI                Bachelor's Degree  ,   English    Hofstra University   -   City  ,   State      English        Languages    Fluent in French and Creole, Proficient in Spanish and Russian      Interests     Golf, volleyball, cooking, and boating.       Publications     Published: August 2009's Search Engine Strategies Magazine (SES) for article entitled, \"SMS vs. WAP\"   *Published: Front Page of June 2009's Search Engine Strategies Magazine (SES) for article entitled, \"What is Web 3.0?\" 2 page article on page 28   *Published: Front Page of May 2009's  Search Engine Strategies Magazine (SES) for my article entitled, \"Widget World,\" full page article on page 22 *Business Leader Magazine page 35-Mover and Shakers article bio       Additional Information      HONORS Deans List, Academic Scholarship, Published Poetry, Nominated by the International Society of Poets for Poet of the Year award for 1999, Invited to read poetry and receive an \"International Poet of Merit\" Award Medallion at the ninth annual International Society of Poets Convention and Symposium in Washington, DC.    ACHIEVEMENTS Radio Guest on Business Leader radio; October 2013 Nominated for Charlotte's Leader's Under 40- Class 2, January 2012 WINNER of the Charlotte Triad \"Movers and Shakers Award of 2011,\" presented by Business Leader Magazine. Radio  Asked to be a Guest Speaker at Steve Jobs, MACTECH Conference Nov, 2010.    VOLUNTEER/CHARITY WORK   Assistant Scout Master for Boy Scouts of America, Troop #565, American Heart Association and the Red Cross.   Pay It Forward National campaign with MSU, University of Florida and University of Southern Alabama.    Mentor to young entrepreneurs through MicroMentor.org- May 2015-current.        Skills     Adobe, Agile, SCRUM, analytical skills, social media, SEO, SEM, PR, pricing, product marketing, product testing, optimization, promotions, and writing proposals.                                                                                                                                                                                                                                                                                                                                                                                                                                                                                                                                                                                                                                                                                                                                                                                                                                                                                                                                                                                                                                                                                                                                                                                                                                                                                                                                                                                                                                                                                                                                                                                       <div class=\"fontsize fontface vmargins hmargins linespacing pagesize\" id=\"document\"> <div class=\"section firstsection\" id=\"SECTION_NAME715865478\" style=\"padding-top:0px;\"> <div class=\"paragraph PARAGRAPH_NAME firstparagraph\" id=\"PARAGRAPH_715865478_1_463640413\" style=\"padding-top:0px;\"> <div class=\"name\" itemprop=\"name\"> <span class=\"field fName\" id=\"715865478FNAM1\"> </span> <span> </span> <span class=\"field\" id=\"715865478LNAM1\"> CONSULTANT</span> </div> </div> </div> <div class=\"section\" id=\"SECTION_SUMM715865480\" style=\"padding-top:0px;\"> <div class=\"heading bottomborder\"> <div class=\"sectiontitle\" id=\"SECTNAME_SUMM715865480\"> Executive Profile</div> </div> <div class=\"paragraph firstparagraph\" id=\"PARAGRAPH_715865480_1_463640430\" style=\"padding-top:0px;\"> <div class=\"field singlecolumn\" id=\"715865480FRFM1\"> <p align=\"LEFT\"> Marketing Executive offering outstanding presentation, communication and cross-cultural team management skills. High-energy, results-oriented leader with an entrepreneurial attitude. Desires a high-level position in a professional corporate environment.</p> </div> </div> </div> <div class=\"section\" id=\"SECTION_HILT715865481\" style=\"padding-top:0px;\"> <div class=\"heading bottomborder\"> <div class=\"sectiontitle\" id=\"SECTNAME_HILT715865481\"> Skill Highlights</div> </div> <div class=\"paragraph firstparagraph\" id=\"PARAGRAPH_715865481_1_463640434\" style=\"padding-top:0px;\"> <div class=\"singlecolumn maincolumn\"> <table class=\"twocol\"> <tbody> <tr> <td class=\"field twocol_1\" id=\"715865481SKC11\"> <ul> <li> Hubspot/SEO</li> <li> Marketo</li> <li> Google Analytics/PPC</li> <li> Wordpress</li> <li> Salesforce.com</li> </ul> </td> <td class=\"field twocol_2\" id=\"715865481SKC21\"> <ul> <li> Project Management</li> <li> Basecamp</li> <li> JIRA</li> <li> MS Project</li> <li> Trello</li> </ul> </td> </tr> </tbody> </table> </div> </div> </div> <div class=\"section\" id=\"SECTION_ACCM715866047\" style=\"padding-top:0px;\"> <div class=\"heading bottomborder\"> <div class=\"sectiontitle\" id=\"SECTNAME_ACCM715866047\"> Core Accomplishments</div> </div> <div class=\"paragraph firstparagraph\" id=\"PARAGRAPH_715866047_1_463644892\" style=\"padding-top:0px;\"> <div class=\"field singlecolumn\" id=\"715866047FRFM1\"> <p align=\"LEFT\"> <i> Project Management:</i>  </p> <ul> <li> Introduced SCRUM to marketing team, resulting in a 15% increase in productivity.</li> <li> Created a metrics-based reporting for marketing and sales teams to track all conversions. </li> </ul> <p align=\"LEFT\"> <i> Human Resources:</i>  </p> <ul> <li> Spearheaded a new-hire program which increased retention.</li> </ul> <p align=\"LEFT\"> <i> Operations Management:</i>  </p> <ul> <li> Initiated geo-local landing page PPC strategy, which resulted in a 35% lift in conversion within a million dollar per month budget.</li> <li> Handled all SEO strategies related to creating successful advertising for new dealer program and growing affiliate channel 44%.</li> </ul> <p align=\"LEFT\"> <i> Staff Development:</i>  </p> <ul> <li> Launched well-received refresher program of professional development courses for all staff. </li> <li> Created a self assessment and rubric for measuring growth.</li> </ul> <br/> </div> </div> </div> <div class=\"section\" id=\"SECTION_EXPR715865482\" style=\"padding-top:0px;\"> <div class=\"heading bottomborder\"> <div class=\"sectiontitle\" id=\"SECTNAME_EXPR715865482\"> Professional Experience</div> </div> <div class=\"paragraph firstparagraph\" id=\"PARAGRAPH_715865482_1_463640417\" itemscope=\"\" itemtype=\"https://schema.org/Organization\" style=\"padding-top:0px;\"> <div class=\"singlecolumn\"> <span class=\"paddedline\"> <span class=\"jobtitle\" id=\"715865482JTIT1\"> Consultant</span> <span> </span> <span class=\"datesWrapper\"> <span class=\"jobdates\" format=\"%b %Y\" id=\"715865482JSTD1\"> Jan 2015</span> <span>  to </span> <span class=\"jobdates\" format=\"%b %Y\" id=\"715865482EDDT1\"> Jan 2016</span> <br/> </span> </span> <span class=\"paddedline\" itemscope=\"\" itemtype=\"https://schema.org/postalAddress\"> <span class=\"companyname\" id=\"715865482COMP1\" itemprop=\"name\"> Company Name</span> <span>  - </span> <span class=\"joblocation jobcity\" id=\"715865482JCIT1\" itemprop=\"addressLocality\"> City</span> <span> , </span> <span class=\"joblocation jobstate\" id=\"715865482JSTA1\" itemprop=\"addressRegion\"> State</span> </span> <span class=\"jobline\" id=\"715865482JDES1\" itemprop=\"description\"> <ul> <li> Created new revenue streams via LinkedIn and Meetups. Generated new business through inbound lead generation campaign.</li> <li> Captured local market share with small business clients through a partnership referral program.</li> </ul> </span> </div> </div> <div class=\"paragraph\" id=\"PARAGRAPH_715865482_2_463640419\" itemscope=\"\" itemtype=\"https://schema.org/Organization\" style=\"padding-top:0px;\"> <div class=\"singlecolumn\"> <span class=\"paddedline\"> <span class=\"jobtitle\" id=\"715865482JTIT2\"> VP of Marketing</span> <span> </span> <span class=\"datesWrapper\"> <span class=\"jobdates\" format=\"%b %Y\" id=\"715865482JSTD2\"> Oct 2012</span> <span>  to </span> <span class=\"jobdates\" format=\"%b %Y\" id=\"715865482EDDT2\"> Jan 2015</span> <br/> </span> </span> <span class=\"paddedline\" itemscope=\"\" itemtype=\"https://schema.org/postalAddress\"> <span class=\"companyname\" id=\"715865482COMP2\" itemprop=\"name\"> Company Name</span> <span>  - </span> <span class=\"joblocation jobcity\" id=\"715865482JCIT2\" itemprop=\"addressLocality\"> City</span> <span> , </span> <span class=\"joblocation jobstate\" id=\"715865482JSTA2\" itemprop=\"addressRegion\"> State</span> </span> <span class=\"jobline\" id=\"715865482JDES2\" itemprop=\"description\"> <ul> <li> Spearheaded mega PPC campaign, resulting in a 53% increase in revenue year over year.  </li> <li> Generated new business through SEO and PR campaigns.</li> <li> Created new revenue streams through cutting unnecessary expenditures of $89,000.</li> <li> Held accountable for a daily goals of 150 systems, which were often exceeded.</li> <li> Improved customer experience via Website relaunch with mobile and Ecommerce implementation.</li> <li> Forecasted, trend analysis, lifecycle/product marketing, promotions, product testing, affiliate and customer base marketing.</li> <li> Trained sales pods on new product rollouts and provide rebuttals based on product knowledge and competitor intelligence.</li> </ul> </span> </div> </div> <div class=\"paragraph\" id=\"PARAGRAPH_715865482_3_463640420\" itemscope=\"\" itemtype=\"https://schema.org/Organization\" style=\"padding-top:0px;\"> <div class=\"singlecolumn\"> <span class=\"paddedline\"> <span class=\"jobtitle\" id=\"715865482JTIT3\"> Director of Marketing</span> <span> </span> <span class=\"datesWrapper\"> <span class=\"jobdates\" format=\"%b %Y\" id=\"715865482JSTD3\"> Jun 2011</span> <span>  to </span> <span class=\"jobdates\" format=\"%b %Y\" id=\"715865482EDDT3\"> Sep 2012</span> <br/> </span> </span> <span class=\"paddedline\" itemscope=\"\" itemtype=\"https://schema.org/postalAddress\"> <span class=\"companyname\" id=\"715865482COMP3\" itemprop=\"name\"> Company Name</span> <span>  - </span> <span class=\"joblocation jobcity\" id=\"715865482JCIT3\" itemprop=\"addressLocality\"> City</span> <span> , </span> <span class=\"joblocation jobstate\" id=\"715865482JSTA3\" itemprop=\"addressRegion\"> State</span> </span> <span class=\"jobline\" id=\"715865482JDES3\" itemprop=\"description\"> <ul> <li> Generated increased revenue of 45% by acquiring and upselling these clients: Codank Software, Checkpoint Technologies, Security Guard Exchange, Lowes, Mercedes Benz, Toyota, and Bank of America.</li> <li> Developed and directed strategy for launch of new viral campaign based entirely on a shoestring budget and yielded 1,500 participants.</li> <li> Instituted project management to allow clients to manage their campaigns effectively, increasing productivity by 15%.</li> <li> Coordinated corporate events for the Mayor Fox of Charlotte, CBI (non-profit) and other clients.</li> <li> Negotiated client contracts including: terms and conditions, pricing and services including customized, digital strategies to all clients. </li> </ul> </span> </div> </div> <div class=\"paragraph\" id=\"PARAGRAPH_715865482_4_463640423\" itemscope=\"\" itemtype=\"https://schema.org/Organization\" style=\"padding-top:0px;\"> <div class=\"singlecolumn\"> <span class=\"paddedline\"> <span class=\"jobtitle\" id=\"715865482JTIT4\"> CEO/Client Success  Officer</span> <span> </span> <span class=\"datesWrapper\"> <span class=\"jobdates\" format=\"%b %Y\" id=\"715865482JSTD4\"> Jul 2006</span> <span>  to </span> <span class=\"jobdates\" format=\"%b %Y\" id=\"715865482EDDT4\"> May 2011</span> <br/> </span> </span> <span class=\"paddedline\" itemscope=\"\" itemtype=\"https://schema.org/postalAddress\"> <span class=\"companyname\" id=\"715865482COMP4\" itemprop=\"name\"> Company Name</span> <span>  - </span> <span class=\"joblocation jobcity\" id=\"715865482JCIT4\" itemprop=\"addressLocality\"> City</span> <span> , </span> <span class=\"joblocation jobstate\" id=\"715865482JSTA4\" itemprop=\"addressRegion\"> State</span> </span> <span class=\"jobline\" id=\"715865482JDES4\" itemprop=\"description\"> <ul> <li> Liaised with all clients to ensure 100% satisfaction including first call resolution (98% FCR).</li> <li> Conducted sales and implemented marketing plans and local PR strategies increasing our impressions by 200%.</li> <li> Designed and implemented digital marketing projects on time and on budget.</li> <li> Ensured monthly rent was paid on time and pursued any delinquent payments in a timely manner.</li> </ul> </span> </div> </div> <div class=\"paragraph\" id=\"PARAGRAPH_715865482_5_463640421\" itemscope=\"\" itemtype=\"https://schema.org/Organization\" style=\"padding-top:0px;\"> <div class=\"singlecolumn\"> <span class=\"paddedline\"> <span class=\"jobtitle\" id=\"715865482JTIT5\"> Director of Marketing</span> <span> </span> <span class=\"datesWrapper\"> <span class=\"jobdates\" format=\"%b %Y\" id=\"715865482JSTD5\"> Jun 2009</span> <span>  to </span> <span class=\"jobdates\" format=\"%b %Y\" id=\"715865482EDDT5\"> Feb 2010</span> <br/> </span> </span> <span class=\"paddedline\" itemscope=\"\" itemtype=\"https://schema.org/postalAddress\"> <span class=\"companyname\" id=\"715865482COMP5\" itemprop=\"name\"> Company Name</span> <span>  - </span> <span class=\"joblocation jobcity\" id=\"715865482JCIT5\" itemprop=\"addressLocality\"> City</span> <span> , </span> <span class=\"joblocation jobstate\" id=\"715865482JSTA5\" itemprop=\"addressRegion\"> State</span> </span> <span class=\"jobline\" id=\"715865482JDES5\" itemprop=\"description\"> <ul> <li> Executed hands-on Interactive-Digital, IT, Analytics, SEO, SEM, SMO, Vendor Relations, Analytics and leverage multi-million dollar budgets.</li> <li> Full redesign/rebrand and Ecomm implementation for Dental, Medical, Veterinary and Special Markets. </li> <li> Developed SEO friendly, Social Media enriched site for Henry Schein. </li> <li> Conducted usability, beta &amp; multivariate testing for new site launch.</li> </ul> </span> </div> </div> <div class=\"paragraph\" id=\"PARAGRAPH_715865482_6_463640422\" itemscope=\"\" itemtype=\"https://schema.org/Organization\" style=\"padding-top:0px;\"> <div class=\"singlecolumn\"> <span class=\"paddedline\"> <span class=\"jobtitle\" id=\"715865482JTIT6\"> Interactive Consumer Marketing Manager</span> <span> </span> <span class=\"datesWrapper\"> <span class=\"jobdates\" format=\"%b %Y\" id=\"715865482JSTD6\"> Nov 2008</span> <span>  to </span> <span class=\"jobdates\" format=\"%b %Y\" id=\"715865482EDDT6\"> Jun 2009</span> <br/> </span> </span> <span class=\"paddedline\" itemscope=\"\" itemtype=\"https://schema.org/postalAddress\"> <span class=\"companyname\" id=\"715865482COMP6\" itemprop=\"name\"> Company Name</span> <span>  - </span> <span class=\"joblocation jobcity\" id=\"715865482JCIT6\" itemprop=\"addressLocality\"> City</span> <span> , </span> <span class=\"joblocation jobstate\" id=\"715865482JSTA6\" itemprop=\"addressRegion\"> State</span> </span> <span class=\"jobline\" id=\"715865482JDES6\" itemprop=\"description\"> <ul> <li> Developed and directed strategy for launch of new Optimum Auto product that became #1 in the market place  for the next 11 months after launch.</li> <li> Solely drove online traffic through PPC and SEO resulting in $4 million in Auto sales in only 3 months.</li> <li> Branded Optimum Homes campaign  and launched with promotions, blog and multi-media to drive revenue by 60%.</li> <li>  Executed hands-on SEO/SEM/PPC/SMO optimization of all large company sites, email campaigns and analytics for newsletters, Press Releases and Ad placement.</li> </ul> </span> </div> </div> </div> <div class=\"section\" id=\"SECTION_EDUC715865483\" style=\"padding-top:0px;\"> <div class=\"heading bottomborder\"> <div class=\"sectiontitle\" id=\"SECTNAME_EDUC715865483\"> Education</div> </div> <div class=\"paragraph firstparagraph\" id=\"PARAGRAPH_715865483_1_463640425\" itemscope=\"\" itemtype=\"https://schema.org/EducationalOrganization\" style=\"padding-top:0px;\"> <div class=\"singlecolumn\"> <span class=\"paddedline\" itemprop=\"description\"> <span class=\"degree\" id=\"715865483DGRE1\" itemprop=\"name\"> Master's Degree of Arts</span> <span> , </span> <span class=\"programline\" id=\"715865483STUY1\"> English, Business and Multicultural Education</span> </span> <span class=\"paddedline\"> <span class=\"companyname companyname_educ\" id=\"715865483SCHO1\" itemprop=\"name\"> Stony Brook University</span> <span>  - </span> <span class=\"joblocation jobcity\" id=\"715865483SCIT1\"> City</span> <span> , </span> <span class=\"joblocation jobstate\" id=\"715865483SSTA1\"> State</span> <span class=\"joblocation jobstate\" id=\"715865483SCNT1\"> </span> </span> <span class=\"paddedline\"> <span> GPA: </span> <span class=\"field\" id=\"715865483GRPA1\"> GPA: 4.0</span> </span> <span class=\"field\" id=\"715865483FRFM1\"> <p align=\"LEFT\"> English, Business and Multicultural Education GPA: 4.0</p> </span> </div> </div> <div class=\"paragraph\" id=\"PARAGRAPH_715865483_2_463669059\" itemscope=\"\" itemtype=\"https://schema.org/EducationalOrganization\" style=\"padding-top:0px;\"> <div class=\"singlecolumn\"> <span class=\"paddedline\" itemprop=\"description\"> <span class=\"degree\" id=\"715865483DGRE2\" itemprop=\"name\"> Six Sigma Black Belt Certified</span> <span> , </span> <span class=\"programline\" id=\"715865483STUY2\"> Project Management</span> </span> <span class=\"paddedline\"> <span class=\"companyname companyname_educ\" id=\"715865483SCHO2\" itemprop=\"name\"> MSI</span> <span class=\"joblocation jobcity\" id=\"715865483SCIT2\"> </span> <span class=\"joblocation jobstate\" id=\"715865483SSTA2\"> </span> <span class=\"joblocation jobstate\" id=\"715865483SCNT2\"> </span> </span> <span class=\"field\" id=\"715865483FRFM2\"> </span> </div> </div> <div class=\"paragraph\" id=\"PARAGRAPH_715865483_3_463640426\" itemscope=\"\" itemtype=\"https://schema.org/EducationalOrganization\" style=\"padding-top:0px;\"> <div class=\"singlecolumn\"> <span class=\"paddedline\" itemprop=\"description\"> <span class=\"degree\" id=\"715865483DGRE3\" itemprop=\"name\"> Bachelor's Degree</span> <span> , </span> <span class=\"programline\" id=\"715865483STUY3\"> English</span> </span> <span class=\"paddedline\"> <span class=\"companyname companyname_educ\" id=\"715865483SCHO3\" itemprop=\"name\"> Hofstra University</span> <span>  - </span> <span class=\"joblocation jobcity\" id=\"715865483SCIT3\"> City</span> <span> , </span> <span class=\"joblocation jobstate\" id=\"715865483SSTA3\"> State</span> <span class=\"joblocation jobstate\" id=\"715865483SCNT3\"> </span> </span> <span class=\"field\" id=\"715865483FRFM3\"> <p align=\"LEFT\"> English</p> </span> </div> </div> </div> <div class=\"section\" id=\"SECTION_LANG715865501\" style=\"padding-top:0px;\"> <div class=\"heading bottomborder\"> <div class=\"sectiontitle\" id=\"SECTNAME_LANG715865501\"> Languages</div> </div> <div class=\"paragraph firstparagraph\" id=\"PARAGRAPH_715865501_1_463640433\" style=\"padding-top:0px;\"> <div class=\"field singlecolumn\" id=\"715865501FRFM1\"> Fluent in French and Creole, Proficient in Spanish and Russian</div> </div> </div> <div class=\"section\" id=\"SECTION_INTR715865500\" style=\"padding-top:0px;\"> <div class=\"heading bottomborder\"> <div class=\"sectiontitle\" id=\"SECTNAME_INTR715865500\"> Interests</div> </div> <div class=\"paragraph firstparagraph\" id=\"PARAGRAPH_715865500_1_463640432\" style=\"padding-top:0px;\"> <div class=\"field singlecolumn\" id=\"715865500FRFM1\"> <p align=\"LEFT\"> Golf, volleyball, cooking, and boating.</p> </div> </div> </div> <div class=\"section\" id=\"SECTION_PUBL715865499\" style=\"padding-top:0px;\"> <div class=\"heading bottomborder\"> <div class=\"sectiontitle\" id=\"SECTNAME_PUBL715865499\"> Publications</div> </div> <div class=\"paragraph firstparagraph\" id=\"PARAGRAPH_715865499_1_463640431\" style=\"padding-top:0px;\"> <div class=\"field singlecolumn\" id=\"715865499FRFM1\"> <p align=\"LEFT\"> Published: August 2009's Search Engine Strategies Magazine (SES) for article entitled, \"SMS vs. WAP\"</p> <br/> <p align=\"LEFT\"> *Published: Front Page of June 2009's Search Engine Strategies Magazine (SES) for article entitled, \"What is Web 3.0?\" 2 page article on page 28</p> <br/> <p align=\"LEFT\"> *Published: Front Page of May 2009's  Search Engine Strategies Magazine (SES) for my article entitled, \"Widget World,\" full page article on page 22 *Business Leader Magazine page 35-Mover and Shakers article bio</p> </div> </div> </div> <div class=\"section\" id=\"SECTION_ADDI715865503\" style=\"padding-top:0px;\"> <div class=\"heading bottomborder\"> <div class=\"sectiontitle\" id=\"SECTNAME_ADDI715865503\"> Additional Information</div> </div> <div class=\"paragraph firstparagraph\" id=\"PARAGRAPH_715865503_1_463640436\" style=\"padding-top:0px;\"> <div class=\"field singlecolumn\" id=\"715865503FRFM1\"> <ul> <li> HONORS Deans List, Academic Scholarship, Published Poetry, Nominated by the International Society of Poets for Poet of the Year award for 1999, Invited to read poetry and receive an \"International Poet of Merit\" Award Medallion at the ninth annual International Society of Poets Convention and Symposium in Washington, DC. </li> <br/> <li> ACHIEVEMENTS Radio Guest on Business Leader radio; October 2013 Nominated for Charlotte's Leader's Under 40- Class 2, January 2012 WINNER of the Charlotte Triad \"Movers and Shakers Award of 2011,\" presented by Business Leader Magazine. Radio  Asked to be a Guest Speaker at Steve Jobs, MACTECH Conference Nov, 2010. </li> <br/> <li> VOLUNTEER/CHARITY WORK</li> <br/> <li> Assistant Scout Master for Boy Scouts of America, Troop #565, American Heart Association and the Red Cross.</li> <br/> <li> Pay It Forward National campaign with MSU, University of Florida and University of Southern Alabama. </li> <br/> <li> Mentor to young entrepreneurs through MicroMentor.org- May 2015-current.</li> </ul> </div> </div> </div> <div class=\"section\" id=\"SECTION_SKLL715865502\" style=\"padding-top:0px;\"> <div class=\"heading bottomborder\"> <div class=\"sectiontitle\" id=\"SECTNAME_SKLL715865502\"> Skills</div> </div> <div class=\"paragraph firstparagraph\" id=\"PARAGRAPH_715865502_1_463640435\" style=\"padding-top:0px;\"> <div class=\"field singlecolumn\" id=\"715865502FRFM1\"> <p align=\"LEFT\"> Adobe, Agile, SCRUM, analytical skills, social media, SEO, SEM, PR, pricing, product marketing, product testing, optimization, promotions, and writing proposals.</p> </div> </div> </div> </div>                                                                                                                                                                                                                                                                                                                                                                                                                                                                                                                                                                                                                                                                                                                                                                                                                                                                                                                                                                                                                                                                                                                                                                                                                                                                    CONSULTANT                1\n",
       "29915354  DIGITAL MEDIA PRODUCER       Summary    Experienced and innovative Digital Media Producer with expertise in video production, as videographer, sound recordist, editor and post-production artist. Able work autonomously or collaborate with a team to produce highest quality production standards. Passion for constantly learning, developing and sharing new video skills with colleagues.      Highlights          Advanced Shooting Skills  Experienced with Video Cameras and DSLRs  Advanced Editing Skills using Adobe Premiere Pro  Expertise in Sound Recording and Sound Mixing  Ability to Bring Stories to Life with Visuals & Music  Experienced Aerial Imaging Drone Pilot  Experience with Teaching Students      Experience Directing On-camera Talent  Able to Work on Multiple Projects Simultaneously   Able to Collaborate with a Team, or Lead a Project     Able to Create Animated Titles and VFX    Proficient with Adobe Photoshop & Illustrator    Excellent Communication & Writing Skills             Experience      Digital Media Producer   05/2010   to   Current     Company Name   City  ,   State     Produced video and audio content to the highest quality production standards to promote clients' objectives, and bring their stories to life, including content for corporate applications, web sites, education, commercials, and other applications. Maintained awareness of developing technologies and best practices for media production; interacted with clients, providing excellent customer service. Maintained library of digital assets.        Teaching Assistant / Computer Lab Technician   09/2009   to   05/2010     Company Name   City  ,   State     Assisting Professor Philip Palombo, served as teaching assistant for a freshman class in video production and editing; Led discussions, screened relevant videos, and hands-on assisted them in the lab. Also served as the Computer Lab Tech during that time, troubleshooting problematic computers and software in use.        Education      Master of Arts  :   Digital Media Production/Communications   2010       Rhode Island College   City  ,   State  ,   USA     Completed Graduate Program for Media Studies, with a concentration in Digital Media Production/Art. This included video theory, video production, as well as animation and video art classes.           Animation & Adobe After Effects   2010       Independent Study with Mentor   City  ,   State  ,   USA     Private mentorship in independent study of animation and Adobe After Effects with Dennis Hlinsky of the Rhode Island School of Design.          Advanced Video Editing   2009       Apple - NYC   City  ,   State  ,   USA     Week long training course for Apple's Final Cut Pro 7 Editing Software that taught concepts beyond basic editing, such as compositing, color correction, and video compression.         Continuing Education  :   Video Production & Technology   2008       Rule Boston Camera   City  ,   State  ,   USA     Regular attendant monthly at Rule Boston Camera Learning Labs, staying abreast of current video technology and media production best practices since 2008.        Accomplishments      Served as sound recordist and DIT for the video series, \"Visions For the Future\", at Harvard University Law School. This profound series, featuring Professor Roberto Unger, was acquired by the New York Times, for its permanent archive. A portion is viewable here:  https://www.youtube.com/watch?v=BP7GIoysuTs​           Produced a video presentation of the \"Sixth Annual Catwalk to Campground Dinner and Fashion Show Fundraising Event\", a major fundraising event for The Autism Project, raising over $200,000. Planned, shot, directed crew of 4 and on-camera talent, with interviews of special guests, including Miss Olivia Culpo, Miss Rhode Island USA, who would be crowned Miss Universe later that year. Created message of \"Autism Awareness\" education within the entertainment. Supervised and collaborated with post-production team in editing, color correction, special effects, music and DVD authorship and distribution. Received multiple awards, including \"Best DVD for Autism Awareness 2012\".             Initiated an after-school Video Production Program for middle school and high school students in Scituate, Rhode Island. Instructed students on video production techniques including camera, lighting, sound mixing and editing. Supported students' objectives assisting them in developing their own stories and bringing them to the screen.       Additional Skills      Drawing & Storyboarding    Explaining complex topics in simple terms  Problem Solving & Troubleshooting  Directing On-Camera Talent  Sound Design, Recording, Remixing & Sweetening  Musical Scoring  Video Format Conversions and Codecs  Communicating with Others  Writing, Spelling, Grammar, Punctuation  Public Speaking  Voice Overs  Available for International Travel                                                                                                                                                                                                                                                                                                                                                                                                                                                                                                                                                                                                                                                                                                                                                                                                                                                                                                                                                                                                                                                                                                                                                                                                                                                                                                                                                                                                                                                                                                                                                                                                                                                                                                                                                                                                                                                                                                                                                                                                                                                                                                                                                                                                                                                                                                                                                                                                                                                                                                                                                                                                                                                                                                                                                                                                                                                                                                                                                                                                                                                                                                                                                                                                                                                                                                                                                                                                                                                                                                                                                                                                                                                                                                               <div class=\"fontsize fontface vmargins hmargins linespacing pagesize\" id=\"document\"> <div class=\"section firstsection\" id=\"SECTION_NAME816063030\" style=\"padding-top:0px;\"> <div class=\"paragraph PARAGRAPH_NAME firstparagraph\" id=\"PARAGRAPH_816063030_1_530625894\" style=\"padding-top:0px;\"> <div class=\"name\" itemprop=\"name\"> <span class=\"field\" id=\"816063030FNAM1\"> </span> <span> </span> <span class=\"field lName\" id=\"816063030LNAM1\"> DIGITAL MEDIA PRODUCER</span> </div> </div> </div> <div class=\"section\" id=\"SECTION_SUMM816063031\" style=\"padding-top:0px;\"> <div class=\"heading\"> <div class=\"sectiontitle\" id=\"SECTNAME_SUMM816063031\"> Summary</div> </div> <div class=\"paragraph firstparagraph\" id=\"PARAGRAPH_816063031_1_530628676\" style=\"padding-top:0px;\"> <div class=\"field singlecolumn\" id=\"816063031FRFM1\"> Experienced and innovative Digital Media Producer with expertise in video production, as videographer, sound recordist, editor and post-production artist. Able work autonomously or collaborate with a team to produce highest quality production standards. Passion for constantly learning, developing and sharing new video skills with colleagues.</div> </div> </div> <div class=\"section\" id=\"SECTION_HILT816063029\" style=\"padding-top:0px;\"> <div class=\"heading\"> <div class=\"sectiontitle\" id=\"SECTNAME_HILT816063029\"> Highlights</div> </div> <div class=\"paragraph firstparagraph\" id=\"PARAGRAPH_816063029_1_530814732\" style=\"padding-top:0px;\"> <div class=\"singlecolumn maincolumn\"> <table class=\"twocol\"> <tbody> <tr> <td class=\"field twocol_1\" id=\"816063029SKC11\"> <ul> <li> Advanced Shooting Skills</li> <li> Experienced with Video Cameras and DSLRs</li> <li> Advanced Editing Skills using Adobe Premiere Pro</li> <li> Expertise in Sound Recording and Sound Mixing</li> <li> Ability to Bring Stories to Life with Visuals &amp; Music</li> <li> Experienced Aerial Imaging Drone Pilot</li> <li> Experience with Teaching Students</li> </ul> </td> <td class=\"field twocol_2\" id=\"816063029SKC21\"> <ul> <li> Experience Directing On-camera Talent</li> <li> Able to Work on Multiple Projects Simultaneously </li> <li> Able to Collaborate with a Team, or Lead a Project<span style=\"line-height: 1.5;\"> </span> </li> <li> <span style=\"line-height: 1.5;\"> Able to Create Animated Titles and VFX</span> </li> <li> <span style=\"line-height: 1.5;\"> Proficient with Adobe Photoshop &amp; Illustrator</span> </li> <li> <span style=\"line-height: 1.5;\"> Excellent Communication &amp; Writing Skills</span> </li> </ul> </td> </tr> </tbody> </table> </div> </div> </div> <div class=\"section\" id=\"SECTION_EXPR816063028\" style=\"padding-top:0px;\"> <div class=\"heading\"> <div class=\"sectiontitle\" id=\"SECTNAME_EXPR816063028\"> Experience</div> </div> <div class=\"paragraph firstparagraph\" id=\"PARAGRAPH_816063028_1_531119768\" itemscope=\"\" itemtype=\"https://schema.org/Organization\" style=\"padding-top:0px;\"> <div class=\"singlecolumn\"> <span class=\"paddedline\"> <span class=\"jobtitle\" id=\"816063028JTIT1\"> Digital Media Producer</span> <span class=\"datesWrapper\"> <span class=\"jobdates\" format=\"%m/%Y\" id=\"816063028JSTD1\"> 05/2010</span> <span class=\"jobdates\">  to </span> <span class=\"jobdates\" format=\"%m/%Y\" id=\"816063028EDDT1\"> Current</span> </span> </span> <span class=\"paddedline\" itemscope=\"\" itemtype=\"https://schema.org/postalAddress\"> <span class=\"companyname\" id=\"816063028COMP1\" itemprop=\"name\"> Company Name</span> <span class=\"datesWrapper\"> <span class=\"joblocation jobcity\" id=\"816063028JCIT1\" itemprop=\"addressLocality\"> City</span> <span class=\"joblocation\"> , </span> <span class=\"joblocation jobstate\" id=\"816063028JSTA1\" itemprop=\"addressRegion\"> State</span> </span> </span> <span class=\"paddedline\"> <span class=\"jobline\" id=\"816063028JDES1\" itemprop=\"description\"> Produced video and audio content to the highest quality production standards to promote clients' objectives, and bring their stories to life, including content for corporate applications, web sites, education, commercials, and other applications. Maintained awareness of developing technologies and best practices for media production; interacted with clients, providing excellent customer service. Maintained library of digital assets.</span> </span> </div> </div> <div class=\"paragraph\" id=\"PARAGRAPH_816063028_2_531137600\" itemscope=\"\" itemtype=\"https://schema.org/Organization\" style=\"padding-top:0px;\"> <div class=\"singlecolumn\"> <span class=\"paddedline\"> <span class=\"jobtitle\" id=\"816063028JTIT2\"> Teaching Assistant / Computer Lab Technician</span> <span class=\"datesWrapper\"> <span class=\"jobdates\" format=\"%m/%Y\" id=\"816063028JSTD2\"> 09/2009</span> <span class=\"jobdates\">  to </span> <span class=\"jobdates\" format=\"%m/%Y\" id=\"816063028EDDT2\"> 05/2010</span> </span> </span> <span class=\"paddedline\" itemscope=\"\" itemtype=\"https://schema.org/postalAddress\"> <span class=\"companyname\" id=\"816063028COMP2\" itemprop=\"name\"> Company Name</span> <span class=\"datesWrapper\"> <span class=\"joblocation jobcity\" id=\"816063028JCIT2\" itemprop=\"addressLocality\"> City</span> <span class=\"joblocation\"> , </span> <span class=\"joblocation jobstate\" id=\"816063028JSTA2\" itemprop=\"addressRegion\"> State</span> </span> </span> <span class=\"paddedline\"> <span class=\"jobline\" id=\"816063028JDES2\" itemprop=\"description\"> Assisting Professor Philip Palombo, served as teaching assistant for a freshman class in video production and editing; Led discussions, screened relevant videos, and hands-on assisted them in the lab. Also served as the Computer Lab Tech during that time, troubleshooting problematic computers and software in use.</span> </span> </div> </div> </div> <div class=\"section\" id=\"SECTION_EDUC816063027\" style=\"padding-top:0px;\"> <div class=\"heading\"> <div class=\"sectiontitle\" id=\"SECTNAME_EDUC816063027\"> Education</div> </div> <div class=\"paragraph firstparagraph\" id=\"PARAGRAPH_816063027_1_530843267\" itemscope=\"\" itemtype=\"https://schema.org/EducationalOrganization\" style=\"padding-top:0px;\"> <div class=\"singlecolumn\"> <span class=\"paddedline\" itemprop=\"description\"> <span class=\"degree\" id=\"816063027DGRE1\" itemprop=\"name\"> Master of Arts</span> <span> : </span> <span class=\"programline\" id=\"816063027STUY1\"> Digital Media Production/Communications</span> <span class=\"datesWrapper\"> <span class=\"jobdates\" id=\"816063027GRYR1\"> 2010</span> <span> </span> </span> </span> <span class=\"paddedline\"> <span class=\"companyname companyname_educ\" id=\"816063027SCHO1\" itemprop=\"name\"> Rhode Island College</span> <span class=\"datesWrapper\"> <span class=\"joblocation jobcity educity\" id=\"816063027SCIT1\"> City</span> <span> , </span> <span class=\"joblocation jobstate edustate\" id=\"816063027SSTA1\"> State</span> <span> , </span> <span class=\"joblocation eduCountry\" id=\"816063027SCNT1\"> USA</span> </span> </span> <span class=\"paddedline\"> <span class=\"field\" id=\"816063027FRFM1\"> Completed Graduate Program for Media Studies, with a concentration in Digital Media Production/Art. This included video theory, video production, as well as animation and video art classes. </span> </span> </div> </div> <div class=\"paragraph\" id=\"PARAGRAPH_816063027_2_530846444\" itemscope=\"\" itemtype=\"https://schema.org/EducationalOrganization\" style=\"padding-top:0px;\"> <div class=\"singlecolumn\"> <span class=\"paddedline\" itemprop=\"description\"> <span class=\"degree\" id=\"816063027DGRE2\" itemprop=\"name\"> </span> <span class=\"programline\" id=\"816063027STUY2\"> Animation &amp; Adobe After Effects</span> <span class=\"datesWrapper\"> <span class=\"jobdates\" id=\"816063027GRYR2\"> 2010</span> <span> </span> </span> </span> <span class=\"paddedline\"> <span class=\"companyname companyname_educ\" id=\"816063027SCHO2\" itemprop=\"name\"> Independent Study with Mentor</span> <span class=\"datesWrapper\"> <span class=\"joblocation jobcity educity\" id=\"816063027SCIT2\"> City</span> <span> , </span> <span class=\"joblocation jobstate edustate\" id=\"816063027SSTA2\"> State</span> <span> , </span> <span class=\"joblocation eduCountry\" id=\"816063027SCNT2\"> USA</span> </span> </span> <span class=\"paddedline\"> <span class=\"field\" id=\"816063027FRFM2\"> Private mentorship in independent study of animation and Adobe After Effects with Dennis Hlinsky of the Rhode Island School of Design.</span> </span> </div> </div> <div class=\"paragraph\" id=\"PARAGRAPH_816063027_3_531129005\" itemscope=\"\" itemtype=\"https://schema.org/EducationalOrganization\" style=\"padding-top:0px;\"> <div class=\"singlecolumn\"> <span class=\"paddedline\" itemprop=\"description\"> <span class=\"degree\" id=\"816063027DGRE3\" itemprop=\"name\"> </span> <span class=\"programline\" id=\"816063027STUY3\"> Advanced Video Editing</span> <span class=\"datesWrapper\"> <span class=\"jobdates\" id=\"816063027GRYR3\"> 2009</span> <span> </span> </span> </span> <span class=\"paddedline\"> <span class=\"companyname companyname_educ\" id=\"816063027SCHO3\" itemprop=\"name\"> Apple - NYC</span> <span class=\"datesWrapper\"> <span class=\"joblocation jobcity educity\" id=\"816063027SCIT3\"> City</span> <span> , </span> <span class=\"joblocation jobstate edustate\" id=\"816063027SSTA3\"> State</span> <span> , </span> <span class=\"joblocation eduCountry\" id=\"816063027SCNT3\"> USA</span> </span> </span> <span class=\"paddedline\"> <span class=\"field\" id=\"816063027FRFM3\"> Week long training course for Apple's Final Cut Pro 7 Editing Software that taught concepts beyond basic editing, such as compositing, color correction, and video compression. </span> </span> </div> </div> <div class=\"paragraph\" id=\"PARAGRAPH_816063027_4_531462485\" itemscope=\"\" itemtype=\"https://schema.org/EducationalOrganization\" style=\"padding-top:0px;\"> <div class=\"singlecolumn\"> <span class=\"paddedline\" itemprop=\"description\"> <span class=\"degree\" id=\"816063027DGRE4\" itemprop=\"name\"> Continuing Education</span> <span> : </span> <span class=\"programline\" id=\"816063027STUY4\"> Video Production &amp; Technology</span> <span class=\"datesWrapper\"> <span class=\"jobdates\" id=\"816063027GRYR4\"> 2008</span> <span> </span> </span> </span> <span class=\"paddedline\"> <span class=\"companyname companyname_educ\" id=\"816063027SCHO4\" itemprop=\"name\"> Rule Boston Camera</span> <span class=\"datesWrapper\"> <span class=\"joblocation jobcity educity\" id=\"816063027SCIT4\"> City</span> <span> , </span> <span class=\"joblocation jobstate edustate\" id=\"816063027SSTA4\"> State</span> <span> , </span> <span class=\"joblocation eduCountry\" id=\"816063027SCNT4\"> USA</span> </span> </span> <span class=\"paddedline\"> <span class=\"field\" id=\"816063027FRFM4\"> Regular attendant monthly at Rule Boston Camera Learning Labs, staying abreast of current video technology and media production best practices since 2008.</span> </span> </div> </div> </div> <div class=\"section\" id=\"SECTION_ACCM816063596\" style=\"padding-top:0px;\"> <div class=\"heading\"> <div class=\"sectiontitle\" id=\"SECTNAME_ACCM816063596\"> Accomplishments</div> </div> <div class=\"paragraph firstparagraph\" id=\"PARAGRAPH_816063596_1_530839210\" style=\"padding-top:0px;\"> <div class=\"field singlecolumn\" id=\"816063596FRFM1\"> <div> <span style=\"line-height: 1.5;\"> Served as sound recordist and DIT for the video series, \"Visions For the Future\", at Harvard University Law School. This profound series, featuring Professor Roberto Unger, was acquired by the New York Times, for its permanent archive. A portion is viewable here:  https://www.youtube.com/watch?v=BP7GIoysuTs​  </span> </div> <div> <span style=\"line-height: 1.5;\">  </span> </div> <div> <span style=\"line-height: 1.5;\"> Produced a video presentation of the \"Sixth Annual Catwalk to Campground Dinner and Fashion Show Fundraising Event\", a major fundraising event for The Autism Project, raising over $200,000. Planned, shot, directed crew of 4 and on-camera talent, with interviews of special guests, including Miss Olivia Culpo, Miss Rhode Island USA, who would be crowned Miss Universe later that year. Created message of \"Autism Awareness\" education within the entertainment. Supervised and collaborated with post-production team in editing, color correction, special effects, music and DVD authorship and distribution. Received multiple awards, including \"Best DVD for Autism Awareness 2012\".</span> <br/> </div> <div>  <span style=\"line-height: 1.5;\">  </span> <span style=\"line-height: 1.5;\">  </span> </div> <div> Initiated an after-school Video Production Program for middle school and high school students in Scituate, Rhode Island. Instructed students on video production techniques including camera, lighting, sound mixing and editing. Supported students' objectives assisting them in developing their own stories and bringing them to the screen.</div> </div> </div> </div> <div class=\"section\" id=\"SECTION_SKLL817238242\" style=\"padding-top:0px;\"> <div class=\"heading\"> <div class=\"sectiontitle\" id=\"SECTNAME_SKLL817238242\"> Additional Skills</div> </div> <div class=\"paragraph firstparagraph\" id=\"PARAGRAPH_817238242_1_531467731\" style=\"padding-top:0px;\"> <div class=\"field singlecolumn\" id=\"817238242FRFM1\"> <div> <span style=\"line-height: 1.5;\"> Drawing &amp; Storyboarding</span> <br/> </div> <div> Explaining complex topics in simple terms</div> <div> Problem Solving &amp; Troubleshooting</div> <div> Directing On-Camera Talent</div> <div> Sound Design, Recording, Remixing &amp; Sweetening</div> <div> Musical Scoring</div> <div> Video Format Conversions and Codecs</div> <div> Communicating with Others</div> <div> Writing, Spelling, Grammar, Punctuation</div> <div> Public Speaking</div> <div> Voice Overs</div> <div> Available for International Travel</div> </div> </div> </div> </div>                                                                                                                                                                                                                                                                                                                                                                                                                                                                                                                                                                                                                                                                                                                                                                                                                                                                                                                                                                                                                                                                                                                                                                                                                                                                                                                                                                                                                                                                                                                                                                                                                                                                                                                                                                                                                                                                                                                                                                                                                                                                                                                                                                                                                                                                                                                                                                                                                                                                                                                                                                                                                                                                                                                                                                                                                                                                                                                                                                                                                                                                                                                                                                                                                                                                                                                                                                                                                                                                                                                                                                                                                                                                                                                                                                                                                                                                                                                                                                                                                                                                                                                                                                                                                                                                                                                                                                                                                                                                                                                                                                                                                                                                                                                                                                                                                                                                                                                                                                                                                                                                                                                                                                                                                                                                                                                                                                                                                                                                                                                                                                                                                                                                                                                                                                                                                                                                                                                                                                                                                                                                                                                                                                                                                                                                                                                                                                                                                                                                                                                                                                                                                                                                                                                                                                                                                                                                                                                                                                                                                                                                                                                           DIGITAL-MEDIA             1\n",
       "30437583  PROGRAM ANALYST       Professional Summary    As a key member of the Stakeholder Relations Branch tasks involve performing analysis and providing strategic advice on relevant policies and frameworks in order to enhance the capacity to engage stakeholders as active members of Food and Nutrition Service's (FNS) partner network.      Core Qualifications        Microsoft PowerPoint, Word, Excel and Publisher Webinar Applications (Livemeeting, OnStream Media, and ReadyTalk) Video and Photo Editing (Camtasia, Adobe Photoshop) Other Applications (Drupal, Basecamp, Vovici, Survey Monkey, and Social Media Channels)            Experience     09/2014   to   01/2015     Program Analyst    Company Name          40 hours per week Supervisor: Cheryl Jackson-Lewis, Cheryl.Lewis@fns.usda.gov, (703) 305-1465 Assisted in successfully meeting the strategic priorities for the U.S.  Department of Agriculture Food Waste Challenge Initiative by creating resources and presentations to promote the program and increase the number of schools involved Organized several presentations and developed targeted materials for the National Green Schools Conference Managed external communications from the general public, schools, and partners focused on Team Nutrition Managed the Team Nutrition and the Healthier US School Challenge database.         06/2012   to   Current     Program Analyst, The Office of External and Governmental Affairs    Company Name   －   City  ,   State      Identify and develop over 30 new & existing national partnerships among stakeholders that reflect an understanding of FNS's strategic plans and goals.  Act as a liaison between FNS and partners; requires the development of comprehensive work plans, event itineraries, presentations, reports/summaries, and portfolio evaluation and feedback Disseminate information to appropriate internal and external partners through detailed written correspondence, press releases, conference calls, and in-person meetings Edit and finalize reports submitted to senior leadership on expansion and growth of FNS program through specific initiatives Received 3 Performance Rewards for leading a collaborative work team associated with development of strategy plans, outreach initiatives and expansion relating to a high level FNS priority Provide planning, technical assistance, execution, and production for over 400 webinars Demonstrate quantitative analysis methods to determine efficiency of efforts relating to partners and the general public Collect best practices from partners throughout the country to highlight and duplicate in other regions Strategically analyze GIS mapping to increased anti-hunger outreach by identifying high risk areas and cross referencing with available resources Head of pilot projects in rural, underserved communities to demonstrate the impact of youth engagement Acts as a subject matter expert representing FNS at advisory board meetings and conferences, as well as staffs senior leaders and political appointees at local and national events Internal & external review boards for awards, grants, and conference presentations Member of the USDA FNS Agency Priority Working Group to ensure that the Office of the Chief Communications successfully implements three priorities: Increase the number of SNAP authorized farmers' markets and direct marketing farmers by 517 in FY15 from the FY14 baseline Implement approved FY15 communication action plans that engage key stakeholders towards achieving enrollment in the US Food Waste Challenge Build and maintain domestic and international partnerships focused on quality school meals programs, nutrition education, and other FNS nutrition programs.         01/2011   to   06/2012     Student Intern    Company Name   －   City  ,   State      Part-time volunteer employment - 20 hours per week.  Supervisor: Jeff Greenfield, (703) 605-4331.          Education     March 2014     Masters of Public Health  :   Health Education    Loma Linda University   －   City  ,   State      GPA:   GPA: 3.63 Cum Laude, Deans list    Health Education GPA: 3.63 Cum Laude, Deans list       May 2012     Bachelors of Science  :   Community Health Nutrition    George Mason University   －   City  ,   State      GPA:   GPA: 3.04 Deans list    Community HealthNutrition GPA: 3.04 Deans list        Professional Affiliations    Make-A-Wish Foundation Member of the Young Professional Council Wish Granter Alpha Phi Fraternity International Alumni Leukemia & Lymphoma Society Volunteer Member of Young Government Leaders Member of the Organization of Professional Employees of the US Department of Agriculture       Accomplishments    TBD      Interests    Alpha Phi Fraternity, SNA (Student Nurse Association), Habitat for Humanity, Greek Week Steering Committee      Skills    Adobe Photoshop, Anatomy, Agency, Biology, Chemistry, conferences, database, direct marketing, Drupal, Edit, Environmental Health, GIS, grants, Health Education, Health Promotion, Information Technology, Leadership, materials, meetings, Excel, Office, Microsoft PowerPoint, Publisher, Word, Photo Editing, Physiology, presentations, press releases, Program Evaluation, Program Development and Evaluation, Public Health, Qualitative Research, quality, quantitative analysis, Research, Statistics, strategy, strategic, strategic plans, Supervisor, technical assistance, Video, written      Additional Information      Activities: Alpha Phi Fraternity, SNA (Student Nurse Association), Habitat for Humanity, Greek Week Steering Committee  Able to travel and/or relocate\\r\\n03/09/2016                                                                                                                                                                                                                                                                                                                                                                                                                                                                                                                                                                                                                                                                                                                                                                                                                                                                                                                                                                                                                                                                                                                                                                                                                                                                                                                                                                                                                                                                                                                                                                                                                                                                                                                                                                                                                                                                                                                                                                                                                                                                                                                                                                                                                                                                                                                                                                                                                                                                                                                                                                                                                                                                                                                                                                                                                                                                                                                                                                                  <div class=\"fontsize fontface vmargins hmargins linespacing pagesize\" id=\"document\"> <div class=\"section firstsection\" id=\"SECTION_NAME807092206\" style=\"padding-top:0px;\"> <div class=\"paragraph PARAGRAPH_NAME firstparagraph\" id=\"PARAGRAPH_807092206_1_524394920\" style=\"padding-top:0px;\"> <div class=\"name thinbottomborder\" itemprop=\"name\"> <span class=\"field fName\" id=\"807092206FNAM1\"> </span> <span> </span> <span class=\"field\" id=\"807092206LNAM1\"> PROGRAM ANALYST</span> </div> </div> </div> <div class=\"section\" id=\"SECTION_SUMM807092211\" style=\"padding-top:0px;\"> <div class=\"heading\"> <div class=\"sectiontitle\" id=\"SECTNAME_SUMM807092211\"> Professional Summary</div> </div> <div class=\"paragraph firstparagraph\" id=\"PARAGRAPH_807092211_1_524394932\" style=\"padding-top:0px;\"> <div class=\"field singlecolumn noPind\" id=\"807092211FRFM1\"> As a key member of the Stakeholder Relations Branch tasks involve performing analysis and providing strategic advice on relevant policies and frameworks in order to enhance the capacity to engage stakeholders as active members of Food and Nutrition Service's (FNS) partner network.</div> </div> </div> <div class=\"section\" id=\"SECTION_HILT807092215\" style=\"padding-top:0px;\"> <div class=\"heading\"> <div class=\"sectiontitle\" id=\"SECTNAME_HILT807092215\"> Core Qualifications</div> </div> <div class=\"paragraph firstparagraph\" id=\"PARAGRAPH_807092215_1_524394936\" style=\"padding-top:0px;\"> <div class=\"singlecolumn maincolumn\"> <table class=\"twocol\"> <tbody> <tr> <td class=\"field twocol_1\" id=\"807092215SKC11\"> Microsoft PowerPoint, Word, Excel and Publisher Webinar Applications (Livemeeting, OnStream Media, and ReadyTalk) Video and Photo Editing (Camtasia, Adobe Photoshop) Other Applications (Drupal, Basecamp, Vovici, Survey Monkey, and Social Media Channels)</td> <td class=\"field twocol_2\" id=\"807092215SKC21\"> </td> </tr> </tbody> </table> </div> </div> </div> <div class=\"section\" id=\"SECTION_EXPR807092208\" style=\"padding-top:0px;\"> <div class=\"heading\"> <div class=\"sectiontitle\" id=\"SECTNAME_EXPR807092208\"> Experience</div> </div> <div class=\"paragraph firstparagraph\" id=\"PARAGRAPH_807092208_1_524394924\" itemscope=\"\" itemtype=\"https://schema.org/Organization\" style=\"padding-top:0px;\"> <span class=\"dates_wrapper\"> <span class=\"jobdates\" format=\"%m/%Y\" id=\"807092208JSTD1\"> 09/2014</span> <span>  to </span> <span class=\"jobdates\" format=\"%m/%Y\" id=\"807092208EDDT1\"> 01/2015</span> </span> <div class=\"singlecolumn\"> <span class=\"paddedline\"> <span class=\"jobtitle\" id=\"807092208JTIT1\"> Program Analyst</span> </span> <span class=\"paddedline\" itemscope=\"\" itemtype=\"https://schema.org/postalAddress\"> <span class=\"companyname\" id=\"807092208COMP1\" itemprop=\"name\"> Company Name</span> <span class=\"joblocation jobcity\" id=\"807092208JCIT1\" itemprop=\"addressLocality\"> </span> <span class=\"joblocation jobstate\" id=\"807092208JSTA1\" itemprop=\"addressRegion\"> </span> </span> <span class=\"paddedline\"> <span class=\"jobline\" id=\"807092208JDES1\" itemprop=\"description\"> <ul> <li> 40 hours per week Supervisor: Cheryl Jackson-Lewis, Cheryl.Lewis@fns.usda.gov, (703) 305-1465 Assisted in successfully meeting the strategic priorities for the U.S.</li> <li> Department of Agriculture Food Waste Challenge Initiative by creating resources and presentations to promote the program and increase the number of schools involved Organized several presentations and developed targeted materials for the National Green Schools Conference Managed external communications from the general public, schools, and partners focused on Team Nutrition Managed the Team Nutrition and the Healthier US School Challenge database.</li> </ul> </span> </span> </div> </div> <div class=\"paragraph\" id=\"PARAGRAPH_807092208_2_524394923\" itemscope=\"\" itemtype=\"https://schema.org/Organization\" style=\"padding-top:0px;\"> <span class=\"dates_wrapper\"> <span class=\"jobdates\" format=\"%m/%Y\" id=\"807092208JSTD2\"> 06/2012</span> <span>  to </span> <span class=\"jobdates\" format=\"%m/%Y\" id=\"807092208EDDT2\"> Current</span> </span> <div class=\"singlecolumn\"> <span class=\"paddedline\"> <span class=\"jobtitle\" id=\"807092208JTIT2\"> Program Analyst, The Office of External and Governmental Affairs</span> </span> <span class=\"paddedline\" itemscope=\"\" itemtype=\"https://schema.org/postalAddress\"> <span class=\"companyname\" id=\"807092208COMP2\" itemprop=\"name\"> Company Name</span> <span>  － </span> <span class=\"joblocation jobcity\" id=\"807092208JCIT2\" itemprop=\"addressLocality\"> City</span> <span> , </span> <span class=\"joblocation jobstate\" id=\"807092208JSTA2\" itemprop=\"addressRegion\"> State</span> </span> <span class=\"paddedline\"> <span class=\"jobline\" id=\"807092208JDES2\" itemprop=\"description\"> <ul> <li> Identify and develop over 30 new &amp; existing national partnerships among stakeholders that reflect an understanding of FNS's strategic plans and goals.</li> <li> Act as a liaison between FNS and partners; requires the development of comprehensive work plans, event itineraries, presentations, reports/summaries, and portfolio evaluation and feedback Disseminate information to appropriate internal and external partners through detailed written correspondence, press releases, conference calls, and in-person meetings Edit and finalize reports submitted to senior leadership on expansion and growth of FNS program through specific initiatives Received 3 Performance Rewards for leading a collaborative work team associated with development of strategy plans, outreach initiatives and expansion relating to a high level FNS priority Provide planning, technical assistance, execution, and production for over 400 webinars Demonstrate quantitative analysis methods to determine efficiency of efforts relating to partners and the general public Collect best practices from partners throughout the country to highlight and duplicate in other regions Strategically analyze GIS mapping to increased anti-hunger outreach by identifying high risk areas and cross referencing with available resources Head of pilot projects in rural, underserved communities to demonstrate the impact of youth engagement Acts as a subject matter expert representing FNS at advisory board meetings and conferences, as well as staffs senior leaders and political appointees at local and national events Internal &amp; external review boards for awards, grants, and conference presentations Member of the USDA FNS Agency Priority Working Group to ensure that the Office of the Chief Communications successfully implements three priorities: Increase the number of SNAP authorized farmers' markets and direct marketing farmers by 517 in FY15 from the FY14 baseline Implement approved FY15 communication action plans that engage key stakeholders towards achieving enrollment in the US Food Waste Challenge Build and maintain domestic and international partnerships focused on quality school meals programs, nutrition education, and other FNS nutrition programs.</li> </ul> </span> </span> </div> </div> <div class=\"paragraph\" id=\"PARAGRAPH_807092208_3_524394926\" itemscope=\"\" itemtype=\"https://schema.org/Organization\" style=\"padding-top:0px;\"> <span class=\"dates_wrapper\"> <span class=\"jobdates\" format=\"%m/%Y\" id=\"807092208JSTD3\"> 01/2011</span> <span>  to </span> <span class=\"jobdates\" format=\"%m/%Y\" id=\"807092208EDDT3\"> 06/2012</span> </span> <div class=\"singlecolumn\"> <span class=\"paddedline\"> <span class=\"jobtitle\" id=\"807092208JTIT3\"> Student Intern</span> </span> <span class=\"paddedline\" itemscope=\"\" itemtype=\"https://schema.org/postalAddress\"> <span class=\"companyname\" id=\"807092208COMP3\" itemprop=\"name\"> Company Name</span> <span>  － </span> <span class=\"joblocation jobcity\" id=\"807092208JCIT3\" itemprop=\"addressLocality\"> City</span> <span> , </span> <span class=\"joblocation jobstate\" id=\"807092208JSTA3\" itemprop=\"addressRegion\"> State</span> </span> <span class=\"paddedline\"> <span class=\"jobline\" id=\"807092208JDES3\" itemprop=\"description\"> <ul> <li> Part-time volunteer employment - 20 hours per week.</li> <li> Supervisor: Jeff Greenfield, (703) 605-4331.</li> </ul> </span> </span> </div> </div> </div> <div class=\"section\" id=\"SECTION_EDUC807092210\" style=\"padding-top:0px;\"> <div class=\"heading\"> <div class=\"sectiontitle\" id=\"SECTNAME_EDUC807092210\"> Education</div> </div> <div class=\"paragraph firstparagraph\" id=\"PARAGRAPH_807092210_1_524394928\" itemscope=\"\" itemtype=\"https://schema.org/EducationalOrganization\" style=\"padding-top:0px;\"> <span class=\"dates_wrapper\"> <span class=\"jobdates\" id=\"807092210GRYR1\"> March 2014</span> </span> <div class=\"singlecolumn\"> <span class=\"paddedline\" itemprop=\"description\"> <span class=\"degree\" id=\"807092210DGRE1\" itemprop=\"name\"> Masters of Public Health</span> <span> : </span> <span class=\"programline\" id=\"807092210STUY1\"> Health Education</span> </span> <span class=\"paddedline\"> <span class=\"companyname companyname_educ\" dependency=\"SCHO\" id=\"807092210SCHO1\" itemprop=\"name\"> Loma Linda University</span> <span class=\"statesWrapper\">  － </span> <span class=\"joblocation jobcity\" id=\"807092210SCIT1\"> City</span> <span> , </span> <span class=\"joblocation jobstate\" id=\"807092210SSTA1\"> State</span> <span class=\"joblocation jobstate\" id=\"807092210SCNT1\"> </span> </span> <span class=\"paddedline\"> <span> GPA: </span> <span class=\"field\" id=\"807092210GRPA1\"> GPA: 3.63 Cum Laude, Deans list</span> </span> <span class=\"paddedline\"> <span class=\"field\" id=\"807092210FRFM1\"> Health Education GPA: 3.63 Cum Laude, Deans list</span> </span> </div> </div> <div class=\"paragraph\" id=\"PARAGRAPH_807092210_2_524394930\" itemscope=\"\" itemtype=\"https://schema.org/EducationalOrganization\" style=\"padding-top:0px;\"> <span class=\"dates_wrapper\"> <span class=\"jobdates\" id=\"807092210GRYR2\"> May 2012</span> </span> <div class=\"singlecolumn\"> <span class=\"paddedline\" itemprop=\"description\"> <span class=\"degree\" id=\"807092210DGRE2\" itemprop=\"name\"> Bachelors of Science</span> <span> : </span> <span class=\"programline\" id=\"807092210STUY2\"> Community Health Nutrition</span> </span> <span class=\"paddedline\"> <span class=\"companyname companyname_educ\" dependency=\"SCHO\" id=\"807092210SCHO2\" itemprop=\"name\"> George Mason University</span> <span class=\"statesWrapper\">  － </span> <span class=\"joblocation jobcity\" id=\"807092210SCIT2\"> City</span> <span> , </span> <span class=\"joblocation jobstate\" id=\"807092210SSTA2\"> State</span> <span class=\"joblocation jobstate\" id=\"807092210SCNT2\"> </span> </span> <span class=\"paddedline\"> <span> GPA: </span> <span class=\"field\" id=\"807092210GRPA2\"> GPA: 3.04 Deans list</span> </span> <span class=\"paddedline\"> <span class=\"field\" id=\"807092210FRFM2\"> Community HealthNutrition GPA: 3.04 Deans list</span> </span> </div> </div> </div> <div class=\"section\" id=\"SECTION_AFIL807092213\" style=\"padding-top:0px;\"> <div class=\"heading\"> <div class=\"sectiontitle\" id=\"SECTNAME_AFIL807092213\"> Professional Affiliations</div> </div> <div class=\"paragraph firstparagraph\" id=\"PARAGRAPH_807092213_1_524394934\" style=\"padding-top:0px;\"> <div class=\"field singlecolumn\" id=\"807092213FRFM1\"> Make-A-Wish Foundation Member of the Young Professional Council Wish Granter Alpha Phi Fraternity International Alumni Leukemia &amp; Lymphoma Society Volunteer Member of Young Government Leaders Member of the Organization of Professional Employees of the US Department of Agriculture </div> </div> </div> <div class=\"section\" id=\"SECTION_ACCM807092209\" style=\"padding-top:0px;\"> <div class=\"heading\"> <div class=\"sectiontitle\" id=\"SECTNAME_ACCM807092209\"> Accomplishments</div> </div> <div class=\"paragraph firstparagraph\" id=\"PARAGRAPH_807092209_1_524405815\" style=\"padding-top:0px;\"> <div class=\"field singlecolumn\" id=\"807092209FRFM1\"> TBD</div> </div> </div> <div class=\"section\" id=\"SECTION_INTR807092214\" style=\"padding-top:0px;\"> <div class=\"heading\"> <div class=\"sectiontitle\" id=\"SECTNAME_INTR807092214\"> Interests</div> </div> <div class=\"paragraph firstparagraph\" id=\"PARAGRAPH_807092214_1_524394935\" style=\"padding-top:0px;\"> <div class=\"field singlecolumn\" id=\"807092214FRFM1\"> Alpha Phi Fraternity, SNA (Student Nurse Association), Habitat for Humanity, Greek Week Steering Committee</div> </div> </div> <div class=\"section\" id=\"SECTION_SKLL807092216\" style=\"padding-top:0px;\"> <div class=\"heading\"> <div class=\"sectiontitle\" id=\"SECTNAME_SKLL807092216\"> Skills</div> </div> <div class=\"paragraph firstparagraph\" id=\"PARAGRAPH_807092216_1_524394937\" style=\"padding-top:0px;\"> <div class=\"field singlecolumn\" id=\"807092216FRFM1\"> Adobe Photoshop, Anatomy, Agency, Biology, Chemistry, conferences, database, direct marketing, Drupal, Edit, Environmental Health, GIS, grants, Health Education, Health Promotion, Information Technology, Leadership, materials, meetings, Excel, Office, Microsoft PowerPoint, Publisher, Word, Photo Editing, Physiology, presentations, press releases, Program Evaluation, Program Development and Evaluation, Public Health, Qualitative Research, quality, quantitative analysis, Research, Statistics, strategy, strategic, strategic plans, Supervisor, technical assistance, Video, written</div> </div> </div> <div class=\"section\" id=\"SECTION_ADDI807092217\" style=\"padding-top:0px;\"> <div class=\"heading\"> <div class=\"sectiontitle\" id=\"SECTNAME_ADDI807092217\"> Additional Information</div> </div> <div class=\"paragraph firstparagraph\" id=\"PARAGRAPH_807092217_1_524394938\" style=\"padding-top:0px;\"> <div class=\"field singlecolumn\" id=\"807092217FRFM1\"> <ul> <li> Activities: Alpha Phi Fraternity, SNA (Student Nurse Association), Habitat for Humanity, Greek Week Steering Committee</li> <li> Able to travel and/or relocate\\r\\n03/09/2016</li> </ul> </div> </div> </div> </div>                                                                                                                                                                                                                                                                                                                                                                                                                                                                                                                                                                                                                                                                                                                                                                                                                                                                                                                                                                                                                                                                                                                                                                                                                                                                                                                                                                                                                                                                                                                                                                                                                                                                                                                                                                                                                                                                                                                                                                                                                                                                                                                                                                                                                                                                                                                                                                                                                                                                                                                                                                                                                                                                                                                                                                                                                                                                                                                                                                                                                                                                                                                                                                                                                                                                                                                                                                                                                                                                                                                                                                                                                                                                                                                                                                                                                                                                                                                                                                                                                                                                                                                                                                                                                                                                                                                                                                                                                                                                                                                                                                                                                                                                                                                                                                                                                                                                                                                                                                                                                                                                                                                                                                                                                                                                                                                                                                                                                                                                                                                                                                                                                                                                                                                                                                                                                                                                                                                                                                                                                                                                                                                                                                                                                                                                                                                                                                                                                                                                                                                                                                                                                                                                                                                                                                                                                                                                                                                                                                                 AGRICULTURE               1\n",
       "                                                                                                                                                                                                                                                                                                                                                                                                                                                                                                                                                                                                                                                                                                                                                                                                                                                                                                                                                                                                                                                                                                                                                                                                                                                                                                                                                                                                                                                                                                                                                                                                                                                                                                                                                                                                                                                                                                                                                                                                                                                                                                                                                                                                                                                                                                                                                                                                                                                                                                                                                                                                                                                                                                                                                                                                                                                                                                                                                                                                                                                                                                                                                                                                                                                                                                                                                                                                                                                                                                                                                                                                                                                                                                                                                                                                                                                                                                                                                                                                                                                                                                                                                                                                                                                                                                                                                                                                                                                                                                                                                                                                                                                                                                                                                                                                                                                                                                                                                                                                                                                                                                                                                                                                                                                                                                                                                                                                                                                                                                                                                                                                                                                                                                                                                                                                                                                                                                                                                                                                                                                                                                                                                                                                                                                                                                                                                                                                                                                                                                                                                                                                                                                                                                                                                                                                                                                                                                                                                                                                                                                                                                                                                                                                                                                                                                                                                                                                                                                                                                                                                                                                                                                                                                                                                                                                                                                                                                                                                                                                                                                                                                                                                                                                                                                                                                                                                                                                                                                                                                                                                                                                                                                                                                                                                                                                                                                                                                                                                                                                                                                                                                                                                                                                                                                                                                                                                                                                                                                                                                                                                                                                                                                                                                                                                                                                                                                                                                                                                                                                                                                                                                                                                                                                                                                                                                                                                                                                                                                                                                                                                                                                                                                                                                                                                                                                                                                                                                                                                                                                                                                                                                                                                                                                                                                                                                                                                                                                                                                                                                                                                                                                                                                                                                                                                                                                                                                                                                                                                                                                                                                                                                                                                                                                                                                                                                                                                                                                                                                                                                                                                                                                                                                                                                                                                                                                                                                                                                                                                                                                                                                                                                                                                                                                                                                                                                                                                                                                                                                                                                                                                                                                                                                                                                                                                                                                                                                                                                                                                                                                                                                                                                                                                                                                                                                                                                                                                                                                                                                                                                                                                                                                                                                                                                                                                                                                                                                                                                                                                                                                                                                                                                                                                                                                                                                                                                                                                                                                                                                                                                                                                                                                                                                                                                                                                                                                                                                                                                                                                                                                                                                                                                                                                                                                                                                                                                                                                                                                                                                                                                                                                                                                                                                                                                                                                                                                                                                                                                                                                                                                                                                                                                                                                                                                                                                                                                                                                                                                                                                                                                                                                                                                                                                                                                                                                                                                                                                                                                                                                                                                                                                                                                                                                                                                                                                                                                                                                                                                                                                                                                                                                                                                                                                                                                                                                                                                                                                                                                                                                                                                                                                                                                                                                                                                                                                                                                                                                                                                                                                                                                                                                                                                                                                                                                                                                                                                                                                                                                                                                                                                                                                                                                                                                                                                                                                                                                                                                                                                                                                                                                                                                                                                                                                                                                                                                                                                                                                                                                                                                                                                                                                                                                                                                                                                                                                                                                                                                                                                                                                                                                                                                                                                                                                                                                                                                                                                                                                                                                                                                                                                                                                                                                                                                                                                                                                                                                                                                                                                                                                                                                                                                                                                                                                                                                                                                                                                                                                                                                                                                                                                                                                                                                                                                                                                                                                                                                                                                                                                                                                                                                                                                                                                                                                                                                                                                                                                                                                                                                                                                                                                                                                                                                                                                                                                                                                                                                                                                                                                                                                                                                                                                                                                                                                                                                                                                                                                                                                                                                                                                                                                                                                                                                                                                                                                                                                                                                                                                                                                                                                                                                                                                                                                                                                                                                                                                                                                                                                                                                                                                                                                                                                                                                                                                                                                                                                                                                                                                                                                                                                                                                                                                                                                                                                                                                                                                                                                                                                                                                                                                                                                                                                                                                                                                                                                                                                                                                                                                                                                                                                                                                                                                                                                                                                                                                                                                                                                                                                                                                                                                                                                                                                                                                                                                                                                                                                                                                                                                                                                                                                                                                                                                                                                                                                                                                                                                                                                                                                                                                                                                                                                                                                                                                                                                                                                                                                                                                                                                                                                                                                                                                                                                                                                                                                                                                                                                                                                                                                                                                                                                                                                                                                             ..\n",
       "20553895  BUSINESS DEVELOPMENT REPRESENTATIVE         Summary     Dedicated Business Development Representative who is a detail-oriented self-starter and congenial salesperson who has excelled in closing percentages. Background in inside sales and customer service.        Skills      FCA Kain Automotive training (3 steps to digital success)  Chrysler Certified Employee   CRM training        Highlights          Seasoned in conflict resolution  Strong organizational skills  Energetic work attitude  Adaptive team player   Telephone inquiries specialist      Multi-line phone talent  Exceptional communication skills  Excellent time management  Leadership abilities  Quick Learner            Experience      Company Name    City  ,   State    Business Development Representative   07/2016   to   10/2016          Answered customers' questions regarding products, prices and availability.       Emphasized product features based on analysis of customers' needs.       Responded to all customer inquiries in a timely manner.       Shared product knowledge with customers while making personal recommendations.         Maintained friendly and professional customer interactions.            Company Name    City  ,   State    Internet & Social Media Manager   12/2015   to   07/2016       Answer customers' questions about products, prices, availability, product uses, and credit terms.  Recommend products to customers, based on customers' needs and interests.  Consult with clients after sales or contract signings to resolve problems and to provide ongoing support.  Create and publish gravitating posts on various social media forums (Facebook, Twitter, Instagram, etc.).  Respond promptly to all reviews regarding the company.  Compose and send compelling email blasts weekly to generate business.  Conduct weekly meetings discussing current sales percentages of the Business Development Department.  Update information on the company website frequently.          Company Name    City  ,   State    Manager   10/2014   to   04/2015       Trained new employees and brought them up to the restaurant standards.  Finished all tasks in a timely manner.  Oversaw all customer complaints and assist the problem correctly for the best benefit of the customer and the store.          Company Name    City  ,   State    Server & Lead Bartender   04/2012   to   07/2015       Provided excellent customer service.  Worked closely with other servers and kitchen staff to ensure that the restaurant runs efficiently.                                                                                                                                                                                                                                                                                                                                                                                                                                                                                                                                                                                                                                                                                                                                                                                                                                                                                                                                                                                                                                                                                                                                                                                                                                                                                                                                                                                                                                                                                                                                                                                                                                                                                                                                                                                                                                                                                                                                                                                                                                                                                                                                                                                                                                                                                                                                                                                                                                                                                                                                                                                                                                                                                                                                                                                                                                                                                                                                                                                                                                                                                                                                                                                                                                                                                                                                                                                                                                                                                                                                                                                                                                                                                                                                                                                                                                                                                                                                                                                                                                                                                                                                                                                                                                                                                                                                                                                                                                                                                                                                                                                                                                                                                                                                                                                                                                                                                                                                                                                                                                                                                                                                                                                                                                                                                                                                                                                                                                                                                                                                                                                                                                                                                                                                                                                                                                                                                                                                                                                                                                                                                                                                                                                       <div class=\"fontsize fontface vmargins hmargins linespacing pagesize\" id=\"document\"> <div class=\"section firstsection\" id=\"SECTION_NAME789423236\" style=\"\\r\\n      padding-top:0px;\\r\\n    \"> <div class=\"paragraph PARAGRAPH_NAME firstparagraph\" id=\"PARAGRAPH_789423236_1_512215711\" style=\"\\r\\n      padding-top:0px;\\r\\n    \"> <div class=\"name thinbottomborder\" itemprop=\"name\"> <span class=\"field\" id=\"789423236FNAM1\"> </span> <span> </span> <span class=\"field\" id=\"789423236LNAM1\"> BUSINESS DEVELOPMENT REPRESENTATIVE</span> </div> <div class=\"botBorder\"> </div> </div> </div> <div class=\"section\" id=\"SECTION_SUMM789423237\" style=\"\\r\\n      padding-top:0px;\\r\\n    \"> <div class=\"heading\"> <div class=\"sectiontitle\" id=\"SECTNAME_SUMM789423237\"> Summary</div> </div> <div class=\"paragraph firstparagraph\" id=\"PARAGRAPH_789423237_1_512225942\" style=\"\\r\\n      padding-top:0px;\\r\\n    \"> <div class=\"field singlecolumn\" id=\"789423237FRFM1\"> <span class=\"\"> Dedicated Business Development Representative who is a detail-oriented self-starter and congenial salesperson who has excelled in closing percentages. Background in inside sales and customer service. </span> </div> </div> </div> <div class=\"section\" id=\"SECTION_SKLL789438432\" style=\"\\r\\n      padding-top:0px;\\r\\n    \"> <div class=\"heading\"> <div class=\"sectiontitle\" id=\"SECTNAME_SKLL789438432\"> Skills</div> </div> <div class=\"paragraph firstparagraph\" id=\"PARAGRAPH_789438432_1_512226469\" style=\"\\r\\n      padding-top:0px;\\r\\n    \"> <div class=\"field singlecolumn\" id=\"789438432FRFM1\"> <ul> <li> FCA Kain Automotive training (3 steps to digital success)</li> <li> Chrysler Certified Employee </li> <li> CRM training</li> </ul> </div> </div> </div> <div class=\"section\" id=\"SECTION_HILT789423235\" style=\"\\r\\n      padding-top:0px;\\r\\n    \"> <div class=\"heading\"> <div class=\"sectiontitle\" id=\"SECTNAME_HILT789423235\"> Highlights</div> </div> <div class=\"paragraph firstparagraph\" id=\"PARAGRAPH_789423235_1_512225650\" style=\"\\r\\n      padding-top:0px;\\r\\n    \"> <div class=\"singlecolumn maincolumn\"> <table class=\"twocol\"> <tbody> <tr> <td class=\"field twocol_1\" id=\"789423235SKC11\"> <ul> <li> Seasoned in conflict resolution</li> <li> Strong organizational skills</li> <li> Energetic work attitude</li> <li> Adaptive team player</li> <li>  Telephone inquiries specialist</li> </ul> </td> <td class=\"field twocol_2\" id=\"789423235SKC21\"> <ul> <li> Multi-line phone talent</li> <li> Exceptional communication skills</li> <li> Excellent time management</li> <li> Leadership abilities</li> <li> Quick Learner</li> </ul> </td> </tr> </tbody> </table> </div> </div> </div> <div class=\"section\" id=\"SECTION_EXPR789423234\" style=\"\\r\\n      padding-top:0px;\\r\\n    \"> <div class=\"heading\"> <div class=\"sectiontitle\" id=\"SECTNAME_EXPR789423234\"> Experience</div> </div> <div class=\"paragraph firstparagraph\" id=\"PARAGRAPH_789423234_1_556148222\" itemscope=\"\" itemtype=\"https://schema.org/Organization\" style=\"\\r\\n      padding-top:0px;\\r\\n    \"> <div class=\"singlecolumn\"> <span class=\"paddedline txtCenter\"> <span class=\"companyname\" id=\"789423234COMP1\" itemprop=\"name\"> Company Name</span> </span> <span class=\"paddedline txtCenter\" itemscope=\"\" itemtype=\"https://schema.org/postalAddress\"> <span class=\"joblocation jobcity\" id=\"789423234JCIT1\" itemprop=\"addressLocality\"> City</span> <span> , </span> <span class=\"joblocation jobstate\" id=\"789423234JSTA1\" itemprop=\"addressRegion\"> State</span> </span> <span class=\"paddedline\"> <span class=\"jobtitle\" id=\"789423234JTIT1\"> Business Development Representative</span> <span class=\"datesWrapper\"> <span class=\"jobdates\" format=\"%m/%Y\" id=\"789423234JSTD1\"> 07/2016</span> <span>  to </span> <span class=\"jobdates\" format=\"%m/%Y\" id=\"789423234EDDT1\"> 10/2016</span> </span> </span> <span class=\"paddedline\"> <span class=\"jobline txtLeft\" id=\"789423234JDES1\" itemprop=\"description\"> <ul> <li> <font> </font> <font> Answered customers' questions regarding products, prices and availability. </font> </li> <li> <font> </font> <font> Emphasized product features based on analysis of customers' needs. </font> <font> </font> </li> <li> <font> Responded to all customer inquiries in a timely manner. </font> </li> </ul> <ul> <li> <font> Shared product knowledge with customers while making personal recommendations. </font> </li> </ul> <ul> <li> <font> </font> <font> Maintained friendly and professional customer interactions. </font> </li> </ul> </span> </span> </div> </div> <div class=\"paragraph\" id=\"PARAGRAPH_789423234_2_512218093\" itemscope=\"\" itemtype=\"https://schema.org/Organization\" style=\"\\r\\n      padding-top:0px;\\r\\n    \"> <div class=\"singlecolumn\"> <span class=\"paddedline txtCenter\"> <span class=\"companyname\" id=\"789423234COMP2\" itemprop=\"name\"> Company Name</span> </span> <span class=\"paddedline txtCenter\" itemscope=\"\" itemtype=\"https://schema.org/postalAddress\"> <span class=\"joblocation jobcity\" id=\"789423234JCIT2\" itemprop=\"addressLocality\"> City</span> <span> , </span> <span class=\"joblocation jobstate\" id=\"789423234JSTA2\" itemprop=\"addressRegion\"> State</span> </span> <span class=\"paddedline\"> <span class=\"jobtitle\" id=\"789423234JTIT2\"> Internet &amp; Social Media Manager</span> <span class=\"datesWrapper\"> <span class=\"jobdates\" format=\"%m/%Y\" id=\"789423234JSTD2\"> 12/2015</span> <span>  to </span> <span class=\"jobdates\" format=\"%m/%Y\" id=\"789423234EDDT2\"> 07/2016</span> </span> </span> <span class=\"paddedline\"> <span class=\"jobline txtLeft\" id=\"789423234JDES2\" itemprop=\"description\"> <ul> <li> Answer customers' questions about products, prices, availability, product uses, and credit terms.</li> <li> Recommend products to customers, based on customers' needs and interests.</li> <li> Consult with clients after sales or contract signings to resolve problems and to provide ongoing support.</li> <li> Create and publish gravitating posts on various social media forums (Facebook, Twitter, Instagram, etc.).</li> <li> Respond promptly to all reviews regarding the company.</li> <li> Compose and send compelling email blasts weekly to generate business.</li> <li> Conduct weekly meetings discussing current sales percentages of the Business Development Department.</li> <li> Update information on the company website frequently.</li> </ul> </span> </span> </div> </div> <div class=\"paragraph\" id=\"PARAGRAPH_789423234_3_512223571\" itemscope=\"\" itemtype=\"https://schema.org/Organization\" style=\"\\r\\n      padding-top:0px;\\r\\n    \"> <div class=\"singlecolumn\"> <span class=\"paddedline txtCenter\"> <span class=\"companyname\" id=\"789423234COMP3\" itemprop=\"name\"> Company Name</span> </span> <span class=\"paddedline txtCenter\" itemscope=\"\" itemtype=\"https://schema.org/postalAddress\"> <span class=\"joblocation jobcity\" id=\"789423234JCIT3\" itemprop=\"addressLocality\"> City</span> <span> , </span> <span class=\"joblocation jobstate\" id=\"789423234JSTA3\" itemprop=\"addressRegion\"> State</span> </span> <span class=\"paddedline\"> <span class=\"jobtitle\" id=\"789423234JTIT3\"> Manager</span> <span class=\"datesWrapper\"> <span class=\"jobdates\" format=\"%m/%Y\" id=\"789423234JSTD3\"> 10/2014</span> <span>  to </span> <span class=\"jobdates\" format=\"%m/%Y\" id=\"789423234EDDT3\"> 04/2015</span> </span> </span> <span class=\"paddedline\"> <span class=\"jobline txtLeft\" id=\"789423234JDES3\" itemprop=\"description\"> <ul> <li> Trained new employees and brought them up to the restaurant standards.</li> <li> Finished all tasks in a timely manner.</li> <li> Oversaw all customer complaints and assist the problem correctly for the best benefit of the customer and the store.</li> </ul> </span> </span> </div> </div> <div class=\"paragraph\" id=\"PARAGRAPH_789423234_4_512222417\" itemscope=\"\" itemtype=\"https://schema.org/Organization\" style=\"\\r\\n      padding-top:0px;\\r\\n    \"> <div class=\"singlecolumn\"> <span class=\"paddedline txtCenter\"> <span class=\"companyname\" id=\"789423234COMP4\" itemprop=\"name\"> Company Name</span> </span> <span class=\"paddedline txtCenter\" itemscope=\"\" itemtype=\"https://schema.org/postalAddress\"> <span class=\"joblocation jobcity\" id=\"789423234JCIT4\" itemprop=\"addressLocality\"> City</span> <span> , </span> <span class=\"joblocation jobstate\" id=\"789423234JSTA4\" itemprop=\"addressRegion\"> State</span> </span> <span class=\"paddedline\"> <span class=\"jobtitle\" id=\"789423234JTIT4\"> Server &amp; Lead Bartender</span> <span class=\"datesWrapper\"> <span class=\"jobdates\" format=\"%m/%Y\" id=\"789423234JSTD4\"> 04/2012</span> <span>  to </span> <span class=\"jobdates\" format=\"%m/%Y\" id=\"789423234EDDT4\"> 07/2015</span> </span> </span> <span class=\"paddedline\"> <span class=\"jobline txtLeft\" id=\"789423234JDES4\" itemprop=\"description\"> <ul> <li> Provided excellent customer service.</li> <li> Worked closely with other servers and kitchen staff to ensure that the restaurant runs efficiently. </li> </ul> </span> </span> </div> </div> </div> </div>                                                                                                                                                                                                                                                                                                                                                                                                                                                                                                                                                                                                                                                                                                                                                                                                                                                                                                                                                                                                                                                                                                                                                                                                                                                                                                                                                                                                                                                                                                                                                                                                                                                                                                                                                                                                                                                                                                                                                                                                                                                                                                                                                                                                                                                                                                                                                                                                                                                                                                                                                                                                                                                                                                                                                                                                                                                                                                                                                                                                                                                                                                                                                                                                                                                                                                                                                                                                                                                                                                                                                                                                                                                                                                                                                                                                                                                                                                                                                                                                                                                                                                                                                                                                                                                                                                                                                                                                                                                                                                                                                                                                                                                                                                                                                                                                                                                                                                                                                                                                                                                                                                                                                                                                                                                                                                                                                                                                                                                                                                                                                                                                                                                                                                                                                                                                                                                                                                                                                                                                                                                                                                                                                                                                                                                                                                                                                                                                                                                                                                                                                                                                                                                                                                                                                                                                                                                                                                                                                                                                                                                                                                                                                                                                                                                                                                                                                                                                                                                                                                                                                                                                                                                                                                                                                                                                                                                                                                                                                                                                                                                                                                                                                                                                                                                                                                                                                                                                                                                                                                                                                                                                                                                                                                                                                                                                                                                                                                                                                                                                                                                                                                                                                                                                                                                                                                                                                                                                                                                                                                                                                                                                                                                                                                                                                                                                                                                                                                                                                                                                                                                                                                                                                                                                                                                                                                                                                                                                                                                                                                                                                                                                                                                                                                                                                                                                                                                                                                                                                                                                                                                                                                                                                                                                                                                                                                                                                                                                                                                                                                                                                                                                                                                                                                                                                                                                                                                                                                                                                                                                           BUSINESS-DEVELOPMENT      1\n",
       "20819838  SALES           Summary    To obtain a challenging position with an organization that offers the opportunity for professional growth and where I can contribute my knowledge and skills to benefit your company.      Experience      Sales    April 2013   to   December 2014     Company Name   －   City  ,   State     Greet customers in a prompt and professional manner.  This may be in the showroom, outside on the lot or in the service or parts departments.  All customers regardless of their reason for being at the dealership will be greeted and directed to the proper department or staff member.  Assist customers by helping them find a vehicle, test drive and demonstrate the features and benefits of vehicles.  Answer the questions of the customers and assist them in every aspect of buying an automobile.  Negotiate price, terms and conditions and follow the direction of the sales manager on duty.  Escort customers throughout the sales process according to automobile sales system that is in place at the dealership.  Make follow up calls to past or potential customers.  Ask for referrals and repeat business.        Contacted new and existing customers to discuss how their needs could be met with specific products and services.    Quoted prices, credit terms and other bid specifications.Negotiated prices, terms of sales and service agreements.    Responded to all customer inquiries in a timely manner.          Sales Associate    January 2013   to   April 2013     Company Name   －   City  ,   State      Greet customers in a prompt and professional manner.  This may be in the showroom, outside on the lot or in the service or parts departments.  All customers regardless of their reason for being at the dealership will be greeted and directed to the proper department or staff member.  Assist customers by helping them find a vehicle, test drive and demonstrate the features and benefits of vehicles.  Answer the questions of the customers and assist them in every aspect of buying an automobile.  Negotiate price, terms and conditions and follow the direction of the sales manager on duty.  Escort customers throughout the sales process according to automobile sales system that is in place at the dealership.  Make follow up calls to past or potential customers.  Ask for referrals and repeat business.          Sales Associate    November 2012   to   January 2013     Company Name   －   City  ,   State      Greet customers in a prompt and professional manner.  This may be in the showroom, outside on the lot or in the service or parts departments.  All customers regardless of their reason for being at the dealership will be greeted and directed to the proper department or staff member.  Assist customers by helping them find a vehicle, test drive and demonstrate the features and benefits of vehicles.  Answer the questions of the customers and assist them in every aspect of buying an automobile.  Negotiate price, terms and conditions and follow the direction of the sales manager on duty.  Escort customers throughout the sales process according to automobile sales system that is in place at the dealership.  Make follow up calls to past or potential customers.  Ask for referrals and repeat business.          Sales Associate    March 2011   to   October 2012     Company Name   －   City  ,   State      Greet customers in a prompt and professional manner.  This may be in the showroom, outside on the lot or in the service or parts departments.  All customers regardless of their reason for being at the dealership will be greeted and directed to the proper department or staff member.  Assist customers by helping them find a vehicle, test drive and demonstrate the features and benefits of vehicles.  Answer the questions of the customers and assist them in every aspect of buying an automobile.  Negotiate price, terms and conditions and follow the direction of the sales manager on duty.  Escort customers throughout the sales process according to automobile sales system that is in place at the dealership.  Make follow up calls to past or potential customers.  Ask for referrals and repeat business.          Sales Associate    November 2010   to   March 2011     Company Name   －   City  ,   State      greet customers in a prompt and professional  manner.  This may be in the showroom, outside on the lot or in the service or parts departments.  All customers regardless of their reason for being at the dealership will be greeted and directed to the proper department or staff member.  Assist customers by helping them find a vehicle, test drive and demonstrate the features and benefits of vehicles.  Answer the questions of the customers and assist them in every aspect of buying an automobile.  Negotiate price, terms and conditions and follow the direction of the sales manager on duty.  Escort customers throughout the sales process according to automobile sales system that is in place at the dealership.  Make follow up calls to past or potential customers.  Ask for referrals and repeat business.          Leasing consultant temp    June 2010   to   October 2011     Company Name   －   City  ,   State      Assisted in daily operations of an 800 unit apartment community Met with prospective tenants to show apartments Screened rental applicants Prepared lease agreements Collected rents and security deposits Responded to residents' concerns Worked with maintenance staff Prepared work orders.          Leasing consultant    January 2008   to   January 2009     Company Name   －   City  ,   State      Assisted management in daily operations of a 250 unit apartment community Met with prospective tenants to show apartments Screened rental applicants Prepared lease agreements Collected rents and security deposits Responded to residents' concerns Worked directly with maintenance staff Prepared work orders.          Owner , Manager    January 2005   to   January 2008     Company Name   －   City  ,   State      Responsible for daily operations of 100 seat restaurant Responsible for hiring/ firing of all employees Maintained daily/ weekly schedules Daily inventory of kitchen and bar supplies Oversaw all catering events Created business plan and marketing strategies Advertised Designed restaurant and menu Built client base.          Education      Diploma   :   Graphics Design  ,   2003    Lansdale School of Business   －   City  ,   State  ,   US     Graphics Design         Associates Degree   :   Office Operations Management  ,   2005    Lansdale School of Business           Office Operations Management         Pennsylvania Real Estate License   :     2012    Schlicker Kratz R/E Institute          Licensed                  Skills     Ask, benefits, business plan, client, direction, features, firing, hiring, inventory, marketing strategies, Real Estate, sales, sales manager                                                                                                                                                                                                                                                                                                                                                                                                                                                                                                                                                                                                                                                                                                                                                                                                                                                                                                                                                                                                                                                                                                                                                                                                                                                                                                                                                                                                                                                                                                                                                                                                                                                                <div class=\"fontsize fontface vmargins hmargins linespacing pagesize\" id=\"document\"> <div class=\"section firstsection\" id=\"SECTION_NAME699060044\" style=\"padding-top:0px;\"> <div class=\"paragraph PARAGRAPH_NAME firstparagraph\" id=\"PARAGRAPH_699060044_1_453337620\" style=\"padding-top:0px;\"> <div class=\"name thinbottomborder\" itemprop=\"name\"> <span class=\"field\" id=\"699060044FNAM1\"> </span> <span> </span> <span class=\"field\" id=\"699060044LNAM1\"> SALES</span> </div> <div class=\"myGap\"> </div> <div class=\"lowerborder thinbottomborder\"> </div> </div> </div> <div class=\"section\" id=\"SECTION_SUMM699060046\" style=\"padding-top:0px;\"> <div class=\"heading\"> <div class=\"sectiontitle thinbottomborder\" id=\"SECTNAME_SUMM699060046\"> Summary</div> </div> <div class=\"paragraph firstparagraph\" id=\"PARAGRAPH_699060046_1_453337637\" style=\"padding-top:0px;\"> <div class=\"field singlecolumn\" id=\"699060046FRFM1\"> To obtain a challenging position with an organization that offers the opportunity for professional growth and where I can contribute my knowledge and skills to benefit your company.</div> </div> </div> <div class=\"section\" id=\"SECTION_EXPR699060048\" style=\"padding-top:0px;\"> <div class=\"heading\"> <div class=\"sectiontitle thinbottomborder\" id=\"SECTNAME_EXPR699060048\"> Experience</div> </div> <div class=\"paragraph firstparagraph\" id=\"PARAGRAPH_699060048_1_453337622\" itemscope=\"\" itemtype=\"https://schema.org/Organization\" style=\"padding-top:0px;\"> <div class=\"singlecolumn\"> <span class=\"paddedline\"> <span class=\"jobtitle\" id=\"699060048JTIT1\"> Sales</span> <br/> <span> <span class=\"jobdates\" format=\"%B %Y\" id=\"699060048JSTD1\"> April 2013</span> <span>  to </span> <span class=\"jobdates\" format=\"%B %Y\" id=\"699060048EDDT1\"> December 2014</span> </span> </span> <span class=\"paddedline\" itemscope=\"\" itemtype=\"https://schema.org/postalAddress\"> <span class=\"companyname\" id=\"699060048COMP1\" itemprop=\"name\"> Company Name</span> <span>  － </span> <span class=\"joblocation jobcity\" id=\"699060048JCIT1\" itemprop=\"addressLocality\"> City</span> <span> , </span> <span class=\"joblocation jobstate\" id=\"699060048JSTA1\" itemprop=\"addressRegion\"> State</span> </span> <span class=\"paddedline\"> <span class=\"jobline\" id=\"699060048JDES1\" itemprop=\"description\"> <p align=\"LEFT\"> Greet customers in a prompt and professional manner.</p> <p align=\"LEFT\"> This may be in the showroom, outside on the lot or in the service or parts departments.</p> <p align=\"LEFT\"> All customers regardless of their reason for being at the dealership will be greeted and directed to the proper department or staff member.</p> <p align=\"LEFT\"> Assist customers by helping them find a vehicle, test drive and demonstrate the features and benefits of vehicles.</p> <p align=\"LEFT\"> Answer the questions of the customers and assist them in every aspect of buying an automobile.</p> <p align=\"LEFT\"> Negotiate price, terms and conditions and follow the direction of the sales manager on duty.</p> <p align=\"LEFT\"> Escort customers throughout the sales process according to automobile sales system that is in place at the dealership.</p> <p align=\"LEFT\"> Make follow up calls to past or potential customers.</p> <p align=\"LEFT\"> Ask for referrals and repeat business.<font>  </font> </p> <p> </p> <p align=\"LEFT\"> <font> Contacted new and existing customers to discuss how their needs could be met with specific products and services.</font> </p> <p align=\"LEFT\"> <font> Quoted prices, credit terms and other bid specifications.Negotiated prices, terms of sales and service agreements.</font> </p> <p align=\"LEFT\"> <font> Responded to all customer inquiries in a timely manner.</font> </p> </span> </span> </div> </div> <div class=\"paragraph\" id=\"PARAGRAPH_699060048_2_453337625\" itemscope=\"\" itemtype=\"https://schema.org/Organization\" style=\"padding-top:0px;\"> <div class=\"singlecolumn\"> <span class=\"paddedline\"> <span class=\"jobtitle\" id=\"699060048JTIT2\"> Sales Associate</span> <br/> <span> <span class=\"jobdates\" format=\"%B %Y\" id=\"699060048JSTD2\"> January 2013</span> <span>  to </span> <span class=\"jobdates\" format=\"%B %Y\" id=\"699060048EDDT2\"> April 2013</span> </span> </span> <span class=\"paddedline\" itemscope=\"\" itemtype=\"https://schema.org/postalAddress\"> <span class=\"companyname\" id=\"699060048COMP2\" itemprop=\"name\"> Company Name</span> <span>  － </span> <span class=\"joblocation jobcity\" id=\"699060048JCIT2\" itemprop=\"addressLocality\"> City</span> <span> , </span> <span class=\"joblocation jobstate\" id=\"699060048JSTA2\" itemprop=\"addressRegion\"> State</span> </span> <span class=\"paddedline\"> <span class=\"jobline\" id=\"699060048JDES2\" itemprop=\"description\"> <ul> <li> Greet customers in a prompt and professional manner.</li> <li> This may be in the showroom, outside on the lot or in the service or parts departments.</li> <li> All customers regardless of their reason for being at the dealership will be greeted and directed to the proper department or staff member.</li> <li> Assist customers by helping them find a vehicle, test drive and demonstrate the features and benefits of vehicles.</li> <li> Answer the questions of the customers and assist them in every aspect of buying an automobile.</li> <li> Negotiate price, terms and conditions and follow the direction of the sales manager on duty.</li> <li> Escort customers throughout the sales process according to automobile sales system that is in place at the dealership.</li> <li> Make follow up calls to past or potential customers.</li> <li> Ask for referrals and repeat business.</li> </ul> </span> </span> </div> </div> <div class=\"paragraph\" id=\"PARAGRAPH_699060048_3_453337626\" itemscope=\"\" itemtype=\"https://schema.org/Organization\" style=\"padding-top:0px;\"> <div class=\"singlecolumn\"> <span class=\"paddedline\"> <span class=\"jobtitle\" id=\"699060048JTIT3\"> Sales Associate</span> <br/> <span> <span class=\"jobdates\" format=\"%B %Y\" id=\"699060048JSTD3\"> November 2012</span> <span>  to </span> <span class=\"jobdates\" format=\"%B %Y\" id=\"699060048EDDT3\"> January 2013</span> </span> </span> <span class=\"paddedline\" itemscope=\"\" itemtype=\"https://schema.org/postalAddress\"> <span class=\"companyname\" id=\"699060048COMP3\" itemprop=\"name\"> Company Name</span> <span>  － </span> <span class=\"joblocation jobcity\" id=\"699060048JCIT3\" itemprop=\"addressLocality\"> City</span> <span> , </span> <span class=\"joblocation jobstate\" id=\"699060048JSTA3\" itemprop=\"addressRegion\"> State</span> </span> <span class=\"paddedline\"> <span class=\"jobline\" id=\"699060048JDES3\" itemprop=\"description\"> <ul> <li> Greet customers in a prompt and professional manner.</li> <li> This may be in the showroom, outside on the lot or in the service or parts departments.</li> <li> All customers regardless of their reason for being at the dealership will be greeted and directed to the proper department or staff member.</li> <li> Assist customers by helping them find a vehicle, test drive and demonstrate the features and benefits of vehicles.</li> <li> Answer the questions of the customers and assist them in every aspect of buying an automobile.</li> <li> Negotiate price, terms and conditions and follow the direction of the sales manager on duty.</li> <li> Escort customers throughout the sales process according to automobile sales system that is in place at the dealership.</li> <li> Make follow up calls to past or potential customers.</li> <li> Ask for referrals and repeat business.</li> </ul> </span> </span> </div> </div> <div class=\"paragraph\" id=\"PARAGRAPH_699060048_4_453337627\" itemscope=\"\" itemtype=\"https://schema.org/Organization\" style=\"padding-top:0px;\"> <div class=\"singlecolumn\"> <span class=\"paddedline\"> <span class=\"jobtitle\" id=\"699060048JTIT4\"> Sales Associate</span> <br/> <span> <span class=\"jobdates\" format=\"%B %Y\" id=\"699060048JSTD4\"> March 2011</span> <span>  to </span> <span class=\"jobdates\" format=\"%B %Y\" id=\"699060048EDDT4\"> October 2012</span> </span> </span> <span class=\"paddedline\" itemscope=\"\" itemtype=\"https://schema.org/postalAddress\"> <span class=\"companyname\" id=\"699060048COMP4\" itemprop=\"name\"> Company Name</span> <span>  － </span> <span class=\"joblocation jobcity\" id=\"699060048JCIT4\" itemprop=\"addressLocality\"> City</span> <span> , </span> <span class=\"joblocation jobstate\" id=\"699060048JSTA4\" itemprop=\"addressRegion\"> State</span> </span> <span class=\"paddedline\"> <span class=\"jobline\" id=\"699060048JDES4\" itemprop=\"description\"> <ul> <li> Greet customers in a prompt and professional manner.</li> <li> This may be in the showroom, outside on the lot or in the service or parts departments.</li> <li> All customers regardless of their reason for being at the dealership will be greeted and directed to the proper department or staff member.</li> <li> Assist customers by helping them find a vehicle, test drive and demonstrate the features and benefits of vehicles.</li> <li> Answer the questions of the customers and assist them in every aspect of buying an automobile.</li> <li> Negotiate price, terms and conditions and follow the direction of the sales manager on duty.</li> <li> Escort customers throughout the sales process according to automobile sales system that is in place at the dealership.</li> <li> Make follow up calls to past or potential customers.</li> <li> Ask for referrals and repeat business.</li> </ul> </span> </span> </div> </div> <div class=\"paragraph\" id=\"PARAGRAPH_699060048_5_453337628\" itemscope=\"\" itemtype=\"https://schema.org/Organization\" style=\"padding-top:0px;\"> <div class=\"singlecolumn\"> <span class=\"paddedline\"> <span class=\"jobtitle\" id=\"699060048JTIT5\"> Sales Associate</span> <br/> <span> <span class=\"jobdates\" format=\"%B %Y\" id=\"699060048JSTD5\"> November 2010</span> <span>  to </span> <span class=\"jobdates\" format=\"%B %Y\" id=\"699060048EDDT5\"> March 2011</span> </span> </span> <span class=\"paddedline\" itemscope=\"\" itemtype=\"https://schema.org/postalAddress\"> <span class=\"companyname\" id=\"699060048COMP5\" itemprop=\"name\"> Company Name</span> <span>  － </span> <span class=\"joblocation jobcity\" id=\"699060048JCIT5\" itemprop=\"addressLocality\"> City</span> <span> , </span> <span class=\"joblocation jobstate\" id=\"699060048JSTA5\" itemprop=\"addressRegion\"> State</span> </span> <span class=\"paddedline\"> <span class=\"jobline\" id=\"699060048JDES5\" itemprop=\"description\"> <ul> <li> greet customers in a prompt and professional  manner.</li> <li> This may be in the showroom, outside on the lot or in the service or parts departments.</li> <li> All customers regardless of their reason for being at the dealership will be greeted and directed to the proper department or staff member.</li> <li> Assist customers by helping them find a vehicle, test drive and demonstrate the features and benefits of vehicles.</li> <li> Answer the questions of the customers and assist them in every aspect of buying an automobile.</li> <li> Negotiate price, terms and conditions and follow the direction of the sales manager on duty.</li> <li> Escort customers throughout the sales process according to automobile sales system that is in place at the dealership.</li> <li> Make follow up calls to past or potential customers.</li> <li> Ask for referrals and repeat business.</li> </ul> </span> </span> </div> </div> <div class=\"paragraph\" id=\"PARAGRAPH_699060048_6_453337630\" itemscope=\"\" itemtype=\"https://schema.org/Organization\" style=\"padding-top:0px;\"> <div class=\"singlecolumn\"> <span class=\"paddedline\"> <span class=\"jobtitle\" id=\"699060048JTIT6\"> Leasing consultant temp</span> <br/> <span> <span class=\"jobdates\" format=\"%B %Y\" id=\"699060048JSTD6\"> June 2010</span> <span>  to </span> <span class=\"jobdates\" format=\"%B %Y\" id=\"699060048EDDT6\"> October 2011</span> </span> </span> <span class=\"paddedline\" itemscope=\"\" itemtype=\"https://schema.org/postalAddress\"> <span class=\"companyname\" id=\"699060048COMP6\" itemprop=\"name\"> Company Name</span> <span>  － </span> <span class=\"joblocation jobcity\" id=\"699060048JCIT6\" itemprop=\"addressLocality\"> City</span> <span> , </span> <span class=\"joblocation jobstate\" id=\"699060048JSTA6\" itemprop=\"addressRegion\"> State</span> </span> <span class=\"paddedline\"> <span class=\"jobline\" id=\"699060048JDES6\" itemprop=\"description\"> <ul> <li> Assisted in daily operations of an 800 unit apartment community Met with prospective tenants to show apartments Screened rental applicants Prepared lease agreements Collected rents and security deposits Responded to residents' concerns Worked with maintenance staff Prepared work orders.</li> </ul> </span> </span> </div> </div> <div class=\"paragraph\" id=\"PARAGRAPH_699060048_7_453337631\" itemscope=\"\" itemtype=\"https://schema.org/Organization\" style=\"padding-top:0px;\"> <div class=\"singlecolumn\"> <span class=\"paddedline\"> <span class=\"jobtitle\" id=\"699060048JTIT7\"> Leasing consultant</span> <br/> <span> <span class=\"jobdates\" format=\"%B %Y\" id=\"699060048JSTD7\"> January 2008</span> <span>  to </span> <span class=\"jobdates\" format=\"%B %Y\" id=\"699060048EDDT7\"> January 2009</span> </span> </span> <span class=\"paddedline\" itemscope=\"\" itemtype=\"https://schema.org/postalAddress\"> <span class=\"companyname\" id=\"699060048COMP7\" itemprop=\"name\"> Company Name</span> <span>  － </span> <span class=\"joblocation jobcity\" id=\"699060048JCIT7\" itemprop=\"addressLocality\"> City</span> <span> , </span> <span class=\"joblocation jobstate\" id=\"699060048JSTA7\" itemprop=\"addressRegion\"> State</span> </span> <span class=\"paddedline\"> <span class=\"jobline\" id=\"699060048JDES7\" itemprop=\"description\"> <ul> <li> Assisted management in daily operations of a 250 unit apartment community Met with prospective tenants to show apartments Screened rental applicants Prepared lease agreements Collected rents and security deposits Responded to residents' concerns Worked directly with maintenance staff Prepared work orders.</li> </ul> </span> </span> </div> </div> <div class=\"paragraph\" id=\"PARAGRAPH_699060048_8_453337632\" itemscope=\"\" itemtype=\"https://schema.org/Organization\" style=\"padding-top:0px;\"> <div class=\"singlecolumn\"> <span class=\"paddedline\"> <span class=\"jobtitle\" id=\"699060048JTIT8\"> Owner , Manager</span> <br/> <span> <span class=\"jobdates\" format=\"%B %Y\" id=\"699060048JSTD8\"> January 2005</span> <span>  to </span> <span class=\"jobdates\" format=\"%B %Y\" id=\"699060048EDDT8\"> January 2008</span> </span> </span> <span class=\"paddedline\" itemscope=\"\" itemtype=\"https://schema.org/postalAddress\"> <span class=\"companyname\" id=\"699060048COMP8\" itemprop=\"name\"> Company Name</span> <span>  － </span> <span class=\"joblocation jobcity\" id=\"699060048JCIT8\" itemprop=\"addressLocality\"> City</span> <span> , </span> <span class=\"joblocation jobstate\" id=\"699060048JSTA8\" itemprop=\"addressRegion\"> State</span> </span> <span class=\"paddedline\"> <span class=\"jobline\" id=\"699060048JDES8\" itemprop=\"description\"> <ul> <li> Responsible for daily operations of 100 seat restaurant Responsible for hiring/ firing of all employees Maintained daily/ weekly schedules Daily inventory of kitchen and bar supplies Oversaw all catering events Created business plan and marketing strategies Advertised Designed restaurant and menu Built client base.</li> </ul> </span> </span> </div> </div> </div> <div class=\"section\" id=\"SECTION_EDUC699060049\" style=\"padding-top:0px;\"> <div class=\"heading\"> <div class=\"sectiontitle thinbottomborder\" id=\"SECTNAME_EDUC699060049\"> Education</div> </div> <div class=\"paragraph firstparagraph\" id=\"PARAGRAPH_699060049_1_453337633\" itemscope=\"\" itemtype=\"https://schema.org/EducationalOrganization\" style=\"padding-top:0px;\"> <div class=\"singlecolumn\"> <span class=\"paddedline\" itemprop=\"description\"> <span class=\"degree\" dependency=\"DGRE\" id=\"699060049DGRE1\" itemprop=\"name\"> Diploma</span> <span>  : </span> <span class=\"programline\" dependency=\"STUY\" id=\"699060049STUY1\"> Graphics Design</span> <span> , </span> <span class=\"jobdates\" id=\"699060049GRYR1\"> 2003</span> </span> <span class=\"paddedline\"> <span class=\"companyname companyname_educ\" dependency=\"SCHO\" id=\"699060049SCHO1\" itemprop=\"name\"> Lansdale School of Business</span> <span>  － </span> <span class=\"joblocation jobcity\" id=\"699060049SCIT1\"> City</span> <span> , </span> <span class=\"joblocation jobstate\" id=\"699060049SSTA1\"> State</span> <span> , </span> <span class=\"joblocation jobstate\" id=\"699060049SCNT1\"> US</span> </span> <span class=\"paddedline\"> <span class=\"field\" id=\"699060049FRFM1\"> <p align=\"LEFT\"> Graphics Design</p> </span> </span> </div> </div> <div class=\"paragraph\" id=\"PARAGRAPH_699060049_2_453337634\" itemscope=\"\" itemtype=\"https://schema.org/EducationalOrganization\" style=\"padding-top:0px;\"> <div class=\"singlecolumn\"> <span class=\"paddedline\" itemprop=\"description\"> <span class=\"degree\" dependency=\"DGRE\" id=\"699060049DGRE2\" itemprop=\"name\"> Associates Degree</span> <span>  : </span> <span class=\"programline\" dependency=\"STUY\" id=\"699060049STUY2\"> Office Operations Management</span> <span> , </span> <span class=\"jobdates\" id=\"699060049GRYR2\"> 2005</span> </span> <span class=\"paddedline\"> <span class=\"companyname companyname_educ\" dependency=\"SCHO\" id=\"699060049SCHO2\" itemprop=\"name\"> Lansdale School of Business</span> <span class=\"joblocation jobcity\" id=\"699060049SCIT2\"> </span> <span class=\"joblocation jobstate\" id=\"699060049SSTA2\"> </span> <span class=\"joblocation jobstate\" id=\"699060049SCNT2\"> </span> </span> <span class=\"paddedline\"> <span class=\"field\" id=\"699060049FRFM2\"> <p align=\"LEFT\"> Office Operations Management</p> </span> </span> </div> </div> <div class=\"paragraph\" id=\"PARAGRAPH_699060049_3_453337635\" itemscope=\"\" itemtype=\"https://schema.org/EducationalOrganization\" style=\"padding-top:0px;\"> <div class=\"singlecolumn\"> <span class=\"paddedline\" itemprop=\"description\"> <span class=\"degree\" dependency=\"DGRE\" id=\"699060049DGRE3\" itemprop=\"name\"> Pennsylvania Real Estate License</span> <span>  : </span> <span class=\"programline\" dependency=\"STUY\" id=\"699060049STUY3\"> </span> <span class=\"jobdates\" id=\"699060049GRYR3\"> 2012</span> </span> <span class=\"paddedline\"> <span class=\"companyname companyname_educ\" dependency=\"SCHO\" id=\"699060049SCHO3\" itemprop=\"name\"> Schlicker Kratz R/E Institute          Licensed</span> <span class=\"joblocation jobcity\" id=\"699060049SCIT3\"> </span> <span class=\"joblocation jobstate\" id=\"699060049SSTA3\"> </span> <span class=\"joblocation jobstate\" id=\"699060049SCNT3\"> </span> </span> <span class=\"paddedline\"> <span class=\"field\" id=\"699060049FRFM3\"> </span> </span> </div> </div> </div> <div class=\"section\" id=\"SECTION_SKLL699060058\" style=\"padding-top:0px;\"> <div class=\"heading\"> <div class=\"sectiontitle thinbottomborder\" id=\"SECTNAME_SKLL699060058\"> Skills</div> </div> <div class=\"paragraph firstparagraph\" id=\"PARAGRAPH_699060058_1_453337638\" style=\"padding-top:0px;\"> <div class=\"field singlecolumn\" id=\"699060058FRFM1\"> <p align=\"LEFT\"> Ask, benefits, business plan, client, direction, features, firing, hiring, inventory, marketing strategies, Real Estate, sales, sales manager</p> </div> </div> </div> </div>                                                                                                                                                                                                                                                                                                                                                                                                                                                                                                                                                                                                                                                                                                                                                                                                                                                                                                                                                                                                                                                                                                                                                                                                                                                                                                                                                                                                                                                            SALES                     1\n",
       "20850529  GENERAL BUSINESS MANAGEMENT       Summary     RESUME:Kristy Bishop                       Entrepreneurial indirect sales executive passionate about building productive relationships with clients, partners and team members. New customer acquisition expert who emphasizes mix of online and in person marketing strategies.       Highlights          New customer acquisition  Account management  Prospecting  Results-oriented       Knowledge of market trends  Proficiency in finding areas of opportunity  Client-focused  Brand development             Accomplishments      Conceptualized and launched the \" Full service neighborhood bank marketing campaign, which led to a 70% increase in bank deposits, Customer service both internal and external, compliance, HR, Sales & Marketing Training, SQL, Valuing Diversity Training, conflict resolution, team building Mentoring Training, best practices Received several awards for \"Top Performer\" and letters of recognition and recommendation                  Promoted from Relationship Banker I to Relationship Banker II, as well as one of 5 regional bankers in my position assigned to train and mentor new employees after 12 months of employment. Was also given a written offer to become regional Merchant Service Representative, as I personally was considered responsible for creating the need for position, This was offered to me after about 14 months which at the time was unprecedented.   Initialized a grass root marketing campaign to promote brand recognition, as well as gather more household relationships (i,e, loans, deposits) with no marketing budget with immense success,  Assessed organizational training needs.  Performed competitive analysis to make recommendations for future company growth.    .                   Experience      General business management     May 2007   to   Dec 2014      Company Name   －   City  ,   State     Providing first person of contact for customers as well as employees.  Provided conflict resolution and internal and external customer service  Training and mentoring new hires, ensuring all regulations were met and company policy was being used  Analyzed ratings and business features of competitors to evaluate the effectiveness of marketing strategies..  Proficient in SQL, ordering, product management, inventory, organization, product knowledge staffing opportunities, products and services.         NW Florida Regional Commercial Sales Manager     Mar 2007   to   Jan 2009      Company Name   －   City  ,   State      I was the sole commercial sales manager for the NE region from South Georgia through Deland Fl.   I was able to increase sales in my territory with both new clients, and follow ups with clients we had worked with before. commercial sales in my territory; as well as some in Caribbean.  I would generate new business through B2B cold calls, mailing information and establishing myself as the new territory manager.  I personally overhauled the out dated SQL, and customer file information, Using previous experience, i would call, set up appts. and updated the territory customer business.  I generated new business, and gained back more customers by recognizing better opportunities, educating them about preventive maintenance insurance, and becoming the face of my company to my clients.  I went onsite to businesses and create estimates, field inspections, measurements, ordering correct products,  troubleshoot problems, find solutions,job site inspections, and keeping my personal crew busy every day,   Prepared correspondence, accounting and financial documents for analysis.         Sales & Marketing Manager, Indirect sales manager     Jul 2006   to   Nov 2008      Company Name   －   City  ,   State     Implemented and evolved high-impact strategies to target new business opportunities and new markets.  Planned and executed container shipments of  Effectively controlled the release of proprietary and confidential information for general client lists.   Prepared departmental contracts for attorney approval.         Program manager     Jan 2006   to   Jan 2007      Company Name   －   City  ,   State     Managed weight loss center and worked closely with clients face to face  Provided client support, individualized care, and excellent customer service  Product ordering, client chart maintenance, inventory,payroll,hiring  Qualifying clients for credit, providing all legal information,  Client retention, internal and external conflict resolution.mentor  Prepared correspondence, accounting and financial documents for analysis.         Relationship Banker II     Jan 2004   to   Jan 2006      Company Name   －   City  ,   State     Conceptualized and launched \" Full service neighborhood bank marketing campaign, which led to a 70% increase in sales  .Customer service both internal and external, compliance,   HR Sales & Marketing Training, SQL, Valuing Diversity Training, conflict resolution, team building Mentoring Training, best practices   Received several of the highest awards for \"Top Performer\" and letters of recognition and recommendation  .Promoted from Relationship Banker I to Relationship Banker II, as   well as one of 5 regional bankers in my position assigned to train and mentor new employees at 12 months of employment.   Was also given a written offer to become regional Merchant Service Representative, as I personally was considered responsible for creating the need for the position, This was offered to me after about 14 months which at the time was unprecedented.   Initialized a grass root marketing campaign to promote brand recognition, as well as gather more household relationships (i,e, loans, deposits) with no marketing budget with immense success,  Prepared correspondence, accounting and financial documents for analysis.   .                   Education      High School Diploma  ,   General Studies / Psychology & Business    St. Johns River State College   －   City  ,   State  ,   USA    General Studies / Psychology & Business        Skills      communication skills, excellent customer service, account management, data entry, directing, documentation,project development, computer proficiency,customer satisfaction , inventory, team leadership, marketing plans, market research, marketing,negotiation, networking, organizational skills, product management, profit, retail, sales, business development.SQL, active listener, creative problem solver                                                                                                                                                                                                                                                                                                                                                                                                                                                                                                                                                                                                                                                                                                                                                                                                                                                                                                                                                                                                                                                                                                                                                                                                                                                                                                                                                                                                                                                                                                                                                                                                                                                                                                                                                                                                                                                                                                                                                                                                                                                                                                  <div class=\"fontsize fontface vmargins hmargins linespacing pagesize\" id=\"document\"> <div class=\"section firstsection\" id=\"SECTION_NAME543676754\" style=\"\\r\\n      padding-top:0px;\\r\\n    \"> <div class=\"paragraph PARAGRAPH_NAME firstparagraph\" id=\"PARAGRAPH_543676754_1_354785581\" style=\"\\r\\n      padding-top:0px;\\r\\n    \"> <div class=\"name\" itemprop=\"name\"> <span class=\"field fName\" id=\"543676754FNAM1\"> </span> <span> </span> <span class=\"field\" id=\"543676754LNAM1\"> GENERAL BUSINESS MANAGEMENT</span> </div> </div> </div> <div class=\"section\" id=\"SECTION_SUMM543676756\" style=\"\\r\\n      padding-top:0px;\\r\\n    \"> <div class=\"heading bottomborder\"> <div class=\"sectiontitle\" id=\"SECTNAME_SUMM543676756\"> Summary</div> </div> <div class=\"paragraph firstparagraph\" id=\"PARAGRAPH_543676756_1_354785591\" style=\"\\r\\n      padding-top:0px;\\r\\n    \"> <div class=\"field singlecolumn\" id=\"543676756FRFM1\"> <p align=\"LEFT\"> RESUME:Kristy Bishop</p> <br/> <br/> <p align=\"LEFT\">                    Entrepreneurial indirect sales executive passionate about building productive relationships with clients, partners and team members. New customer acquisition expert who emphasizes mix of online and in person marketing strategies.</p> </div> </div> </div> <div class=\"section\" id=\"SECTION_HILT543676757\" style=\"\\r\\n      padding-top:0px;\\r\\n    \"> <div class=\"heading bottomborder\"> <div class=\"sectiontitle\" id=\"SECTNAME_HILT543676757\"> Highlights</div> </div> <div class=\"paragraph firstparagraph\" id=\"PARAGRAPH_543676757_1_354788118\" style=\"\\r\\n      padding-top:0px;\\r\\n    \"> <div class=\"singlecolumn maincolumn\"> <table class=\"twocol\"> <tbody> <tr> <td class=\"field twocol_1\" id=\"543676757SKC11\"> <ul> <li> New customer acquisition</li> <li> Account management</li> <li> Prospecting</li> <li> Results-oriented</li> </ul> <br/> </td> <td class=\"field twocol_2\" id=\"543676757SKC21\"> <ul> <li> Knowledge of market trends</li> <li> Proficiency in finding areas of opportunity</li> <li> Client-focused</li> <li> Brand development</li> <br/> </ul> </td> </tr> </tbody> </table> </div> </div> </div> <div class=\"section\" id=\"SECTION_ACCM543676761\" style=\"\\r\\n      padding-top:0px;\\r\\n    \"> <div class=\"heading bottomborder\"> <div class=\"sectiontitle\" id=\"SECTNAME_ACCM543676761\"> Accomplishments</div> </div> <div class=\"paragraph firstparagraph\" id=\"PARAGRAPH_543676761_1_354785589\" style=\"\\r\\n      padding-top:0px;\\r\\n    \"> <div class=\"field singlecolumn\" id=\"543676761FRFM1\"> <ul> <li> Conceptualized and launched the \" Full service neighborhood bank marketing campaign, which led to a 70% increase in bank deposits, Customer service both internal and external, compliance, HR, Sales &amp; Marketing Training, SQL, Valuing Diversity Training, conflict resolution, team building Mentoring Training, best practices Received several awards for \"Top Performer\" and letters of recognition and recommendation               </li> <li>  Promoted from Relationship Banker I to Relationship Banker II, as well as one of 5 regional bankers in my position assigned to train and mentor new employees after 12 months of employment. Was also given a written offer to become regional Merchant Service Representative, as I personally was considered responsible for creating the need for position, This was offered to me after about 14 months which at the time was unprecedented.</li> <li>  Initialized a grass root marketing campaign to promote brand recognition, as well as gather more household relationships (i,e, loans, deposits) with no marketing budget with immense success,</li> <li> Assessed organizational training needs.</li> <li> Performed competitive analysis to make recommendations for future company growth. </li> </ul> <p align=\"LEFT\"> .          </p> <br/> <br/> </div> </div> </div> <div class=\"section\" id=\"SECTION_EXPR543676758\" style=\"\\r\\n      padding-top:0px;\\r\\n    \"> <div class=\"heading bottomborder\"> <div class=\"sectiontitle\" id=\"SECTNAME_EXPR543676758\"> Experience</div> </div> <div class=\"paragraph firstparagraph\" id=\"PARAGRAPH_543676758_1_354785583\" itemscope=\"\" itemtype=\"https://schema.org/Organization\" style=\"\\r\\n      padding-top:0px;\\r\\n    \"> <div class=\"singlecolumn\"> <span class=\"paddedline\"> <span class=\"jobtitle\" id=\"543676758JTIT1\"> General business management</span> <span> </span> <span class=\"datesWrapper\"> <span class=\"jobdates\" format=\"%b %Y\" id=\"543676758JSTD1\"> May 2007</span> <span>  to </span> <span class=\"jobdates\" format=\"%b %Y\" id=\"543676758EDDT1\"> Dec 2014</span> <br/> </span> </span> <span class=\"paddedline\" itemscope=\"\" itemtype=\"https://schema.org/postalAddress\"> <span class=\"companyname\" id=\"543676758COMP1\" itemprop=\"name\"> Company Name</span> <span>  － </span> <span class=\"joblocation jobcity\" id=\"543676758JCIT1\" itemprop=\"addressLocality\"> City</span> <span> , </span> <span class=\"joblocation jobstate\" id=\"543676758JSTA1\" itemprop=\"addressRegion\"> State</span> </span> <span class=\"jobline\" id=\"543676758JDES1\" itemprop=\"description\"> <ul> <li> Providing first person of contact for customers as well as employees.</li> <li> Provided conflict resolution and internal and external customer service</li> <li> Training and mentoring new hires, ensuring all regulations were met and company policy was being used</li> <li> Analyzed ratings and business features of competitors to evaluate the effectiveness of marketing strategies..</li> <li> Proficient in SQL, ordering, product management, inventory, organization, product knowledge staffing opportunities, products and services.</li> </ul> </span> </div> </div> <div class=\"paragraph\" id=\"PARAGRAPH_543676758_2_354785584\" itemscope=\"\" itemtype=\"https://schema.org/Organization\" style=\"\\r\\n      padding-top:0px;\\r\\n    \"> <div class=\"singlecolumn\"> <span class=\"paddedline\"> <span class=\"jobtitle\" id=\"543676758JTIT2\"> NW Florida Regional Commercial Sales Manager</span> <span> </span> <span class=\"datesWrapper\"> <span class=\"jobdates\" format=\"%b %Y\" id=\"543676758JSTD2\"> Mar 2007</span> <span>  to </span> <span class=\"jobdates\" format=\"%b %Y\" id=\"543676758EDDT2\"> Jan 2009</span> <br/> </span> </span> <span class=\"paddedline\" itemscope=\"\" itemtype=\"https://schema.org/postalAddress\"> <span class=\"companyname\" id=\"543676758COMP2\" itemprop=\"name\"> Company Name</span> <span>  － </span> <span class=\"joblocation jobcity\" id=\"543676758JCIT2\" itemprop=\"addressLocality\"> City</span> <span> , </span> <span class=\"joblocation jobstate\" id=\"543676758JSTA2\" itemprop=\"addressRegion\"> State</span> </span> <span class=\"jobline\" id=\"543676758JDES2\" itemprop=\"description\"> <ul> <li>  I was the sole commercial sales manager for the NE region from South Georgia through Deland Fl.</li> <li>  I was able to increase sales in my territory with both new clients, and follow ups with clients we had worked with before. commercial sales in my territory; as well as some in Caribbean.</li> <li> I would generate new business through B2B cold calls, mailing information and establishing myself as the new territory manager.</li> <li> I personally overhauled the out dated SQL, and customer file information, Using previous experience, i would call, set up appts. and updated the territory customer business.</li> <li> I generated new business, and gained back more customers by recognizing better opportunities, educating them about preventive maintenance insurance, and becoming the face of my company to my clients.</li> <li> I went onsite to businesses and create estimates, field inspections, measurements, ordering correct products,  troubleshoot problems, find solutions,job site inspections, and keeping my personal crew busy every day, </li> <li> Prepared correspondence, accounting and financial documents for analysis.</li> </ul> </span> </div> </div> <div class=\"paragraph\" id=\"PARAGRAPH_543676758_3_354785586\" itemscope=\"\" itemtype=\"https://schema.org/Organization\" style=\"\\r\\n      padding-top:0px;\\r\\n    \"> <div class=\"singlecolumn\"> <span class=\"paddedline\"> <span class=\"jobtitle\" id=\"543676758JTIT3\"> Sales &amp; Marketing Manager, Indirect sales manager</span> <span> </span> <span class=\"datesWrapper\"> <span class=\"jobdates\" format=\"%b %Y\" id=\"543676758JSTD3\"> Jul 2006</span> <span>  to </span> <span class=\"jobdates\" format=\"%b %Y\" id=\"543676758EDDT3\"> Nov 2008</span> <br/> </span> </span> <span class=\"paddedline\" itemscope=\"\" itemtype=\"https://schema.org/postalAddress\"> <span class=\"companyname\" id=\"543676758COMP3\" itemprop=\"name\"> Company Name</span> <span>  － </span> <span class=\"joblocation jobcity\" id=\"543676758JCIT3\" itemprop=\"addressLocality\"> City</span> <span> , </span> <span class=\"joblocation jobstate\" id=\"543676758JSTA3\" itemprop=\"addressRegion\"> State</span> </span> <span class=\"jobline\" id=\"543676758JDES3\" itemprop=\"description\"> <ul> <li> Implemented and evolved high-impact strategies to target new business opportunities and new markets.</li> <li> Planned and executed container shipments of</li> <li> Effectively controlled the release of proprietary and confidential information for general client lists. </li> <li> Prepared departmental contracts for attorney approval.</li> </ul> </span> </div> </div> <div class=\"paragraph\" id=\"PARAGRAPH_543676758_4_354785585\" itemscope=\"\" itemtype=\"https://schema.org/Organization\" style=\"\\r\\n      padding-top:0px;\\r\\n    \"> <div class=\"singlecolumn\"> <span class=\"paddedline\"> <span class=\"jobtitle\" id=\"543676758JTIT4\"> Program manager</span> <span> </span> <span class=\"datesWrapper\"> <span class=\"jobdates\" format=\"%b %Y\" id=\"543676758JSTD4\"> Jan 2006</span> <span>  to </span> <span class=\"jobdates\" format=\"%b %Y\" id=\"543676758EDDT4\"> Jan 2007</span> <br/> </span> </span> <span class=\"paddedline\" itemscope=\"\" itemtype=\"https://schema.org/postalAddress\"> <span class=\"companyname\" id=\"543676758COMP4\" itemprop=\"name\"> Company Name</span> <span>  － </span> <span class=\"joblocation jobcity\" id=\"543676758JCIT4\" itemprop=\"addressLocality\"> City</span> <span> , </span> <span class=\"joblocation jobstate\" id=\"543676758JSTA4\" itemprop=\"addressRegion\"> State</span> </span> <span class=\"jobline\" id=\"543676758JDES4\" itemprop=\"description\"> <ul> <li> Managed weight loss center and worked closely with clients face to face</li> <li> Provided client support, individualized care, and excellent customer service</li> <li> Product ordering, client chart maintenance, inventory,payroll,hiring</li> <li> Qualifying clients for credit, providing all legal information,</li> <li> Client retention, internal and external conflict resolution.mentor</li> <li> Prepared correspondence, accounting and financial documents for analysis.</li> </ul> </span> </div> </div> <div class=\"paragraph\" id=\"PARAGRAPH_543676758_5_354785587\" itemscope=\"\" itemtype=\"https://schema.org/Organization\" style=\"\\r\\n      padding-top:0px;\\r\\n    \"> <div class=\"singlecolumn\"> <span class=\"paddedline\"> <span class=\"jobtitle\" id=\"543676758JTIT5\"> Relationship Banker II</span> <span> </span> <span class=\"datesWrapper\"> <span class=\"jobdates\" format=\"%b %Y\" id=\"543676758JSTD5\"> Jan 2004</span> <span>  to </span> <span class=\"jobdates\" format=\"%b %Y\" id=\"543676758EDDT5\"> Jan 2006</span> <br/> </span> </span> <span class=\"paddedline\" itemscope=\"\" itemtype=\"https://schema.org/postalAddress\"> <span class=\"companyname\" id=\"543676758COMP5\" itemprop=\"name\"> Company Name</span> <span>  － </span> <span class=\"joblocation jobcity\" id=\"543676758JCIT5\" itemprop=\"addressLocality\"> City</span> <span> , </span> <span class=\"joblocation jobstate\" id=\"543676758JSTA5\" itemprop=\"addressRegion\"> State</span> </span> <span class=\"jobline\" id=\"543676758JDES5\" itemprop=\"description\"> <ul> <li> Conceptualized and launched \" Full service neighborhood bank marketing campaign, which led to a 70% increase in sales</li> <li> .Customer service both internal and external, compliance,</li> <li>  HR Sales &amp; Marketing Training, SQL, Valuing Diversity Training, conflict resolution, team building Mentoring Training, best practices</li> <li>  Received several of the highest awards for \"Top Performer\" and letters of recognition and recommendation</li> <li> .Promoted from Relationship Banker I to Relationship Banker II, as   well as one of 5 regional bankers in my position assigned to train and mentor new employees at 12 months of employment.</li> <li>  Was also given a written offer to become regional Merchant Service Representative, as I personally was considered responsible for creating the need for the position, This was offered to me after about 14 months which at the time was unprecedented.</li> <li>  Initialized a grass root marketing campaign to promote brand recognition, as well as gather more household relationships (i,e, loans, deposits) with no marketing budget with immense success,</li> <li> Prepared correspondence, accounting and financial documents for analysis.</li> </ul> <p align=\"LEFT\"> .          </p> <br/> </span> </div> </div> </div> <div class=\"section\" id=\"SECTION_EDUC543676759\" style=\"\\r\\n      padding-top:0px;\\r\\n    \"> <div class=\"heading bottomborder\"> <div class=\"sectiontitle\" id=\"SECTNAME_EDUC543676759\"> Education</div> </div> <div class=\"paragraph firstparagraph\" id=\"PARAGRAPH_543676759_1_354785590\" itemscope=\"\" itemtype=\"https://schema.org/EducationalOrganization\" style=\"\\r\\n      padding-top:0px;\\r\\n    \"> <div class=\"singlecolumn\"> <span class=\"paddedline\" itemprop=\"description\"> <span class=\"degree\" id=\"543676759DGRE1\" itemprop=\"name\"> High School Diploma</span> <span> , </span> <span class=\"programline\" id=\"543676759STUY1\"> General Studies / Psychology &amp; Business</span> </span> <span class=\"paddedline\"> <span class=\"companyname companyname_educ\" id=\"543676759SCHO1\" itemprop=\"name\"> St. Johns River State College</span> <span>  － </span> <span class=\"joblocation jobcity\" id=\"543676759SCIT1\"> City</span> <span> , </span> <span class=\"joblocation jobstate\" id=\"543676759SSTA1\"> State</span> <span> , </span> <span class=\"joblocation jobstate\" id=\"543676759SCNT1\"> USA</span> </span> <span class=\"field\" id=\"543676759FRFM1\"> <p align=\"LEFT\"> General Studies / Psychology &amp; Business</p> </span> </div> </div> </div> <div class=\"section\" id=\"SECTION_SKLL543676762\" style=\"\\r\\n      padding-top:0px;\\r\\n    \"> <div class=\"heading bottomborder\"> <div class=\"sectiontitle\" id=\"SECTNAME_SKLL543676762\"> Skills</div> </div> <div class=\"paragraph firstparagraph\" id=\"PARAGRAPH_543676762_1_354785592\" style=\"\\r\\n      padding-top:0px;\\r\\n    \"> <div class=\"field singlecolumn\" id=\"543676762FRFM1\"> <p align=\"LEFT\">  communication skills, excellent customer service, account management, data entry, directing, documentation,project development, computer proficiency,customer satisfaction , inventory, team leadership, marketing plans, market research, marketing,negotiation, networking, organizational skills, product management, profit, retail, sales, business development.SQL, active listener, creative problem solver</p> </div> </div> </div> </div>                                                                                                                                                                                                                                                                                                                                                                                                                                                                                                                                                                                                                                                                                                                                                                                                                                                                                                                                                                                                                                                                                                                                                                                                                                                                                                                                                                                                                                                                                                                                                                                                                                                                                                                                                                                                                                                                                                                                                                                                                                                                                                                                                                                                                                                                                                                                                                                                                                                                                                                                                                                                                                                                                                                                                                                                                                                                                                                                                                                                                                                                                                                                                                                                                                                                                                                                                                                                                                                                                                                                                                                                                                                                                                                                                                                                                                                                                                                                                                                                                                                                                                                                                                                                                                                                                                                                                                                                                                                                                                                                                                                                                                                                                                                                                                                                                                                                                                                                                                                                                                                                                                                                                                                                                                                                                                                                                                                                                                                                                                                                                                                                                                                             BANKING                   1\n",
       "20879311  DIRECTOR OF INFORMATION TECHNOLOGY AND ANALYTICS           Summary     Accomplished senior manager with over 15 years of experience leading complex projects and managing resources to optimize enterprise technology and support business objectives.  Committed to quality and service excellence with aptitude for launching new technology platforms. Subject matter expert in Information Security Risk Management. Excellent communicator adept at identifying business needs and bridging the gap between functional groups and technology to foster targeted and innovative solutions.       Highlights          OS/Platforms:\\t \\tMicrosoft Windows Server 2008/2012, Exchange 2010, IIS, Active Directory, DNS  Networking: \\tCisco LAN/WAN (ASA/switching), TCP/IP, VPN, VoIP, SIP, MPLS, VNC, VLAN Segregation  Hardware: \\tSAN/FIBER technology, Enterprise Servers, Switches, Routers, Workstations, Laptops, Mobile Devices (iPad/iPhone/Blackberry),  Telephony Systems: \\tCisco CUCM  Tools: \\tJIRA, Veritas Netbackup, Backup Exec, PCAnywhere, Symantec Antivirus, Ghost, SharePoint, Visio, Microsoft Office Suite                Experience      Director of Information Technology and Analytics    January 2005   to   Current     Company Name   －   City  ,   State      Market-leading global credit asset management firm with $4 Billion AUM and over 120 employees worldwide.  Directed the firm's word-wide Information Technology strategy.  Established and instituted policies, procedures and technology to mitigate corporate security risk and position ZAIS for Sarbanes-Oxley act compliance.  Identified process improvement opportunities and recommended solutions and budget requirements to management committee.  Managed team of 6 resources responsible for technology management and support operations encompassing all aspects of IT infrastructure including workstations, server platforms, IP telephony, L3 network infrastructure, network security, disaster recovery, Storage Area Networks and videoconferencing.  Directed project teams through all lifecycle phases handling technical escalation events.  Evaluated and deployed DLP solution.  Chairman of the firm's cybersecurity committee responsible for advancing the firm's security posture.  Selected Accomplishments Developed and led a technology strategy for the firm that supports strong business alignments, increases profitability and provides a sound, flexible and reliable foundation for the future.  Enabled revenue growth by leading the timely deployment of high-performance virtual computing environment to support new models created by internal development teams.  Created Incident Response Policies and Procedures rooted firmly on the NIST framework.  Developed and lead breach rehearsal scenarios both for executive roundtable tests and technical response team practices.  Designed Data Governance and Classification Policies particularly in regards to Personally Identifiable Information (PII).  Evaluated and deployed Data Loss Prevention system (Symantec) and created escalation procedures to comply with the firm's Data Governance Policy.  Managed all security vendor relationships through the contract negotiation lifecycle and Service Level Agreement reviews.  Developed associates to their fullest potential by providing challenging opportunities that enhanced associate's career growth.  Recruited and developed appropriate talent pool to insure adequate bench strength and succession planning.  Managed logistics, procurement and deployment of IT infrastructure in Dallas, Baton Rouge, Shanghai, Dublin, London, Singapore and Tokyo locations inclusive of establishing a sustainable model for support.  Established a viable Disaster Recovery strategy with a physical to virtual solution and liaison with all business units to generate the firm's Business Continuity plan.  Spearheaded the analog to VOIP conversion of ZAIS IPT and video infrastructures (Cisco CUCM environment).  Transformed IT support and organizational interaction practices, fostering strong, collaborative work environment.  while developing robust help desk systems and processes for improved trouble ticket initiation and visibility.  Led the firm's Cybersecurity enhancement effort by managing the design, implementation and maintenance of the  Advanced Threat Protection system, Next Generation Firewalls and Mobile Computing Security.  Developed the firms Cybersecurity Policy and Incident Response Team firmly rooted on the NIST framework.  Responded to audit requests from potential and current investors, met with them to discuss finding, and guided them through the due diligence process.  Responded to external auditors and lead remediation efforts if needed.  Reported all audits to the executive board.  Fostered a culture of security awareness in the firm by obtaining executive level support for Cybersecurity initiatives and enabling acceptance of security measures through user education.          Information Technology Manager    January 2002   to   January 2005     Company Name   －   City  ,   State      Manufacturing firm with over 100 year history and 170 employees.  Directed hardware and software configuration, installation, troubleshooting, and support activities.  Oversaw administration of network infrastructure, business systems, cabling and circuits, and telecommunications platforms.  Established and managed relationships with technology vendors and service providers.  Monitored and tracked call volumes, service requests, and performance metrics.  Led work order documentation and change request management.  Selected Accomplishments Designed and led Windows 2003 migration team.  Administered CISCO multi-VLAN layer 3 switched LAN\\WAN.  Designed and administered CISCO VPN solution.  Led the procurement, configuration and administration of all infrastructure projects.  Engineered and deployed Microsoft Exchange 2003 solution including web access/spam protection/security.  Planned and implemented Enterprise Resource Planning project.  Responsible for disaster recovery plan/execution.  Supervised IT staff and coordinated all consultants.          Systems Administrator    January 2000   to   January 2002     Company Name   －   City  ,   State      Consulting firm providing portal technology to enterprise customers.  Administered and supported 250 client node Windows NT environment.  Planned, configured and administered the upgrade of Windows NT to Windows 2000.  Maintained DNS, WINS and DHCP in multi-site environment.  Maintained 85 node development server environment.  Engineered and deployed System Management Server 2.0 infrastructure.  Designed Workstation and Server imaging system using Symantec Ghost.  Performed daily network monitoring tasks including backups (Veritas) and log checks.          Data/Systems Administrator    January 1998   to   January 2000     Company Name   －     State      Global provider of information technology products and services (3 Billion in revenue) Oversee and modify the daily download of data from several distributors.  Uploaded data to appropriate SQL databases.  Maintained and perform hardware/software upgrades on Windows FTP servers.          Education      Bachelor of Science   :   Psychology/History  ,   1998    Rutgers University   －   City  ,   State      Psychology/History        Skills    Active Directory, Antivirus, asset management, Backup Exec, budget, business systems, cabling, CISCO, Competitive, Hardware, Consulting, contract negotiation, conversion, credit, client, databases, DHCP, Disaster Recovery, documentation, DNS, due diligence, Enterprise Resource Planning, Firewalls, FTP, Ghost, help desk, IIS, imaging, Information Technology, IP, IT support, LAN, Laptops, Team Leadership, logistics, Loss Prevention, managing, Market, Mentoring, access, Exchange, Microsoft Exchange 2003, Microsoft Office Suite, SharePoint, Microsoft Windows, Windows, Windows 2000, Windows NT, word, migration, Enterprise, network security, network, Networking, Networks, Next, OS, organizational, PCAnywhere, Policies, Problem Resolution, processes, process improvement, procurement, Project Management, Proposal Development, Requirements Analysis, Routers, SAN, Sarbanes-Oxley, Servers, Service Level Agreement, sound, SQL, strategy, Strategic Planning, Switches, Symantec, TCP/IP, telecommunications, Telephony, troubleshooting, upgrades, upgrade, Veritas, Veritas Netbackup, video, VPN, Visio, VOIP, WAN     <div class=\"fontsize fontface vmargins hmargins linespacing pagesize\" id=\"document\"> <div class=\"section firstsection\" id=\"SECTION_NAME721604275\" style=\"padding-top:0px;\"> <div class=\"paragraph PARAGRAPH_NAME firstparagraph\" id=\"PARAGRAPH_721604275_1_467358226\" style=\"padding-top:0px;\"> <div class=\"name thinbottomborder\" itemprop=\"name\"> <span class=\"field\" id=\"721604275FNAM1\"> </span> <span> </span> <span class=\"field\" id=\"721604275LNAM1\"> DIRECTOR OF INFORMATION TECHNOLOGY AND ANALYTICS</span> </div> <div class=\"myGap\"> </div> <div class=\"lowerborder thinbottomborder\"> </div> </div> </div> <div class=\"section\" id=\"SECTION_SUMM721604277\" style=\"padding-top:0px;\"> <div class=\"heading\"> <div class=\"sectiontitle thinbottomborder\" id=\"SECTNAME_SUMM721604277\"> Summary</div> </div> <div class=\"paragraph firstparagraph\" id=\"PARAGRAPH_721604277_1_467358236\" style=\"padding-top:0px;\"> <div class=\"field singlecolumn\" id=\"721604277FRFM1\"> <p align=\"LEFT\"> Accomplished senior manager with over 15 years of experience leading complex projects and managing resources to optimize enterprise technology and support business objectives.  Committed to quality and service excellence with aptitude for launching new technology platforms. Subject matter expert in Information Security Risk Management. Excellent communicator adept at identifying business needs and bridging the gap between functional groups and technology to foster targeted and innovative solutions.</p> </div> </div> </div> <div class=\"section\" id=\"SECTION_HILT721604278\" style=\"padding-top:0px;\"> <div class=\"heading\"> <div class=\"sectiontitle thinbottomborder\" id=\"SECTNAME_HILT721604278\"> Highlights</div> </div> <div class=\"paragraph firstparagraph\" id=\"PARAGRAPH_721604278_1_467358238\" style=\"padding-top:0px;\"> <div class=\"singlecolumn maincolumn\"> <table class=\"twocol\"> <tbody> <tr> <td class=\"field twocol_1 charspace\" id=\"721604278SKC11\"> <ul> <li> OS/Platforms:\\t \\tMicrosoft Windows Server 2008/2012, Exchange 2010, IIS, Active Directory, DNS</li> <li> Networking: \\tCisco LAN/WAN (ASA/switching), TCP/IP, VPN, VoIP, SIP, MPLS, VNC, VLAN Segregation</li> <li> Hardware: \\tSAN/FIBER technology, Enterprise Servers, Switches, Routers, Workstations, Laptops, Mobile Devices (iPad/iPhone/Blackberry),</li> <li> Telephony Systems: \\tCisco CUCM</li> <li> Tools: \\tJIRA, Veritas Netbackup, Backup Exec, PCAnywhere, Symantec Antivirus, Ghost, SharePoint, Visio, Microsoft Office Suite</li> </ul> </td> <td class=\"field twocol_2 charspace\" id=\"721604278SKC21\"> </td> </tr> </tbody> </table> </div> </div> </div> <div class=\"section\" id=\"SECTION_ACCM721604279\" style=\"padding-top:0px;\"> </div> <div class=\"section\" id=\"SECTION_EXPR721604280\" style=\"padding-top:0px;\"> <div class=\"heading\"> <div class=\"sectiontitle thinbottomborder\" id=\"SECTNAME_EXPR721604280\"> Experience</div> </div> <div class=\"paragraph firstparagraph\" id=\"PARAGRAPH_721604280_1_467358228\" itemscope=\"\" itemtype=\"https://schema.org/Organization\" style=\"padding-top:0px;\"> <div class=\"singlecolumn\"> <span class=\"paddedline\"> <span class=\"jobtitle\" id=\"721604280JTIT1\"> Director of Information Technology and Analytics</span> <br/> <span> <span class=\"jobdates\" format=\"%B %Y\" id=\"721604280JSTD1\"> January 2005</span> <span>  to </span> <span class=\"jobdates\" format=\"%B %Y\" id=\"721604280EDDT1\"> Current</span> </span> </span> <span class=\"paddedline\" itemscope=\"\" itemtype=\"https://schema.org/postalAddress\"> <span class=\"companyname\" id=\"721604280COMP1\" itemprop=\"name\"> Company Name</span> <span>  － </span> <span class=\"joblocation jobcity\" id=\"721604280JCIT1\" itemprop=\"addressLocality\"> City</span> <span> , </span> <span class=\"joblocation jobstate\" id=\"721604280JSTA1\" itemprop=\"addressRegion\"> State</span> </span> <span class=\"paddedline\"> <span class=\"jobline\" id=\"721604280JDES1\" itemprop=\"description\"> <ul> <li> Market-leading global credit asset management firm with $4 Billion AUM and over 120 employees worldwide.</li> <li> Directed the firm's word-wide Information Technology strategy.</li> <li> Established and instituted policies, procedures and technology to mitigate corporate security risk and position ZAIS for Sarbanes-Oxley act compliance.</li> <li> Identified process improvement opportunities and recommended solutions and budget requirements to management committee.</li> <li> Managed team of 6 resources responsible for technology management and support operations encompassing all aspects of IT infrastructure including workstations, server platforms, IP telephony, L3 network infrastructure, network security, disaster recovery, Storage Area Networks and videoconferencing.</li> <li> Directed project teams through all lifecycle phases handling technical escalation events.</li> <li> Evaluated and deployed DLP solution.</li> <li> Chairman of the firm's cybersecurity committee responsible for advancing the firm's security posture.</li> <li> Selected Accomplishments Developed and led a technology strategy for the firm that supports strong business alignments, increases profitability and provides a sound, flexible and reliable foundation for the future.</li> <li> Enabled revenue growth by leading the timely deployment of high-performance virtual computing environment to support new models created by internal development teams.</li> <li> Created Incident Response Policies and Procedures rooted firmly on the NIST framework.</li> <li> Developed and lead breach rehearsal scenarios both for executive roundtable tests and technical response team practices.</li> <li> Designed Data Governance and Classification Policies particularly in regards to Personally Identifiable Information (PII).</li> <li> Evaluated and deployed Data Loss Prevention system (Symantec) and created escalation procedures to comply with the firm's Data Governance Policy.</li> <li> Managed all security vendor relationships through the contract negotiation lifecycle and Service Level Agreement reviews.</li> <li> Developed associates to their fullest potential by providing challenging opportunities that enhanced associate's career growth.</li> <li> Recruited and developed appropriate talent pool to insure adequate bench strength and succession planning.</li> <li> Managed logistics, procurement and deployment of IT infrastructure in Dallas, Baton Rouge, Shanghai, Dublin, London, Singapore and Tokyo locations inclusive of establishing a sustainable model for support.</li> <li> Established a viable Disaster Recovery strategy with a physical to virtual solution and liaison with all business units to generate the firm's Business Continuity plan.</li> <li> Spearheaded the analog to VOIP conversion of ZAIS IPT and video infrastructures (Cisco CUCM environment).</li> <li> Transformed IT support and organizational interaction practices, fostering strong, collaborative work environment.</li> <li> while developing robust help desk systems and processes for improved trouble ticket initiation and visibility.</li> <li> Led the firm's Cybersecurity enhancement effort by managing the design, implementation and maintenance of the  Advanced Threat Protection system, Next Generation Firewalls and Mobile Computing Security.</li> <li> Developed the firms Cybersecurity Policy and Incident Response Team firmly rooted on the NIST framework.</li> <li> Responded to audit requests from potential and current investors, met with them to discuss finding, and guided them through the due diligence process.</li> <li> Responded to external auditors and lead remediation efforts if needed.</li> <li> Reported all audits to the executive board.</li> <li> Fostered a culture of security awareness in the firm by obtaining executive level support for Cybersecurity initiatives and enabling acceptance of security measures through user education.</li> </ul> </span> </span> </div> </div> <div class=\"paragraph\" id=\"PARAGRAPH_721604280_2_467358229\" itemscope=\"\" itemtype=\"https://schema.org/Organization\" style=\"padding-top:0px;\"> <div class=\"singlecolumn\"> <span class=\"paddedline\"> <span class=\"jobtitle\" id=\"721604280JTIT2\"> Information Technology Manager</span> <br/> <span> <span class=\"jobdates\" format=\"%B %Y\" id=\"721604280JSTD2\"> January 2002</span> <span>  to </span> <span class=\"jobdates\" format=\"%B %Y\" id=\"721604280EDDT2\"> January 2005</span> </span> </span> <span class=\"paddedline\" itemscope=\"\" itemtype=\"https://schema.org/postalAddress\"> <span class=\"companyname\" id=\"721604280COMP2\" itemprop=\"name\"> Company Name</span> <span>  － </span> <span class=\"joblocation jobcity\" id=\"721604280JCIT2\" itemprop=\"addressLocality\"> City</span> <span> , </span> <span class=\"joblocation jobstate\" id=\"721604280JSTA2\" itemprop=\"addressRegion\"> State</span> </span> <span class=\"paddedline\"> <span class=\"jobline\" id=\"721604280JDES2\" itemprop=\"description\"> <ul> <li> Manufacturing firm with over 100 year history and 170 employees.</li> <li> Directed hardware and software configuration, installation, troubleshooting, and support activities.</li> <li> Oversaw administration of network infrastructure, business systems, cabling and circuits, and telecommunications platforms.</li> <li> Established and managed relationships with technology vendors and service providers.</li> <li> Monitored and tracked call volumes, service requests, and performance metrics.</li> <li> Led work order documentation and change request management.</li> <li> Selected Accomplishments Designed and led Windows 2003 migration team.</li> <li> Administered CISCO multi-VLAN layer 3 switched LAN\\WAN.</li> <li> Designed and administered CISCO VPN solution.</li> <li> Led the procurement, configuration and administration of all infrastructure projects.</li> <li> Engineered and deployed Microsoft Exchange 2003 solution including web access/spam protection/security.</li> <li> Planned and implemented Enterprise Resource Planning project.</li> <li> Responsible for disaster recovery plan/execution.</li> <li> Supervised IT staff and coordinated all consultants.</li> </ul> </span> </span> </div> </div> <div class=\"paragraph\" id=\"PARAGRAPH_721604280_3_467358230\" itemscope=\"\" itemtype=\"https://schema.org/Organization\" style=\"padding-top:0px;\"> <div class=\"singlecolumn\"> <span class=\"paddedline\"> <span class=\"jobtitle\" id=\"721604280JTIT3\"> Systems Administrator</span> <br/> <span> <span class=\"jobdates\" format=\"%B %Y\" id=\"721604280JSTD3\"> January 2000</span> <span>  to </span> <span class=\"jobdates\" format=\"%B %Y\" id=\"721604280EDDT3\"> January 2002</span> </span> </span> <span class=\"paddedline\" itemscope=\"\" itemtype=\"https://schema.org/postalAddress\"> <span class=\"companyname\" id=\"721604280COMP3\" itemprop=\"name\"> Company Name</span> <span>  － </span> <span class=\"joblocation jobcity\" id=\"721604280JCIT3\" itemprop=\"addressLocality\"> City</span> <span> , </span> <span class=\"joblocation jobstate\" id=\"721604280JSTA3\" itemprop=\"addressRegion\"> State</span> </span> <span class=\"paddedline\"> <span class=\"jobline\" id=\"721604280JDES3\" itemprop=\"description\"> <ul> <li> Consulting firm providing portal technology to enterprise customers.</li> <li> Administered and supported 250 client node Windows NT environment.</li> <li> Planned, configured and administered the upgrade of Windows NT to Windows 2000.</li> <li> Maintained DNS, WINS and DHCP in multi-site environment.</li> <li> Maintained 85 node development server environment.</li> <li> Engineered and deployed System Management Server 2.0 infrastructure.</li> <li> Designed Workstation and Server imaging system using Symantec Ghost.</li> <li> Performed daily network monitoring tasks including backups (Veritas) and log checks.</li> </ul> </span> </span> </div> </div> <div class=\"paragraph\" id=\"PARAGRAPH_721604280_4_467358231\" itemscope=\"\" itemtype=\"https://schema.org/Organization\" style=\"padding-top:0px;\"> <div class=\"singlecolumn\"> <span class=\"paddedline\"> <span class=\"jobtitle\" id=\"721604280JTIT4\"> Data/Systems Administrator</span> <br/> <span> <span class=\"jobdates\" format=\"%B %Y\" id=\"721604280JSTD4\"> January 1998</span> <span>  to </span> <span class=\"jobdates\" format=\"%B %Y\" id=\"721604280EDDT4\"> January 2000</span> </span> </span> <span class=\"paddedline\" itemscope=\"\" itemtype=\"https://schema.org/postalAddress\"> <span class=\"companyname\" id=\"721604280COMP4\" itemprop=\"name\"> Company Name</span> <span>  － </span> <span class=\"joblocation jobcity\" id=\"721604280JCIT4\" itemprop=\"addressLocality\"> </span> <span class=\"joblocation jobstate\" id=\"721604280JSTA4\" itemprop=\"addressRegion\"> State</span> </span> <span class=\"paddedline\"> <span class=\"jobline\" id=\"721604280JDES4\" itemprop=\"description\"> <ul> <li> Global provider of information technology products and services (3 Billion in revenue) Oversee and modify the daily download of data from several distributors.</li> <li> Uploaded data to appropriate SQL databases.</li> <li> Maintained and perform hardware/software upgrades on Windows FTP servers.</li> </ul> </span> </span> </div> </div> </div> <div class=\"section\" id=\"SECTION_EDUC721604281\" style=\"padding-top:0px;\"> <div class=\"heading\"> <div class=\"sectiontitle thinbottomborder\" id=\"SECTNAME_EDUC721604281\"> Education</div> </div> <div class=\"paragraph firstparagraph\" id=\"PARAGRAPH_721604281_1_467358233\" itemscope=\"\" itemtype=\"https://schema.org/EducationalOrganization\" style=\"padding-top:0px;\"> <div class=\"singlecolumn\"> <span class=\"paddedline\" itemprop=\"description\"> <span class=\"degree\" dependency=\"DGRE\" id=\"721604281DGRE1\" itemprop=\"name\"> Bachelor of Science</span> <span>  : </span> <span class=\"programline\" dependency=\"STUY\" id=\"721604281STUY1\"> Psychology/History</span> <span> , </span> <span class=\"jobdates\" id=\"721604281GRYR1\"> 1998</span> </span> <span class=\"paddedline\"> <span class=\"companyname companyname_educ\" dependency=\"SCHO\" id=\"721604281SCHO1\" itemprop=\"name\"> Rutgers University</span> <span>  － </span> <span class=\"joblocation jobcity\" id=\"721604281SCIT1\"> City</span> <span> , </span> <span class=\"joblocation jobstate\" id=\"721604281SSTA1\"> State</span> <span class=\"joblocation jobstate\" id=\"721604281SCNT1\"> </span> </span> <span class=\"paddedline\"> <span class=\"field\" id=\"721604281FRFM1\"> Psychology/History</span> </span> </div> </div> </div> <div class=\"section\" id=\"SECTION_SKLL721604289\" style=\"padding-top:0px;\"> <div class=\"heading\"> <div class=\"sectiontitle thinbottomborder\" id=\"SECTNAME_SKLL721604289\"> Skills</div> </div> <div class=\"paragraph firstparagraph\" id=\"PARAGRAPH_721604289_1_467358239\" style=\"padding-top:0px;\"> <div class=\"field singlecolumn\" id=\"721604289FRFM1\"> Active Directory, Antivirus, asset management, Backup Exec, budget, business systems, cabling, CISCO, Competitive, Hardware, Consulting, contract negotiation, conversion, credit, client, databases, DHCP, Disaster Recovery, documentation, DNS, due diligence, Enterprise Resource Planning, Firewalls, FTP, Ghost, help desk, IIS, imaging, Information Technology, IP, IT support, LAN, Laptops, Team Leadership, logistics, Loss Prevention, managing, Market, Mentoring, access, Exchange, Microsoft Exchange 2003, Microsoft Office Suite, SharePoint, Microsoft Windows, Windows, Windows 2000, Windows NT, word, migration, Enterprise, network security, network, Networking, Networks, Next, OS, organizational, PCAnywhere, Policies, Problem Resolution, processes, process improvement, procurement, Project Management, Proposal Development, Requirements Analysis, Routers, SAN, Sarbanes-Oxley, Servers, Service Level Agreement, sound, SQL, strategy, Strategic Planning, Switches, Symantec, TCP/IP, telecommunications, Telephony, troubleshooting, upgrades, upgrade, Veritas, Veritas Netbackup, video, VPN, Visio, VOIP, WAN</div> </div> </div> </div>                                                                                                                                                                                                                                                                                                                                                                                                                                                                                                                                                                                                                                                                                                                                                                                                                                                                                                                                                                                                                                                                                                                                                                                                                                                                                                                                                                                                                                                                                                                                                                                                                                                                                                                                                                                                                                                                                                                                                                                                                                                                                                                                                                                                                                                                                                                                                                                                                                                                                                                                                                                                                                                                                                                                                                                                                                                                                                                                                                                                                                                                                                                                                                                                                                                                                                                                                                                                                                                                                                                                                                                                                                                                                                                                                                                                                                                                                                                                                                                                                                                                                                                                                                                                                                                                                                                                                                                                                                                                                                                                                                                                                                                                                                                                                                                                                                                                                                    INFORMATION-TECHNOLOGY    1\n",
       "99033098  CUSTOMER SERVICE ASSOCIATE/CASHIER           Summary    Highly motivated professional seeking a Receptionist position. Possesses excellent communication skills, a strong intuitive analytical thinking. Goal-oriented, Customer-focused with a team player attitude and drive to succeed.      Highlights          Flexibility | Adaptability | Organizing and planning skills  Attention to detail | Stress tolerant   Ability to handle several situations at once with confidence.  Knowledge of MS office and the operation of standard office equipment.  High school diploma.                Answered, screened and directed inbound phone calls  Performed general secretarial duties, including – meeting scheduling, appointment set up, faxing and mailing  Took verbal and written messages and transmitted them to exact person/destination  Accepted letters and packages delivered to the front desk and distributed to appropriate staff  Interacted well with the public  Handled delicate situations, such as – customer requests, special needs and complaints  Coordinated maintenance of the front desk reception area equipment, furniture, lighting, applications and brochures  Maintained a neat, tidy and pleasant appearance of the reception area                                             Accomplishments      Provided the highest quality natural health care services to all of the patients in a caring and supportive environment  Good with patients of all ages  Ability to follow directions closely  Great compassion towards patients  Comfortable in interacting with all types of patients  Skilled in explaining to patients how to adapt to a healthier lifestyle as instructed by the physician  Experienced in assisting physician for treating patients  Adept in scheduling patient appointments and preparing treatment rooms  Skilled in filing out medical history forms  Ability to work well alone as well as a Team player in a Fast paced office setting           Experience      Customer Service Associate/Cashier     October 2008   to   April 2009     Company Name   －   City  ,   State      Greeted and assisted customers in a friendly courteous manner   Processed customers' transactions accurately and efficiently along with bagging customer purchases   Maintained the proper funds in register and called for change or cash pick-ups as needed  Followed Company policies and procedures in handling void transactions, even exchanges, over and short situations, etc.\\r\\n  Opened and closed the register and counted out register drawer\\r\\n  Recorded appropriate information on the balance sheet to prevent cash loss  Utilized and adhered to the merchandise presentation standards in regards to the 5 Basics: replenishment, signing, sizing, clearance and clean store Followed Company policies and procedures for all POS processes Maintained a neat, clean and organized customer service and register area Maintained consistent communication and follow through Recovered and replenished POS end caps in accordance with merchandizing directives and standards Ensured prompt removal of merchandise returns and holds  Made sure that all merchandise was folded, hung, tagged and priced appropriately before returning to the sales floor Processed damages and the appropriate paperwork correctly  Tagged vendor return items. Called for department to pick up returns Solicited Kohl's Charge applications and e-mail addresses from customers in accordance with Company standards Responded appropriately to POS backup calls and Service Desk calls  Assisted with POS and Customer Service as needed Properly held merchandise for customers when needed, including returning merchandise not picked up to the sales floor  Processed rain checks within Company standards Accomplishments Very rewarding Helping customers and loved working in Retail\\r\\n  Skills Used Analytical thinking, planning  Strong verbal and personal communication skills\\r\\n  Accuracy and Attention to details\\r\\n  Organization and prioritization skills  Problem analysis, use of judgment and ability to solve problems efficiently  Self motivated, initiative, high level of energy  Verbal communication skills             Chiropractor Assistant    October 2007   to   September 2013     Company Name   －   City  ,   State     Receptionist, Greet and register arriving patients, Confirm insurance status, Record medical histories and any other relevant medical information, Abided by HIPAA laws regarding sharing of personal medical information, Room patients, Assist Chiropractors with certain procedures, Responsible for administering some physical therapy techniques, Educate patients, Patient scheduling, Checking out departing patients, Call and confirm appointments, Managing patients files, Managerial tasks, Bookkeeping, billing, employee payroll, bank deposits, Maintain and kept track of office supplies, Checking in and out chiropractic equipment and supplies, Keep waiting rooms and examination rooms clean, Microsoft Office proficiency and Excel spreadsheets   Receptionist, Greet and register arriving patients, Confirm insurance status, Record medical histories and any other relevant medical information, Abided by HIPAA laws regarding sharing of personal medical information, Room patients, Assist Chiropractors with certain procedures, Responsible for administering some physical therapy techniques, Educate patients, Patient scheduling, Checking out departing patients, Call and confirm appointments, Managing patients files, Managerial tasks, Bookkeeping, billing, employee payroll, bank deposits, Maintain and kept track of office supplies, Checking in and out chiropractic equipment and supplies, Keep waiting rooms and examination rooms clean, Microsoft Office proficiency and Excel spreadsheets                   January 2005   to   Current     Company Name   －   City  ,   State      Commercial and Private party house cleaning. Maintain lists of vacant apartment's that require housekeeping attention before the arrival of their next occupants. Responsible for cleaning commercial buildings, offices, restrooms and common areas. Restocking all toiletries, vacuum room carpets, and sweep, scrub, wax and polish floors using brooms, mops and powered scrubbing and waxing machines. Preparing surfaces with primer, apply layers of paint and hang wallpaper. Tidy up after finishing a job Accomplishments.           Education      High School Diploma   :   General  ,   1987    Marshfield High School   －   City  ,   State              Personal Information    I work well as a team-player, I am very out going and I am able to work well under stress.            Skills    Receptionist, 10-Key, Account Management, Active Learning, Calendaring, Client Relations, Computer Proficiency, Coordination, Creative Problem Solving, Customer Needs Assessment, Customer Service, Data Collection, Data Entry, Documentation, Email, Executive Management Support, Filing,  Internet Research, Scheduling, Spreadsheets, Telephone Skills, Time Management, Vendor Management, Letters and Memos, Microsoft Excel, Microsoft Office Suite, Microsoft Outlook, Microsoft Word, Multi-Task Management, Organizational Skills and Prioritization.                                                                                                                                                                                                                                                                                                                                                                                                                                                                                                                                                                                                                                                                                                                                                                                                                                                                                                                                                                                                                                                                                                                                                                                                                                                                                                                  <div class=\"fontsize fontface vmargins hmargins linespacing pagesize\" id=\"document\"> <div class=\"section firstsection\" id=\"SECTION_NAME749361732\" style=\"padding-top:0px;\"> <div class=\"paragraph PARAGRAPH_NAME firstparagraph\" id=\"PARAGRAPH_749361732_1_485500560\" style=\"padding-top:0px;\"> <div class=\"name thinbottomborder\" itemprop=\"name\"> <span class=\"field\" id=\"749361732FNAM1\"> </span> <span> </span> <span class=\"field\" id=\"749361732LNAM1\"> CUSTOMER SERVICE ASSOCIATE/CASHIER</span> </div> <div class=\"myGap\"> </div> <div class=\"lowerborder thinbottomborder\"> </div> </div> </div> <div class=\"section\" id=\"SECTION_SUMM749361740\" style=\"padding-top:0px;\"> <div class=\"heading\"> <div class=\"sectiontitle thinbottomborder\" id=\"SECTNAME_SUMM749361740\"> Summary</div> </div> <div class=\"paragraph firstparagraph\" id=\"PARAGRAPH_749361740_1_485505892\" style=\"padding-top:0px;\"> <div class=\"field singlecolumn\" id=\"749361740FRFM1\"> Highly motivated professional seeking a Receptionist position. Possesses excellent communication skills, a strong intuitive analytical thinking. Goal-oriented, Customer-focused with a team player attitude and drive to succeed.</div> </div> </div> <div class=\"section\" id=\"SECTION_HILT749361737\" style=\"padding-top:0px;\"> <div class=\"heading\"> <div class=\"sectiontitle thinbottomborder\" id=\"SECTNAME_HILT749361737\"> Highlights</div> </div> <div class=\"paragraph firstparagraph\" id=\"PARAGRAPH_749361737_1_485500565\" style=\"padding-top:0px;\"> <div class=\"singlecolumn maincolumn\"> <table class=\"twocol\"> <tbody> <tr> <td class=\"field twocol_1 charspace\" id=\"749361737SKC11\"> <div> <p align=\"center\"> Flexibility | Adaptability | Organizing and planning skills<br/>  Attention to detail | Stress tolerant</p> <ul> <li> Ability to handle several situations at once with confidence.</li> <li> Knowledge of MS office and the operation of standard office equipment.</li> <li> High school diploma.</li> </ul> </div> <div> <br/> </div> <div class=\"telerik_paste_container\" style=\"border-width: 0px; margin: 0px; padding: 0px; left: 160px; top: 245px; width: 1px; height: 1px; overflow: hidden; position: absolute;\"> <br/> </div> <div class=\"telerik_paste_container\" style=\"border-width: 0px; margin: 0px; padding: 0px; left: 3px; top: 5px; width: 1px; height: 1px; overflow: hidden; position: absolute;\"> <br/> </div> </td> <td class=\"field twocol_2 charspace\" id=\"749361737SKC21\"> <ul> <li> Answered, screened and directed inbound phone calls</li> <li> Performed general secretarial duties, including – meeting scheduling, appointment set up, faxing and mailing</li> <li> Took verbal and written messages and transmitted them to exact person/destination</li> <li> Accepted letters and packages delivered to the front desk and distributed to appropriate staff</li> <li> Interacted well with the public</li> <li> Handled delicate situations, such as – customer requests, special needs and complaints</li> <li> Coordinated maintenance of the front desk reception area equipment, furniture, lighting, applications and brochures</li> <li> Maintained a neat, tidy and pleasant appearance of the reception area</li> </ul> <div> <br/> </div> <div> <br/> </div> <div class=\"telerik_paste_container\" style=\"border-width: 0px; margin: 0px; padding: 0px; left: 43px; top: 17px; width: 1px; height: 1px; overflow: hidden; position: absolute;\"> <br/> </div> <div class=\"telerik_paste_container\" style=\"border-width: 0px; margin: 0px; padding: 0px; left: 43px; top: 53px; width: 1px; height: 1px; overflow: hidden; position: absolute;\"> <br/> </div> <div class=\"telerik_paste_container\" style=\"border-width: 0px; margin: 0px; padding: 0px; left: 43px; top: 161px; width: 1px; height: 1px; overflow: hidden; position: absolute;\"> <br/> </div> <div class=\"telerik_paste_container\" style=\"border-width: 0px; margin: 0px; padding: 0px; left: 43px; top: 233px; width: 1px; height: 1px; overflow: hidden; position: absolute;\"> <br/> </div> <div class=\"telerik_paste_container\" style=\"border-width: 0px; margin: 0px; padding: 0px; left: 43px; top: 233px; width: 1px; height: 1px; overflow: hidden; position: absolute;\"> <br/> </div> <div class=\"telerik_paste_container\" style=\"border-width: 0px; margin: 0px; padding: 0px; left: 43px; top: 305px; width: 1px; height: 1px; overflow: hidden; position: absolute;\"> <br/> </div> <div class=\"telerik_paste_container\" style=\"border-width: 0px; margin: 0px; padding: 0px; left: 43px; top: 341px; width: 1px; height: 1px; overflow: hidden; position: absolute;\"> <br/> </div> <div class=\"telerik_paste_container\" style=\"border-width: 0px; margin: 0px; padding: 0px; left: 43px; top: 413px; width: 1px; height: 1px; overflow: hidden; position: absolute;\"> <br/> </div> <div class=\"telerik_paste_container\" style=\"border-width: 0px; margin: 0px; padding: 0px; left: 43px; top: 503px; width: 1px; height: 1px; overflow: hidden; position: absolute;\"> <br/> </div> </td> </tr> </tbody> </table> </div> </div> </div> <div class=\"section\" id=\"SECTION_ACCM749361735\" style=\"padding-top:0px;\"> <div class=\"heading\"> <div class=\"sectiontitle thinbottomborder\" id=\"SECTNAME_ACCM749361735\"> Accomplishments</div> </div> <div class=\"paragraph firstparagraph\" id=\"PARAGRAPH_749361735_1_485500563\" style=\"padding-top:0px;\"> <div class=\"field singlecolumn\" id=\"749361735FRFM1\"> <ul> <li> Provided the highest quality natural health care services to all of the patients in a caring and supportive environment</li> <li> Good with patients of all ages</li> <li> Ability to follow directions closely</li> <li> Great compassion towards patients</li> <li> Comfortable in interacting with all types of patients</li> <li> Skilled in explaining to patients how to adapt to a healthier lifestyle as instructed by the physician</li> <li> Experienced in assisting physician for treating patients</li> <li> Adept in scheduling patient appointments and preparing treatment rooms</li> <li> Skilled in filing out medical history forms</li> <li> Ability to work well alone as well as a Team player in a Fast paced office setting</li> </ul> <div> <br/> </div> </div> </div> </div> <div class=\"section\" id=\"SECTION_EXPR749361734\" style=\"padding-top:0px;\"> <div class=\"heading\"> <div class=\"sectiontitle thinbottomborder\" id=\"SECTNAME_EXPR749361734\"> Experience</div> </div> <div class=\"paragraph firstparagraph\" id=\"PARAGRAPH_749361734_1_485541424\" itemscope=\"\" itemtype=\"https://schema.org/Organization\" style=\"padding-top:0px;\"> <div class=\"singlecolumn\"> <span class=\"paddedline\"> <span class=\"jobtitle\" id=\"749361734JTIT1\"> Customer Service Associate/Cashier </span> <br/> <span> <span class=\"jobdates\" format=\"%B %Y\" id=\"749361734JSTD1\"> October 2008</span> <span>  to </span> <span class=\"jobdates\" format=\"%B %Y\" id=\"749361734EDDT1\"> April 2009</span> </span> </span> <span class=\"paddedline\" itemscope=\"\" itemtype=\"https://schema.org/postalAddress\"> <span class=\"companyname\" id=\"749361734COMP1\" itemprop=\"name\"> Company Name</span> <span>  － </span> <span class=\"joblocation jobcity\" id=\"749361734JCIT1\" itemprop=\"addressLocality\"> City</span> <span> , </span> <span class=\"joblocation jobstate\" id=\"749361734JSTA1\" itemprop=\"addressRegion\"> State</span> </span> <span class=\"paddedline\"> <span class=\"jobline\" id=\"749361734JDES1\" itemprop=\"description\"> <ul> <li> Greeted and assisted customers in a friendly courteous manner </li> <li> Processed customers' transactions accurately and efficiently along with bagging customer purchases </li> <li> Maintained the proper funds in register and called for change or cash pick-ups as needed</li> <li> Followed Company policies and procedures in handling void transactions, even exchanges, over and short situations, etc.\\r\\n</li> <li> Opened and closed the register and counted out register drawer\\r\\n</li> <li> Recorded appropriate information on the balance sheet to prevent cash loss</li> <li> Utilized and adhered to the merchandise presentation standards in regards to the 5 Basics: replenishment, signing, sizing, clearance and clean store Followed Company policies and procedures for all POS processes Maintained a neat, clean and organized customer service and register area Maintained consistent communication and follow through Recovered and replenished POS end caps in accordance with merchandizing directives and standards Ensured prompt removal of merchandise returns and holds</li> <li> Made sure that all merchandise was folded, hung, tagged and priced appropriately before returning to the sales floor Processed damages and the appropriate paperwork correctly</li> <li> Tagged vendor return items. Called for department to pick up returns Solicited Kohl's Charge applications and e-mail addresses from customers in accordance with Company standards Responded appropriately to POS backup calls and Service Desk calls</li> <li> Assisted with POS and Customer Service as needed Properly held merchandise for customers when needed, including returning merchandise not picked up to the sales floor</li> <li> Processed rain checks within Company standards Accomplishments Very rewarding Helping customers and loved working in Retail\\r\\n</li> <li> Skills Used Analytical thinking, planning</li> <li> Strong verbal and personal communication skills\\r\\n</li> <li> Accuracy and Attention to details\\r\\n</li> <li> Organization and prioritization skills</li> <li> Problem analysis, use of judgment and ability to solve problems efficiently</li> <li> Self motivated, initiative, high level of energy</li> <li> Verbal communication skills</li> </ul> <div class=\"telerik_paste_container\" style=\"border-width: 0px; margin: 0px; padding: 0px; left: 3px; top: 5px; width: 1px; height: 1px; overflow: hidden; position: absolute;\"> <br/> </div> </span> </span> </div> </div> <div class=\"paragraph\" id=\"PARAGRAPH_749361734_2_485520052\" itemscope=\"\" itemtype=\"https://schema.org/Organization\" style=\"padding-top:0px;\"> <div class=\"singlecolumn\"> <span class=\"paddedline\"> <span class=\"jobtitle\" id=\"749361734JTIT2\"> Chiropractor Assistant</span> <br/> <span> <span class=\"jobdates\" format=\"%B %Y\" id=\"749361734JSTD2\"> October 2007</span> <span>  to </span> <span class=\"jobdates\" format=\"%B %Y\" id=\"749361734EDDT2\"> September 2013</span> </span> </span> <span class=\"paddedline\" itemscope=\"\" itemtype=\"https://schema.org/postalAddress\"> <span class=\"companyname\" id=\"749361734COMP2\" itemprop=\"name\"> Company Name</span> <span>  － </span> <span class=\"joblocation jobcity\" id=\"749361734JCIT2\" itemprop=\"addressLocality\"> City</span> <span> , </span> <span class=\"joblocation jobstate\" id=\"749361734JSTA2\" itemprop=\"addressRegion\"> State</span> </span> <span class=\"paddedline\"> <span class=\"jobline\" id=\"749361734JDES2\" itemprop=\"description\"> <div> Receptionist, Greet and register arriving patients, Confirm insurance status, Record medical histories and any other relevant medical information, Abided by HIPAA laws regarding sharing of personal medical information, Room patients, Assist Chiropractors with certain procedures, Responsible for administering some physical therapy techniques, Educate patients, Patient scheduling, Checking out departing patients, Call and confirm appointments, Managing patients files, Managerial tasks, Bookkeeping, billing, employee payroll, bank deposits, Maintain and kept track of office supplies, Checking in and out chiropractic equipment and supplies, Keep waiting rooms and examination rooms clean, Microsoft Office proficiency and Excel spreadsheets<br/> </div> <div class=\"telerik_paste_container\" style=\"border-width: 0px; margin: 0px; padding: 0px; left: 3px; top: 5px; width: 1px; height: 1px; overflow: hidden; position: absolute;\"> Receptionist, Greet and register arriving patients, Confirm insurance status, Record medical histories and any other relevant medical information, Abided by HIPAA laws regarding sharing of personal medical information, Room patients, Assist Chiropractors with certain procedures, Responsible for administering some physical therapy techniques, Educate patients, Patient scheduling, Checking out departing patients, Call and confirm appointments, Managing patients files, Managerial tasks, Bookkeeping, billing, employee payroll, bank deposits, Maintain and kept track of office supplies, Checking in and out chiropractic equipment and supplies, Keep waiting rooms and examination rooms clean, Microsoft Office proficiency and Excel spreadsheets<br/> </div> <div class=\"telerik_paste_container\" style=\"border-width: 0px; margin: 0px; padding: 0px; left: 3px; top: 6px; width: 1px; height: 1px; overflow: hidden; position: absolute;\"> <br/> </div> <div class=\"telerik_paste_container\" style=\"border-width: 0px; margin: 0px; padding: 0px; left: 3px; top: 5px; width: 1px; height: 1px; overflow: hidden; position: absolute;\"> <br/> </div> </span> </span> </div> </div> <div class=\"paragraph\" id=\"PARAGRAPH_749361734_3_485500562\" itemscope=\"\" itemtype=\"https://schema.org/Organization\" style=\"padding-top:0px;\"> <div class=\"singlecolumn\"> <span class=\"paddedline\"> <span class=\"jobtitle\" id=\"749361734JTIT3\"> </span> <span> <span class=\"jobdates\" format=\"%B %Y\" id=\"749361734JSTD3\"> January 2005</span> <span>  to </span> <span class=\"jobdates\" format=\"%B %Y\" id=\"749361734EDDT3\"> Current</span> </span> </span> <span class=\"paddedline\" itemscope=\"\" itemtype=\"https://schema.org/postalAddress\"> <span class=\"companyname\" id=\"749361734COMP3\" itemprop=\"name\"> Company Name</span> <span>  － </span> <span class=\"joblocation jobcity\" id=\"749361734JCIT3\" itemprop=\"addressLocality\"> City</span> <span> , </span> <span class=\"joblocation jobstate\" id=\"749361734JSTA3\" itemprop=\"addressRegion\"> State</span> </span> <span class=\"paddedline\"> <span class=\"jobline\" id=\"749361734JDES3\" itemprop=\"description\"> <ul> <li> Commercial and Private party house cleaning. Maintain lists of vacant apartment's that require housekeeping attention before the arrival of their next occupants. Responsible for cleaning commercial buildings, offices, restrooms and common areas. Restocking all toiletries, vacuum room carpets, and sweep, scrub, wax and polish floors using brooms, mops and powered scrubbing and waxing machines. Preparing surfaces with primer, apply layers of paint and hang wallpaper. Tidy up after finishing a job Accomplishments. </li> </ul> </span> </span> </div> </div> </div> <div class=\"section\" id=\"SECTION_EDUC749361741\" style=\"padding-top:0px;\"> <div class=\"heading\"> <div class=\"sectiontitle thinbottomborder\" id=\"SECTNAME_EDUC749361741\"> Education</div> </div> <div class=\"paragraph firstparagraph\" id=\"PARAGRAPH_749361741_1_485509088\" itemscope=\"\" itemtype=\"https://schema.org/EducationalOrganization\" style=\"padding-top:0px;\"> <div class=\"singlecolumn\"> <span class=\"paddedline\" itemprop=\"description\"> <span class=\"degree\" dependency=\"DGRE\" id=\"749361741DGRE1\" itemprop=\"name\"> High School Diploma</span> <span>  : </span> <span class=\"programline\" dependency=\"STUY\" id=\"749361741STUY1\"> General</span> <span> , </span> <span class=\"jobdates\" id=\"749361741GRYR1\"> 1987</span> </span> <span class=\"paddedline\"> <span class=\"companyname companyname_educ\" dependency=\"SCHO\" id=\"749361741SCHO1\" itemprop=\"name\"> Marshfield High School</span> <span>  － </span> <span class=\"joblocation jobcity\" id=\"749361741SCIT1\"> City</span> <span> , </span> <span class=\"joblocation jobstate\" id=\"749361741SSTA1\"> State</span> <span class=\"joblocation jobstate\" id=\"749361741SCNT1\"> </span> </span> <span class=\"paddedline\"> <span class=\"field\" id=\"749361741FRFM1\"> </span> </span> </div> </div> </div> <div class=\"section\" id=\"SECTION_PRIN749361736\" style=\"padding-top:0px;\"> <div class=\"heading\"> <div class=\"sectiontitle thinbottomborder\" id=\"SECTNAME_PRIN749361736\"> Personal Information</div> </div> <div class=\"paragraph firstparagraph\" id=\"PARAGRAPH_749361736_1_485500564\" style=\"padding-top:0px;\"> <div class=\"field singlecolumn\" id=\"749361736FRFM1\"> I work well as a team-player, I am very out going and I am able to work well under stress.<div class=\"telerik_paste_container\" style=\"border-width: 0px; margin: 0px; padding: 0px; left: 3px; top: 5px; width: 1px; height: 1px; overflow: hidden; position: absolute;\"> <br/> </div> <div class=\"telerik_paste_container\" style=\"border-width: 0px; margin: 0px; padding: 0px; left: 22px; top: 23px; width: 1px; height: 1px; overflow: hidden; position: absolute;\"> <br/> </div> </div> </div> </div> <div class=\"section\" id=\"SECTION_SKLL749361738\" style=\"padding-top:0px;\"> <div class=\"heading\"> <div class=\"sectiontitle thinbottomborder\" id=\"SECTNAME_SKLL749361738\"> Skills</div> </div> <div class=\"paragraph firstparagraph\" id=\"PARAGRAPH_749361738_1_485500566\" style=\"padding-top:0px;\"> <div class=\"field singlecolumn\" id=\"749361738FRFM1\"> Receptionist, 10-Key, Account Management, Active Learning, Calendaring, Client Relations, Computer Proficiency, Coordination, Creative Problem Solving, Customer Needs Assessment, Customer Service, Data Collection, Data Entry, Documentation, Email, Executive Management Support, Filing,  Internet Research, Scheduling, Spreadsheets, Telephone Skills, Time Management, Vendor Management, Letters and Memos, Microsoft Excel, Microsoft Office Suite, Microsoft Outlook, Microsoft Word, Multi-Task Management, Organizational Skills and Prioritization.<div class=\"telerik_paste_container\" style=\"border-width: 0px; margin: 0px; padding: 0px; left: 3px; top: 5px; width: 1px; height: 1px; overflow: hidden; position: absolute;\"> <br/> </div> <div class=\"telerik_paste_container\" style=\"border-width: 0px; margin: 0px; padding: 0px; left: 85px; top: 5px; width: 1px; height: 1px; overflow: hidden; position: absolute;\"> <br/> </div> <div class=\"telerik_paste_container\" style=\"border-width: 0px; margin: 0px; padding: 0px; left: 85px; top: 5px; width: 1px; height: 1px; overflow: hidden; position: absolute;\"> <br/> </div> </div> </div> </div> <div class=\"section\" id=\"SECTION_ADDI749361739\" style=\"padding-top:0px;\"> </div> </div>                                                                                                                                                                                                                                                                                                                                                                                                                                                                                                                                                                                                                                                                                                                                                                                                                                                                                                                                                                                                                                                                                                                                                                                                                                                                                                                                                                                                                                                                                                                                                                                                                                                                                                                                                                                                                                                                                                                                                                                                                                                                                                                                                                                                                                                                                                                                                                                                                                                                                                                                                    ARTS                      1\n",
       "Name: count, Length: 200, dtype: int64"
      ]
     },
     "execution_count": 7,
     "metadata": {},
     "output_type": "execute_result"
    }
   ],
   "source": [
    "data.info()\n",
    "data.value_counts()"
   ]
  },
  {
   "cell_type": "code",
   "execution_count": 8,
   "metadata": {},
   "outputs": [],
   "source": [
    "nlp = spacy.load(\"en_core_web_lg\")\n",
    "skill_pattern_path = \"jz_skill_patterns.jsonl\""
   ]
  },
  {
   "cell_type": "code",
   "execution_count": 9,
   "metadata": {},
   "outputs": [
    {
     "data": {
      "text/plain": [
       "['tok2vec',\n",
       " 'tagger',\n",
       " 'parser',\n",
       " 'attribute_ruler',\n",
       " 'lemmatizer',\n",
       " 'ner',\n",
       " 'entity_ruler']"
      ]
     },
     "execution_count": 9,
     "metadata": {},
     "output_type": "execute_result"
    }
   ],
   "source": [
    "ruler=nlp.add_pipe(\"entity_ruler\")\n",
    "ruler.from_disk(skill_pattern_path)\n",
    "nlp.pipe_names"
   ]
  },
  {
   "cell_type": "code",
   "execution_count": 10,
   "metadata": {},
   "outputs": [],
   "source": [
    "#Extract the skills\n",
    "def get_skills(text):\n",
    "    doc = nlp(text)\n",
    "    myset = []\n",
    "    subset = []\n",
    "    for ent in doc.ents:\n",
    "        if ent.label_ == 'SKILL':\n",
    "            subset.append(ent.text)\n",
    "    myset.append(subset)\n",
    "    return subset\n",
    "def unique_skills(x):\n",
    "    return list(set(x)) "
   ]
  },
  {
   "cell_type": "code",
   "execution_count": 11,
   "metadata": {},
   "outputs": [],
   "source": [
    "#Text cleaning\n",
    "clean = []\n",
    "for i in range(data.shape[0]):\n",
    "    review = re.sub(\n",
    "        '(@[A-Za-z0-9]+)|([^0-9A-Za-z \\t])|(\\w+:\\/\\/\\S+)|^rt|http.+?\"',\n",
    "        \" \",\n",
    "        data[\"Resume_str\"].iloc[i],\n",
    "    )\n",
    "    review = review.lower()\n",
    "    review = review.split()\n",
    "    lm = WordNetLemmatizer()\n",
    "    review = [\n",
    "        lm.lemmatize(word)\n",
    "        for word in review\n",
    "        if not word in set(stopwords.words(\"english\"))\n",
    "    ]\n",
    "    review = \" \".join(review)\n",
    "    clean.append(review)"
   ]
  },
  {
   "cell_type": "code",
   "execution_count": 12,
   "metadata": {},
   "outputs": [
    {
     "data": {
      "text/html": [
       "<div>\n",
       "<style scoped>\n",
       "    .dataframe tbody tr th:only-of-type {\n",
       "        vertical-align: middle;\n",
       "    }\n",
       "\n",
       "    .dataframe tbody tr th {\n",
       "        vertical-align: top;\n",
       "    }\n",
       "\n",
       "    .dataframe thead th {\n",
       "        text-align: right;\n",
       "    }\n",
       "</style>\n",
       "<table border=\"1\" class=\"dataframe\">\n",
       "  <thead>\n",
       "    <tr style=\"text-align: right;\">\n",
       "      <th></th>\n",
       "      <th>ID</th>\n",
       "      <th>Resume_str</th>\n",
       "      <th>Resume_html</th>\n",
       "      <th>Category</th>\n",
       "      <th>Clean_Resume</th>\n",
       "      <th>skills</th>\n",
       "    </tr>\n",
       "  </thead>\n",
       "  <tbody>\n",
       "    <tr>\n",
       "      <th>1335</th>\n",
       "      <td>24703983</td>\n",
       "      <td>ACCOUNTANT       Summary    Experienc...</td>\n",
       "      <td>&lt;div class=\"fontsize fontface vmargins hmargin...</td>\n",
       "      <td>AUTOMOBILE</td>\n",
       "      <td>accountant summary experienced accounting prof...</td>\n",
       "      <td>[software, accounting]</td>\n",
       "    </tr>\n",
       "    <tr>\n",
       "      <th>1282</th>\n",
       "      <td>73282756</td>\n",
       "      <td>DIRECTOR OF DIGITAL INNOVATION AND ST...</td>\n",
       "      <td>&lt;div class=\"fontsize fontface vmargins hmargin...</td>\n",
       "      <td>DIGITAL-MEDIA</td>\n",
       "      <td>director digital innovation strategy executive...</td>\n",
       "      <td>[statistical model, google, google analytics, ...</td>\n",
       "    </tr>\n",
       "    <tr>\n",
       "      <th>2029</th>\n",
       "      <td>12826414</td>\n",
       "      <td>DIRECTOR OF PIPELINE OPERATIONS      ...</td>\n",
       "      <td>&lt;div class=\"fontsize fontface vmargins hmargin...</td>\n",
       "      <td>CONSTRUCTION</td>\n",
       "      <td>director pipeline operation executive profile ...</td>\n",
       "      <td>[schedule, architectural engineering, business...</td>\n",
       "    </tr>\n",
       "    <tr>\n",
       "      <th>395</th>\n",
       "      <td>69532425</td>\n",
       "      <td>PRE-SERVICE TEACHER         Summary  ...</td>\n",
       "      <td>&lt;div class=\"fontsize fontface vmargins hmargin...</td>\n",
       "      <td>TEACHER</td>\n",
       "      <td>pre service teacher summary seeking middle gra...</td>\n",
       "      <td>[]</td>\n",
       "    </tr>\n",
       "    <tr>\n",
       "      <th>829</th>\n",
       "      <td>19774173</td>\n",
       "      <td>SALES ASSOCIATE       Objective    To...</td>\n",
       "      <td>&lt;div class=\"fontsize fontface vmargins hmargin...</td>\n",
       "      <td>FITNESS</td>\n",
       "      <td>sale associate objective obtain position growi...</td>\n",
       "      <td>[business administration, testing, accounting]</td>\n",
       "    </tr>\n",
       "  </tbody>\n",
       "</table>\n",
       "</div>"
      ],
      "text/plain": [
       "            ID                                         Resume_str  \\\n",
       "1335  24703983           ACCOUNTANT       Summary    Experienc...   \n",
       "1282  73282756           DIRECTOR OF DIGITAL INNOVATION AND ST...   \n",
       "2029  12826414           DIRECTOR OF PIPELINE OPERATIONS      ...   \n",
       "395   69532425           PRE-SERVICE TEACHER         Summary  ...   \n",
       "829   19774173           SALES ASSOCIATE       Objective    To...   \n",
       "\n",
       "                                            Resume_html       Category  \\\n",
       "1335  <div class=\"fontsize fontface vmargins hmargin...     AUTOMOBILE   \n",
       "1282  <div class=\"fontsize fontface vmargins hmargin...  DIGITAL-MEDIA   \n",
       "2029  <div class=\"fontsize fontface vmargins hmargin...   CONSTRUCTION   \n",
       "395   <div class=\"fontsize fontface vmargins hmargin...        TEACHER   \n",
       "829   <div class=\"fontsize fontface vmargins hmargin...        FITNESS   \n",
       "\n",
       "                                           Clean_Resume  \\\n",
       "1335  accountant summary experienced accounting prof...   \n",
       "1282  director digital innovation strategy executive...   \n",
       "2029  director pipeline operation executive profile ...   \n",
       "395   pre service teacher summary seeking middle gra...   \n",
       "829   sale associate objective obtain position growi...   \n",
       "\n",
       "                                                 skills  \n",
       "1335                             [software, accounting]  \n",
       "1282  [statistical model, google, google analytics, ...  \n",
       "2029  [schedule, architectural engineering, business...  \n",
       "395                                                  []  \n",
       "829      [business administration, testing, accounting]  "
      ]
     },
     "execution_count": 12,
     "metadata": {},
     "output_type": "execute_result"
    }
   ],
   "source": [
    "data[\"Clean_Resume\"]= clean\n",
    "data[\"skills\"]=data[\"Clean_Resume\"].str.lower().apply(get_skills)\n",
    "data[\"skills\"]=data[\"skills\"].apply(unique_skills)\n",
    "data.head()"
   ]
  },
  {
   "cell_type": "code",
   "execution_count": 13,
   "metadata": {},
   "outputs": [
    {
     "data": {
      "application/vnd.plotly.v1+json": {
       "config": {
        "plotlyServerURL": "https://plot.ly"
       },
       "data": [
        {
         "alignmentgroup": "True",
         "bingroup": "x",
         "hovertemplate": "Category=%{x}<br>count=%{y}<extra></extra>",
         "legendgroup": "",
         "marker": {
          "color": "#636efa",
          "pattern": {
           "shape": ""
          }
         },
         "name": "",
         "offsetgroup": "",
         "orientation": "v",
         "showlegend": false,
         "type": "histogram",
         "x": [
          "AUTOMOBILE",
          "DIGITAL-MEDIA",
          "CONSTRUCTION",
          "TEACHER",
          "FITNESS",
          "AVIATION",
          "BANKING",
          "BUSINESS-DEVELOPMENT",
          "ARTS",
          "ADVOCATE",
          "CONSULTANT",
          "ADVOCATE",
          "HR",
          "INFORMATION-TECHNOLOGY",
          "AVIATION",
          "PUBLIC-RELATIONS",
          "INFORMATION-TECHNOLOGY",
          "CHEF",
          "BPO",
          "ARTS",
          "HR",
          "HR",
          "HR",
          "CONSULTANT",
          "SALES",
          "DESIGNER",
          "INFORMATION-TECHNOLOGY",
          "SALES",
          "FITNESS",
          "HR",
          "HEALTHCARE",
          "BPO",
          "SALES",
          "INFORMATION-TECHNOLOGY",
          "HEALTHCARE",
          "ARTS",
          "BUSINESS-DEVELOPMENT",
          "DESIGNER",
          "INFORMATION-TECHNOLOGY",
          "DESIGNER",
          "FITNESS",
          "BUSINESS-DEVELOPMENT",
          "INFORMATION-TECHNOLOGY",
          "AGRICULTURE",
          "BANKING",
          "BUSINESS-DEVELOPMENT",
          "BUSINESS-DEVELOPMENT",
          "BANKING",
          "APPAREL",
          "TEACHER",
          "CONSTRUCTION",
          "CHEF",
          "AGRICULTURE",
          "ENGINEERING",
          "FITNESS",
          "TEACHER",
          "SALES",
          "ARTS",
          "HR",
          "DIGITAL-MEDIA",
          "INFORMATION-TECHNOLOGY",
          "BANKING",
          "CONSULTANT",
          "ADVOCATE",
          "AVIATION",
          "ADVOCATE",
          "PUBLIC-RELATIONS",
          "FITNESS",
          "BUSINESS-DEVELOPMENT",
          "AVIATION",
          "ADVOCATE",
          "ARTS",
          "TEACHER",
          "ENGINEERING",
          "SALES",
          "CONSTRUCTION",
          "SALES",
          "TEACHER",
          "BUSINESS-DEVELOPMENT",
          "DESIGNER",
          "INFORMATION-TECHNOLOGY",
          "HEALTHCARE",
          "DIGITAL-MEDIA",
          "HEALTHCARE",
          "HEALTHCARE",
          "ARTS",
          "ENGINEERING",
          "INFORMATION-TECHNOLOGY",
          "FITNESS",
          "ADVOCATE",
          "INFORMATION-TECHNOLOGY",
          "BANKING",
          "APPAREL",
          "DIGITAL-MEDIA",
          "CHEF",
          "FINANCE",
          "CONSTRUCTION",
          "SALES",
          "AVIATION",
          "INFORMATION-TECHNOLOGY",
          "ACCOUNTANT",
          "HEALTHCARE",
          "ENGINEERING",
          "BPO",
          "FITNESS",
          "FINANCE",
          "AVIATION",
          "INFORMATION-TECHNOLOGY",
          "DIGITAL-MEDIA",
          "BANKING",
          "CONSTRUCTION",
          "AUTOMOBILE",
          "BUSINESS-DEVELOPMENT",
          "PUBLIC-RELATIONS",
          "APPAREL",
          "AGRICULTURE",
          "DESIGNER",
          "TEACHER",
          "BUSINESS-DEVELOPMENT",
          "HR",
          "HEALTHCARE",
          "ARTS",
          "APPAREL",
          "SALES",
          "INFORMATION-TECHNOLOGY",
          "PUBLIC-RELATIONS",
          "FITNESS",
          "CHEF",
          "ENGINEERING",
          "ACCOUNTANT",
          "SALES",
          "FINANCE",
          "CONSTRUCTION",
          "AVIATION",
          "PUBLIC-RELATIONS",
          "DESIGNER",
          "ACCOUNTANT",
          "ADVOCATE",
          "AVIATION",
          "DESIGNER",
          "FINANCE",
          "PUBLIC-RELATIONS",
          "DESIGNER",
          "FINANCE",
          "FINANCE",
          "HEALTHCARE",
          "SALES",
          "CHEF",
          "CHEF",
          "DIGITAL-MEDIA",
          "BUSINESS-DEVELOPMENT",
          "ADVOCATE",
          "CONSULTANT",
          "AVIATION",
          "TEACHER",
          "CHEF",
          "SALES",
          "ADVOCATE",
          "FINANCE",
          "FITNESS",
          "APPAREL",
          "HR",
          "FINANCE",
          "ACCOUNTANT",
          "APPAREL",
          "BUSINESS-DEVELOPMENT",
          "PUBLIC-RELATIONS",
          "DESIGNER",
          "CONSTRUCTION",
          "ADVOCATE",
          "ENGINEERING",
          "BUSINESS-DEVELOPMENT",
          "AVIATION",
          "ACCOUNTANT",
          "BANKING",
          "ADVOCATE",
          "DIGITAL-MEDIA",
          "ACCOUNTANT",
          "ARTS",
          "SALES",
          "CONSTRUCTION",
          "BPO",
          "AVIATION",
          "SALES",
          "AVIATION",
          "PUBLIC-RELATIONS",
          "FINANCE",
          "DESIGNER",
          "DIGITAL-MEDIA",
          "APPAREL",
          "FITNESS",
          "INFORMATION-TECHNOLOGY",
          "APPAREL",
          "SALES",
          "INFORMATION-TECHNOLOGY",
          "AVIATION",
          "BUSINESS-DEVELOPMENT",
          "PUBLIC-RELATIONS",
          "DIGITAL-MEDIA",
          "ACCOUNTANT"
         ],
         "xaxis": "x",
         "yaxis": "y"
        }
       ],
       "layout": {
        "barmode": "relative",
        "legend": {
         "tracegroupgap": 0
        },
        "template": {
         "data": {
          "bar": [
           {
            "error_x": {
             "color": "#2a3f5f"
            },
            "error_y": {
             "color": "#2a3f5f"
            },
            "marker": {
             "line": {
              "color": "#E5ECF6",
              "width": 0.5
             },
             "pattern": {
              "fillmode": "overlay",
              "size": 10,
              "solidity": 0.2
             }
            },
            "type": "bar"
           }
          ],
          "barpolar": [
           {
            "marker": {
             "line": {
              "color": "#E5ECF6",
              "width": 0.5
             },
             "pattern": {
              "fillmode": "overlay",
              "size": 10,
              "solidity": 0.2
             }
            },
            "type": "barpolar"
           }
          ],
          "carpet": [
           {
            "aaxis": {
             "endlinecolor": "#2a3f5f",
             "gridcolor": "white",
             "linecolor": "white",
             "minorgridcolor": "white",
             "startlinecolor": "#2a3f5f"
            },
            "baxis": {
             "endlinecolor": "#2a3f5f",
             "gridcolor": "white",
             "linecolor": "white",
             "minorgridcolor": "white",
             "startlinecolor": "#2a3f5f"
            },
            "type": "carpet"
           }
          ],
          "choropleth": [
           {
            "colorbar": {
             "outlinewidth": 0,
             "ticks": ""
            },
            "type": "choropleth"
           }
          ],
          "contour": [
           {
            "colorbar": {
             "outlinewidth": 0,
             "ticks": ""
            },
            "colorscale": [
             [
              0,
              "#0d0887"
             ],
             [
              0.1111111111111111,
              "#46039f"
             ],
             [
              0.2222222222222222,
              "#7201a8"
             ],
             [
              0.3333333333333333,
              "#9c179e"
             ],
             [
              0.4444444444444444,
              "#bd3786"
             ],
             [
              0.5555555555555556,
              "#d8576b"
             ],
             [
              0.6666666666666666,
              "#ed7953"
             ],
             [
              0.7777777777777778,
              "#fb9f3a"
             ],
             [
              0.8888888888888888,
              "#fdca26"
             ],
             [
              1,
              "#f0f921"
             ]
            ],
            "type": "contour"
           }
          ],
          "contourcarpet": [
           {
            "colorbar": {
             "outlinewidth": 0,
             "ticks": ""
            },
            "type": "contourcarpet"
           }
          ],
          "heatmap": [
           {
            "colorbar": {
             "outlinewidth": 0,
             "ticks": ""
            },
            "colorscale": [
             [
              0,
              "#0d0887"
             ],
             [
              0.1111111111111111,
              "#46039f"
             ],
             [
              0.2222222222222222,
              "#7201a8"
             ],
             [
              0.3333333333333333,
              "#9c179e"
             ],
             [
              0.4444444444444444,
              "#bd3786"
             ],
             [
              0.5555555555555556,
              "#d8576b"
             ],
             [
              0.6666666666666666,
              "#ed7953"
             ],
             [
              0.7777777777777778,
              "#fb9f3a"
             ],
             [
              0.8888888888888888,
              "#fdca26"
             ],
             [
              1,
              "#f0f921"
             ]
            ],
            "type": "heatmap"
           }
          ],
          "heatmapgl": [
           {
            "colorbar": {
             "outlinewidth": 0,
             "ticks": ""
            },
            "colorscale": [
             [
              0,
              "#0d0887"
             ],
             [
              0.1111111111111111,
              "#46039f"
             ],
             [
              0.2222222222222222,
              "#7201a8"
             ],
             [
              0.3333333333333333,
              "#9c179e"
             ],
             [
              0.4444444444444444,
              "#bd3786"
             ],
             [
              0.5555555555555556,
              "#d8576b"
             ],
             [
              0.6666666666666666,
              "#ed7953"
             ],
             [
              0.7777777777777778,
              "#fb9f3a"
             ],
             [
              0.8888888888888888,
              "#fdca26"
             ],
             [
              1,
              "#f0f921"
             ]
            ],
            "type": "heatmapgl"
           }
          ],
          "histogram": [
           {
            "marker": {
             "pattern": {
              "fillmode": "overlay",
              "size": 10,
              "solidity": 0.2
             }
            },
            "type": "histogram"
           }
          ],
          "histogram2d": [
           {
            "colorbar": {
             "outlinewidth": 0,
             "ticks": ""
            },
            "colorscale": [
             [
              0,
              "#0d0887"
             ],
             [
              0.1111111111111111,
              "#46039f"
             ],
             [
              0.2222222222222222,
              "#7201a8"
             ],
             [
              0.3333333333333333,
              "#9c179e"
             ],
             [
              0.4444444444444444,
              "#bd3786"
             ],
             [
              0.5555555555555556,
              "#d8576b"
             ],
             [
              0.6666666666666666,
              "#ed7953"
             ],
             [
              0.7777777777777778,
              "#fb9f3a"
             ],
             [
              0.8888888888888888,
              "#fdca26"
             ],
             [
              1,
              "#f0f921"
             ]
            ],
            "type": "histogram2d"
           }
          ],
          "histogram2dcontour": [
           {
            "colorbar": {
             "outlinewidth": 0,
             "ticks": ""
            },
            "colorscale": [
             [
              0,
              "#0d0887"
             ],
             [
              0.1111111111111111,
              "#46039f"
             ],
             [
              0.2222222222222222,
              "#7201a8"
             ],
             [
              0.3333333333333333,
              "#9c179e"
             ],
             [
              0.4444444444444444,
              "#bd3786"
             ],
             [
              0.5555555555555556,
              "#d8576b"
             ],
             [
              0.6666666666666666,
              "#ed7953"
             ],
             [
              0.7777777777777778,
              "#fb9f3a"
             ],
             [
              0.8888888888888888,
              "#fdca26"
             ],
             [
              1,
              "#f0f921"
             ]
            ],
            "type": "histogram2dcontour"
           }
          ],
          "mesh3d": [
           {
            "colorbar": {
             "outlinewidth": 0,
             "ticks": ""
            },
            "type": "mesh3d"
           }
          ],
          "parcoords": [
           {
            "line": {
             "colorbar": {
              "outlinewidth": 0,
              "ticks": ""
             }
            },
            "type": "parcoords"
           }
          ],
          "pie": [
           {
            "automargin": true,
            "type": "pie"
           }
          ],
          "scatter": [
           {
            "fillpattern": {
             "fillmode": "overlay",
             "size": 10,
             "solidity": 0.2
            },
            "type": "scatter"
           }
          ],
          "scatter3d": [
           {
            "line": {
             "colorbar": {
              "outlinewidth": 0,
              "ticks": ""
             }
            },
            "marker": {
             "colorbar": {
              "outlinewidth": 0,
              "ticks": ""
             }
            },
            "type": "scatter3d"
           }
          ],
          "scattercarpet": [
           {
            "marker": {
             "colorbar": {
              "outlinewidth": 0,
              "ticks": ""
             }
            },
            "type": "scattercarpet"
           }
          ],
          "scattergeo": [
           {
            "marker": {
             "colorbar": {
              "outlinewidth": 0,
              "ticks": ""
             }
            },
            "type": "scattergeo"
           }
          ],
          "scattergl": [
           {
            "marker": {
             "colorbar": {
              "outlinewidth": 0,
              "ticks": ""
             }
            },
            "type": "scattergl"
           }
          ],
          "scattermapbox": [
           {
            "marker": {
             "colorbar": {
              "outlinewidth": 0,
              "ticks": ""
             }
            },
            "type": "scattermapbox"
           }
          ],
          "scatterpolar": [
           {
            "marker": {
             "colorbar": {
              "outlinewidth": 0,
              "ticks": ""
             }
            },
            "type": "scatterpolar"
           }
          ],
          "scatterpolargl": [
           {
            "marker": {
             "colorbar": {
              "outlinewidth": 0,
              "ticks": ""
             }
            },
            "type": "scatterpolargl"
           }
          ],
          "scatterternary": [
           {
            "marker": {
             "colorbar": {
              "outlinewidth": 0,
              "ticks": ""
             }
            },
            "type": "scatterternary"
           }
          ],
          "surface": [
           {
            "colorbar": {
             "outlinewidth": 0,
             "ticks": ""
            },
            "colorscale": [
             [
              0,
              "#0d0887"
             ],
             [
              0.1111111111111111,
              "#46039f"
             ],
             [
              0.2222222222222222,
              "#7201a8"
             ],
             [
              0.3333333333333333,
              "#9c179e"
             ],
             [
              0.4444444444444444,
              "#bd3786"
             ],
             [
              0.5555555555555556,
              "#d8576b"
             ],
             [
              0.6666666666666666,
              "#ed7953"
             ],
             [
              0.7777777777777778,
              "#fb9f3a"
             ],
             [
              0.8888888888888888,
              "#fdca26"
             ],
             [
              1,
              "#f0f921"
             ]
            ],
            "type": "surface"
           }
          ],
          "table": [
           {
            "cells": {
             "fill": {
              "color": "#EBF0F8"
             },
             "line": {
              "color": "white"
             }
            },
            "header": {
             "fill": {
              "color": "#C8D4E3"
             },
             "line": {
              "color": "white"
             }
            },
            "type": "table"
           }
          ]
         },
         "layout": {
          "annotationdefaults": {
           "arrowcolor": "#2a3f5f",
           "arrowhead": 0,
           "arrowwidth": 1
          },
          "autotypenumbers": "strict",
          "coloraxis": {
           "colorbar": {
            "outlinewidth": 0,
            "ticks": ""
           }
          },
          "colorscale": {
           "diverging": [
            [
             0,
             "#8e0152"
            ],
            [
             0.1,
             "#c51b7d"
            ],
            [
             0.2,
             "#de77ae"
            ],
            [
             0.3,
             "#f1b6da"
            ],
            [
             0.4,
             "#fde0ef"
            ],
            [
             0.5,
             "#f7f7f7"
            ],
            [
             0.6,
             "#e6f5d0"
            ],
            [
             0.7,
             "#b8e186"
            ],
            [
             0.8,
             "#7fbc41"
            ],
            [
             0.9,
             "#4d9221"
            ],
            [
             1,
             "#276419"
            ]
           ],
           "sequential": [
            [
             0,
             "#0d0887"
            ],
            [
             0.1111111111111111,
             "#46039f"
            ],
            [
             0.2222222222222222,
             "#7201a8"
            ],
            [
             0.3333333333333333,
             "#9c179e"
            ],
            [
             0.4444444444444444,
             "#bd3786"
            ],
            [
             0.5555555555555556,
             "#d8576b"
            ],
            [
             0.6666666666666666,
             "#ed7953"
            ],
            [
             0.7777777777777778,
             "#fb9f3a"
            ],
            [
             0.8888888888888888,
             "#fdca26"
            ],
            [
             1,
             "#f0f921"
            ]
           ],
           "sequentialminus": [
            [
             0,
             "#0d0887"
            ],
            [
             0.1111111111111111,
             "#46039f"
            ],
            [
             0.2222222222222222,
             "#7201a8"
            ],
            [
             0.3333333333333333,
             "#9c179e"
            ],
            [
             0.4444444444444444,
             "#bd3786"
            ],
            [
             0.5555555555555556,
             "#d8576b"
            ],
            [
             0.6666666666666666,
             "#ed7953"
            ],
            [
             0.7777777777777778,
             "#fb9f3a"
            ],
            [
             0.8888888888888888,
             "#fdca26"
            ],
            [
             1,
             "#f0f921"
            ]
           ]
          },
          "colorway": [
           "#636efa",
           "#EF553B",
           "#00cc96",
           "#ab63fa",
           "#FFA15A",
           "#19d3f3",
           "#FF6692",
           "#B6E880",
           "#FF97FF",
           "#FECB52"
          ],
          "font": {
           "color": "#2a3f5f"
          },
          "geo": {
           "bgcolor": "white",
           "lakecolor": "white",
           "landcolor": "#E5ECF6",
           "showlakes": true,
           "showland": true,
           "subunitcolor": "white"
          },
          "hoverlabel": {
           "align": "left"
          },
          "hovermode": "closest",
          "mapbox": {
           "style": "light"
          },
          "paper_bgcolor": "white",
          "plot_bgcolor": "#E5ECF6",
          "polar": {
           "angularaxis": {
            "gridcolor": "white",
            "linecolor": "white",
            "ticks": ""
           },
           "bgcolor": "#E5ECF6",
           "radialaxis": {
            "gridcolor": "white",
            "linecolor": "white",
            "ticks": ""
           }
          },
          "scene": {
           "xaxis": {
            "backgroundcolor": "#E5ECF6",
            "gridcolor": "white",
            "gridwidth": 2,
            "linecolor": "white",
            "showbackground": true,
            "ticks": "",
            "zerolinecolor": "white"
           },
           "yaxis": {
            "backgroundcolor": "#E5ECF6",
            "gridcolor": "white",
            "gridwidth": 2,
            "linecolor": "white",
            "showbackground": true,
            "ticks": "",
            "zerolinecolor": "white"
           },
           "zaxis": {
            "backgroundcolor": "#E5ECF6",
            "gridcolor": "white",
            "gridwidth": 2,
            "linecolor": "white",
            "showbackground": true,
            "ticks": "",
            "zerolinecolor": "white"
           }
          },
          "shapedefaults": {
           "line": {
            "color": "#2a3f5f"
           }
          },
          "ternary": {
           "aaxis": {
            "gridcolor": "white",
            "linecolor": "white",
            "ticks": ""
           },
           "baxis": {
            "gridcolor": "white",
            "linecolor": "white",
            "ticks": ""
           },
           "bgcolor": "#E5ECF6",
           "caxis": {
            "gridcolor": "white",
            "linecolor": "white",
            "ticks": ""
           }
          },
          "title": {
           "x": 0.05
          },
          "xaxis": {
           "automargin": true,
           "gridcolor": "white",
           "linecolor": "white",
           "ticks": "",
           "title": {
            "standoff": 15
           },
           "zerolinecolor": "white",
           "zerolinewidth": 2
          },
          "yaxis": {
           "automargin": true,
           "gridcolor": "white",
           "linecolor": "white",
           "ticks": "",
           "title": {
            "standoff": 15
           },
           "zerolinecolor": "white",
           "zerolinewidth": 2
          }
         }
        },
        "title": {
         "text": "Distribution of Jobs Categories"
        },
        "xaxis": {
         "anchor": "y",
         "categoryorder": "total descending",
         "domain": [
          0,
          1
         ],
         "title": {
          "text": "Category"
         }
        },
        "yaxis": {
         "anchor": "x",
         "domain": [
          0,
          1
         ],
         "title": {
          "text": "count"
         }
        }
       }
      }
     },
     "metadata": {},
     "output_type": "display_data"
    }
   ],
   "source": [
    "import plotly.express as px\n",
    "fig = px.histogram(\n",
    "    data, x=\"Category\", title=\"Distribution of Jobs Categories\"\n",
    ").update_xaxes(categoryorder=\"total descending\")\n",
    "fig.show()"
   ]
  },
  {
   "cell_type": "code",
   "execution_count": 14,
   "metadata": {},
   "outputs": [],
   "source": [
    "Job_cat = data[\"Category\"].unique()\n",
    "Job_cat = np.append(Job_cat, \"ALL\")"
   ]
  },
  {
   "cell_type": "code",
   "execution_count": 15,
   "metadata": {},
   "outputs": [
    {
     "data": {
      "text/html": [
       "<span class=\"tex2jax_ignore\"><div class=\"entities\" style=\"line-height: 2.5; direction: ltr\">         ACCOUNTANT       Summary    Experienced \n",
       "<mark class=\"entity\" style=\"background: #ddd; padding: 0.45em 0.6em; margin: 0 0.25em; line-height: 1; border-radius: 0.35em;\">\n",
       "    accounting\n",
       "    <span style=\"font-size: 0.8em; font-weight: bold; line-height: 1; border-radius: 0.35em; vertical-align: middle; margin-left: 0.5rem\">SKILL</span>\n",
       "</mark>\n",
       " professional with proficient, analytical and problem solving\r<br>abilities. Results oriented and flexible in a rapidly changing environment.      \n",
       "<mark class=\"entity\" style=\"background: #7aecec; padding: 0.45em 0.6em; margin: 0 0.25em; line-height: 1; border-radius: 0.35em;\">\n",
       "    Skills        Microsoft Office\n",
       "    <span style=\"font-size: 0.8em; font-weight: bold; line-height: 1; border-radius: 0.35em; vertical-align: middle; margin-left: 0.5rem\">ORG</span>\n",
       "</mark>\n",
       "\r<br>Outlook            Accomplishments      C?Math.max(0,d+c):c:0;c.        Experience     \n",
       "<mark class=\"entity\" style=\"background: #7aecec; padding: 0.45em 0.6em; margin: 0 0.25em; line-height: 1; border-radius: 0.35em;\">\n",
       "    03/2015\n",
       "    <span style=\"font-size: 0.8em; font-weight: bold; line-height: 1; border-radius: 0.35em; vertical-align: middle; margin-left: 0.5rem\">ORG</span>\n",
       "</mark>\n",
       "   to   07/2017     Accountant    Company Name   －   City  ,   State      Processed \n",
       "<mark class=\"entity\" style=\"background: #bfe1d9; padding: 0.45em 0.6em; margin: 0 0.25em; line-height: 1; border-radius: 0.35em;\">\n",
       "    daily\n",
       "    <span style=\"font-size: 0.8em; font-weight: bold; line-height: 1; border-radius: 0.35em; vertical-align: middle; margin-left: 0.5rem\">DATE</span>\n",
       "</mark>\n",
       " corporate customer \n",
       "<mark class=\"entity\" style=\"background: #ddd; padding: 0.45em 0.6em; margin: 0 0.25em; line-height: 1; border-radius: 0.35em;\">\n",
       "    payments\n",
       "    <span style=\"font-size: 0.8em; font-weight: bold; line-height: 1; border-radius: 0.35em; vertical-align: middle; margin-left: 0.5rem\">SKILL</span>\n",
       "</mark>\n",
       " using \n",
       "<mark class=\"entity\" style=\"background: #7aecec; padding: 0.45em 0.6em; margin: 0 0.25em; line-height: 1; border-radius: 0.35em;\">\n",
       "    CDK\n",
       "    <span style=\"font-size: 0.8em; font-weight: bold; line-height: 1; border-radius: 0.35em; vertical-align: middle; margin-left: 0.5rem\">ORG</span>\n",
       "</mark>\n",
       " and Rental \n",
       "<mark class=\"entity\" style=\"background: #ddd; padding: 0.45em 0.6em; margin: 0 0.25em; line-height: 1; border-radius: 0.35em;\">\n",
       "    payments\n",
       "    <span style=\"font-size: 0.8em; font-weight: bold; line-height: 1; border-radius: 0.35em; vertical-align: middle; margin-left: 0.5rem\">SKILL</span>\n",
       "</mark>\n",
       " using TSD.  Ran \n",
       "<mark class=\"entity\" style=\"background: #bfe1d9; padding: 0.45em 0.6em; margin: 0 0.25em; line-height: 1; border-radius: 0.35em;\">\n",
       "    monthly\n",
       "    <span style=\"font-size: 0.8em; font-weight: bold; line-height: 1; border-radius: 0.35em; vertical-align: middle; margin-left: 0.5rem\">DATE</span>\n",
       "</mark>\n",
       " customer statements.  Responded to and followed up on customer inquiries.  Processed \n",
       "<mark class=\"entity\" style=\"background: #bfe1d9; padding: 0.45em 0.6em; margin: 0 0.25em; line-height: 1; border-radius: 0.35em;\">\n",
       "    daily\n",
       "    <span style=\"font-size: 0.8em; font-weight: bold; line-height: 1; border-radius: 0.35em; vertical-align: middle; margin-left: 0.5rem\">DATE</span>\n",
       "</mark>\n",
       " cash journal entries.  Responsible for running \n",
       "<mark class=\"entity\" style=\"background: #bfe1d9; padding: 0.45em 0.6em; margin: 0 0.25em; line-height: 1; border-radius: 0.35em;\">\n",
       "    monthly\n",
       "    <span style=\"font-size: 0.8em; font-weight: bold; line-height: 1; border-radius: 0.35em; vertical-align: middle; margin-left: 0.5rem\">DATE</span>\n",
       "</mark>\n",
       " aging reports for the accounts payable department and\r<br>stores.         10/2004   to   \n",
       "<mark class=\"entity\" style=\"background: #7aecec; padding: 0.45em 0.6em; margin: 0 0.25em; line-height: 1; border-radius: 0.35em;\">\n",
       "    04/2015\n",
       "    <span style=\"font-size: 0.8em; font-weight: bold; line-height: 1; border-radius: 0.35em; vertical-align: middle; margin-left: 0.5rem\">ORG</span>\n",
       "</mark>\n",
       "     Accountant    Company Name   －   City  ,   State      Processed and paid state, city and county tax returns.  Processed \n",
       "<mark class=\"entity\" style=\"background: #bfe1d9; padding: 0.45em 0.6em; margin: 0 0.25em; line-height: 1; border-radius: 0.35em;\">\n",
       "    yearly\n",
       "    <span style=\"font-size: 0.8em; font-weight: bold; line-height: 1; border-radius: 0.35em; vertical-align: middle; margin-left: 0.5rem\">DATE</span>\n",
       "</mark>\n",
       " property tax returns.  Researched and responded to customer and the sales department inquiries.  Ran \n",
       "<mark class=\"entity\" style=\"background: #bfe1d9; padding: 0.45em 0.6em; margin: 0 0.25em; line-height: 1; border-radius: 0.35em;\">\n",
       "    monthly\n",
       "    <span style=\"font-size: 0.8em; font-weight: bold; line-height: 1; border-radius: 0.35em; vertical-align: middle; margin-left: 0.5rem\">DATE</span>\n",
       "</mark>\n",
       " customer statements.  Reconciled balance sheet accounts.  Processed \n",
       "<mark class=\"entity\" style=\"background: #bfe1d9; padding: 0.45em 0.6em; margin: 0 0.25em; line-height: 1; border-radius: 0.35em;\">\n",
       "    monthly\n",
       "    <span style=\"font-size: 0.8em; font-weight: bold; line-height: 1; border-radius: 0.35em; vertical-align: middle; margin-left: 0.5rem\">DATE</span>\n",
       "</mark>\n",
       " journal entries using \n",
       "<mark class=\"entity\" style=\"background: #7aecec; padding: 0.45em 0.6em; margin: 0 0.25em; line-height: 1; border-radius: 0.35em;\">\n",
       "    Agate\n",
       "    <span style=\"font-size: 0.8em; font-weight: bold; line-height: 1; border-radius: 0.35em; vertical-align: middle; margin-left: 0.5rem\">ORG</span>\n",
       "</mark>\n",
       " a specialized \n",
       "<mark class=\"entity\" style=\"background: #ddd; padding: 0.45em 0.6em; margin: 0 0.25em; line-height: 1; border-radius: 0.35em;\">\n",
       "    software\n",
       "    <span style=\"font-size: 0.8em; font-weight: bold; line-height: 1; border-radius: 0.35em; vertical-align: middle; margin-left: 0.5rem\">SKILL</span>\n",
       "</mark>\n",
       ".  Helped with \n",
       "<mark class=\"entity\" style=\"background: #bfe1d9; padding: 0.45em 0.6em; margin: 0 0.25em; line-height: 1; border-radius: 0.35em;\">\n",
       "    month-end\n",
       "    <span style=\"font-size: 0.8em; font-weight: bold; line-height: 1; border-radius: 0.35em; vertical-align: middle; margin-left: 0.5rem\">DATE</span>\n",
       "</mark>\n",
       " and \n",
       "<mark class=\"entity\" style=\"background: #bfe1d9; padding: 0.45em 0.6em; margin: 0 0.25em; line-height: 1; border-radius: 0.35em;\">\n",
       "    year-end\n",
       "    <span style=\"font-size: 0.8em; font-weight: bold; line-height: 1; border-radius: 0.35em; vertical-align: middle; margin-left: 0.5rem\">DATE</span>\n",
       "</mark>\n",
       " closings.  Created various requested excel reports.         05/2000   to   \n",
       "<mark class=\"entity\" style=\"background: #e4e7d2; padding: 0.45em 0.6em; margin: 0 0.25em; line-height: 1; border-radius: 0.35em;\">\n",
       "    04/2004     \n",
       "    <span style=\"font-size: 0.8em; font-weight: bold; line-height: 1; border-radius: 0.35em; vertical-align: middle; margin-left: 0.5rem\">CARDINAL</span>\n",
       "</mark>\n",
       "\n",
       "<mark class=\"entity\" style=\"background: #ddd; padding: 0.45em 0.6em; margin: 0 0.25em; line-height: 1; border-radius: 0.35em;\">\n",
       "    Accounting\n",
       "    <span style=\"font-size: 0.8em; font-weight: bold; line-height: 1; border-radius: 0.35em; vertical-align: middle; margin-left: 0.5rem\">SKILL</span>\n",
       "</mark>\n",
       " Manager    Company Name   －   City  ,   State      Supervised \n",
       "<mark class=\"entity\" style=\"background: #e4e7d2; padding: 0.45em 0.6em; margin: 0 0.25em; line-height: 1; border-radius: 0.35em;\">\n",
       "    one\n",
       "    <span style=\"font-size: 0.8em; font-weight: bold; line-height: 1; border-radius: 0.35em; vertical-align: middle; margin-left: 0.5rem\">CARDINAL</span>\n",
       "</mark>\n",
       " staff accountant.  Responsible for the timely balancing of \n",
       "<mark class=\"entity\" style=\"background: #e4e7d2; padding: 0.45em 0.6em; margin: 0 0.25em; line-height: 1; border-radius: 0.35em;\">\n",
       "    two\n",
       "    <span style=\"font-size: 0.8em; font-weight: bold; line-height: 1; border-radius: 0.35em; vertical-align: middle; margin-left: 0.5rem\">CARDINAL</span>\n",
       "</mark>\n",
       " \n",
       "<mark class=\"entity\" style=\"background: #ddd; padding: 0.45em 0.6em; margin: 0 0.25em; line-height: 1; border-radius: 0.35em;\">\n",
       "    accounting\n",
       "    <span style=\"font-size: 0.8em; font-weight: bold; line-height: 1; border-radius: 0.35em; vertical-align: middle; margin-left: 0.5rem\">SKILL</span>\n",
       "</mark>\n",
       " systems.  Managed the reconciliation of all balance sheet accounts.  Processed and paid the \n",
       "<mark class=\"entity\" style=\"background: #bfe1d9; padding: 0.45em 0.6em; margin: 0 0.25em; line-height: 1; border-radius: 0.35em;\">\n",
       "    monthly\n",
       "    <span style=\"font-size: 0.8em; font-weight: bold; line-height: 1; border-radius: 0.35em; vertical-align: middle; margin-left: 0.5rem\">DATE</span>\n",
       "</mark>\n",
       " state, county and city tax returns.  Accountable for the accounts payable area.  Developed and maintained various \n",
       "<mark class=\"entity\" style=\"background: #bfeeb7; padding: 0.45em 0.6em; margin: 0 0.25em; line-height: 1; border-radius: 0.35em;\">\n",
       "    Excel\n",
       "    <span style=\"font-size: 0.8em; font-weight: bold; line-height: 1; border-radius: 0.35em; vertical-align: middle; margin-left: 0.5rem\">PRODUCT</span>\n",
       "</mark>\n",
       " spreadsheets.  Implemented and oversaw system enhancements.         02/1989   to   \n",
       "<mark class=\"entity\" style=\"background: #e4e7d2; padding: 0.45em 0.6em; margin: 0 0.25em; line-height: 1; border-radius: 0.35em;\">\n",
       "    04/2000\n",
       "    <span style=\"font-size: 0.8em; font-weight: bold; line-height: 1; border-radius: 0.35em; vertical-align: middle; margin-left: 0.5rem\">CARDINAL</span>\n",
       "</mark>\n",
       "     Accountant    Company Name   －   City  ,   State      Processed \n",
       "<mark class=\"entity\" style=\"background: #bfe1d9; padding: 0.45em 0.6em; margin: 0 0.25em; line-height: 1; border-radius: 0.35em;\">\n",
       "    monthly\n",
       "    <span style=\"font-size: 0.8em; font-weight: bold; line-height: 1; border-radius: 0.35em; vertical-align: middle; margin-left: 0.5rem\">DATE</span>\n",
       "</mark>\n",
       " financial statements.  Reconciled all balance sheet accounts.  Processed and paid \n",
       "<mark class=\"entity\" style=\"background: #bfe1d9; padding: 0.45em 0.6em; margin: 0 0.25em; line-height: 1; border-radius: 0.35em;\">\n",
       "    monthly\n",
       "    <span style=\"font-size: 0.8em; font-weight: bold; line-height: 1; border-radius: 0.35em; vertical-align: middle; margin-left: 0.5rem\">DATE</span>\n",
       "</mark>\n",
       " state, county and city tax returns.  Researched and responded to customer inquiries regarding \n",
       "<mark class=\"entity\" style=\"background: #bfe1d9; padding: 0.45em 0.6em; margin: 0 0.25em; line-height: 1; border-radius: 0.35em;\">\n",
       "    monthly\n",
       "    <span style=\"font-size: 0.8em; font-weight: bold; line-height: 1; border-radius: 0.35em; vertical-align: middle; margin-left: 0.5rem\">DATE</span>\n",
       "</mark>\n",
       " statements.  Implemented and tested \n",
       "<mark class=\"entity\" style=\"background: #ddd; padding: 0.45em 0.6em; margin: 0 0.25em; line-height: 1; border-radius: 0.35em;\">\n",
       "    accounting\n",
       "    <span style=\"font-size: 0.8em; font-weight: bold; line-height: 1; border-radius: 0.35em; vertical-align: middle; margin-left: 0.5rem\">SKILL</span>\n",
       "</mark>\n",
       " system conversion.          \n",
       "<mark class=\"entity\" style=\"background: #7aecec; padding: 0.45em 0.6em; margin: 0 0.25em; line-height: 1; border-radius: 0.35em;\">\n",
       "    Education\n",
       "    <span style=\"font-size: 0.8em; font-weight: bold; line-height: 1; border-radius: 0.35em; vertical-align: middle; margin-left: 0.5rem\">ORG</span>\n",
       "</mark>\n",
       " and Training          Associate of Applied Science      Normandale Community College   －   City  ,   \n",
       "<mark class=\"entity\" style=\"background: #7aecec; padding: 0.45em 0.6em; margin: 0 0.25em; line-height: 1; border-radius: 0.35em;\">\n",
       "    State\n",
       "    <span style=\"font-size: 0.8em; font-weight: bold; line-height: 1; border-radius: 0.35em; vertical-align: middle; margin-left: 0.5rem\">ORG</span>\n",
       "</mark>\n",
       "                Skills    accountant, \n",
       "<mark class=\"entity\" style=\"background: #ddd; padding: 0.45em 0.6em; margin: 0 0.25em; line-height: 1; border-radius: 0.35em;\">\n",
       "    accounting\n",
       "    <span style=\"font-size: 0.8em; font-weight: bold; line-height: 1; border-radius: 0.35em; vertical-align: middle; margin-left: 0.5rem\">SKILL</span>\n",
       "</mark>\n",
       " systems, \n",
       "<mark class=\"entity\" style=\"background: #ddd; padding: 0.45em 0.6em; margin: 0 0.25em; line-height: 1; border-radius: 0.35em;\">\n",
       "    accounting\n",
       "    <span style=\"font-size: 0.8em; font-weight: bold; line-height: 1; border-radius: 0.35em; vertical-align: middle; margin-left: 0.5rem\">SKILL</span>\n",
       "</mark>\n",
       " system, accounts payable, balance sheet, conversion, financial statements, \n",
       "<mark class=\"entity\" style=\"background: #bfeeb7; padding: 0.45em 0.6em; margin: 0 0.25em; line-height: 1; border-radius: 0.35em;\">\n",
       "    Excel\n",
       "    <span style=\"font-size: 0.8em; font-weight: bold; line-height: 1; border-radius: 0.35em; vertical-align: middle; margin-left: 0.5rem\">PRODUCT</span>\n",
       "</mark>\n",
       " spreadsheets, excel, \n",
       "<mark class=\"entity\" style=\"background: #7aecec; padding: 0.45em 0.6em; margin: 0 0.25em; line-height: 1; border-radius: 0.35em;\">\n",
       "    Microsoft Office\n",
       "    <span style=\"font-size: 0.8em; font-weight: bold; line-height: 1; border-radius: 0.35em; vertical-align: middle; margin-left: 0.5rem\">ORG</span>\n",
       "</mark>\n",
       ", Outlook, sales, tax returns, \n",
       "<mark class=\"entity\" style=\"background: #bfe1d9; padding: 0.45em 0.6em; margin: 0 0.25em; line-height: 1; border-radius: 0.35em;\">\n",
       "    year-end\n",
       "    <span style=\"font-size: 0.8em; font-weight: bold; line-height: 1; border-radius: 0.35em; vertical-align: middle; margin-left: 0.5rem\">DATE</span>\n",
       "</mark>\n",
       "   </div></span>"
      ],
      "text/plain": [
       "<IPython.core.display.HTML object>"
      ]
     },
     "metadata": {},
     "output_type": "display_data"
    }
   ],
   "source": [
    "sent = nlp(data[\"Resume_str\"].iloc[0])\n",
    "displacy.render(sent, style=\"ent\", jupyter=True)"
   ]
  },
  {
   "cell_type": "code",
   "execution_count": 16,
   "metadata": {},
   "outputs": [
    {
     "data": {
      "text/html": [
       "<span class=\"tex2jax_ignore\"><svg xmlns=\"http://www.w3.org/2000/svg\" xmlns:xlink=\"http://www.w3.org/1999/xlink\" xml:lang=\"en\" id=\"7c3019a9b2a54f3ea390b58e13e504dd-0\" class=\"displacy\" width=\"950\" height=\"272.0\" direction=\"ltr\" style=\"max-width: none; height: 272.0px; color: #000000; background: #ffffff; font-family: Arial; direction: ltr\">\n",
       "<text class=\"displacy-token\" fill=\"currentColor\" text-anchor=\"middle\" y=\"182.0\">\n",
       "    <tspan class=\"displacy-word\" fill=\"currentColor\" x=\"50\">         </tspan>\n",
       "    <tspan class=\"displacy-tag\" dy=\"2em\" fill=\"currentColor\" x=\"50\">SPACE</tspan>\n",
       "</text>\n",
       "\n",
       "<text class=\"displacy-token\" fill=\"currentColor\" text-anchor=\"middle\" y=\"182.0\">\n",
       "    <tspan class=\"displacy-word\" fill=\"currentColor\" x=\"140\">ACCOUNTANT</tspan>\n",
       "    <tspan class=\"displacy-tag\" dy=\"2em\" fill=\"currentColor\" x=\"140\">PROPN</tspan>\n",
       "</text>\n",
       "\n",
       "<text class=\"displacy-token\" fill=\"currentColor\" text-anchor=\"middle\" y=\"182.0\">\n",
       "    <tspan class=\"displacy-word\" fill=\"currentColor\" x=\"230\">      </tspan>\n",
       "    <tspan class=\"displacy-tag\" dy=\"2em\" fill=\"currentColor\" x=\"230\">SPACE</tspan>\n",
       "</text>\n",
       "\n",
       "<text class=\"displacy-token\" fill=\"currentColor\" text-anchor=\"middle\" y=\"182.0\">\n",
       "    <tspan class=\"displacy-word\" fill=\"currentColor\" x=\"320\">Summary</tspan>\n",
       "    <tspan class=\"displacy-tag\" dy=\"2em\" fill=\"currentColor\" x=\"320\">PROPN</tspan>\n",
       "</text>\n",
       "\n",
       "<text class=\"displacy-token\" fill=\"currentColor\" text-anchor=\"middle\" y=\"182.0\">\n",
       "    <tspan class=\"displacy-word\" fill=\"currentColor\" x=\"410\">   </tspan>\n",
       "    <tspan class=\"displacy-tag\" dy=\"2em\" fill=\"currentColor\" x=\"410\">SPACE</tspan>\n",
       "</text>\n",
       "\n",
       "<text class=\"displacy-token\" fill=\"currentColor\" text-anchor=\"middle\" y=\"182.0\">\n",
       "    <tspan class=\"displacy-word\" fill=\"currentColor\" x=\"500\">Experienced</tspan>\n",
       "    <tspan class=\"displacy-tag\" dy=\"2em\" fill=\"currentColor\" x=\"500\">ADJ</tspan>\n",
       "</text>\n",
       "\n",
       "<text class=\"displacy-token\" fill=\"currentColor\" text-anchor=\"middle\" y=\"182.0\">\n",
       "    <tspan class=\"displacy-word\" fill=\"currentColor\" x=\"590\">accounting</tspan>\n",
       "    <tspan class=\"displacy-tag\" dy=\"2em\" fill=\"currentColor\" x=\"590\">VERB</tspan>\n",
       "</text>\n",
       "\n",
       "<text class=\"displacy-token\" fill=\"currentColor\" text-anchor=\"middle\" y=\"182.0\">\n",
       "    <tspan class=\"displacy-word\" fill=\"currentColor\" x=\"680\">professional</tspan>\n",
       "    <tspan class=\"displacy-tag\" dy=\"2em\" fill=\"currentColor\" x=\"680\">ADJ</tspan>\n",
       "</text>\n",
       "\n",
       "<text class=\"displacy-token\" fill=\"currentColor\" text-anchor=\"middle\" y=\"182.0\">\n",
       "    <tspan class=\"displacy-word\" fill=\"currentColor\" x=\"770\">with</tspan>\n",
       "    <tspan class=\"displacy-tag\" dy=\"2em\" fill=\"currentColor\" x=\"770\">ADP</tspan>\n",
       "</text>\n",
       "\n",
       "<text class=\"displacy-token\" fill=\"currentColor\" text-anchor=\"middle\" y=\"182.0\">\n",
       "    <tspan class=\"displacy-word\" fill=\"currentColor\" x=\"860\">proficient</tspan>\n",
       "    <tspan class=\"displacy-tag\" dy=\"2em\" fill=\"currentColor\" x=\"860\">ADJ</tspan>\n",
       "</text>\n",
       "\n",
       "<g class=\"displacy-arrow\">\n",
       "    <path class=\"displacy-arc\" id=\"arrow-7c3019a9b2a54f3ea390b58e13e504dd-0-0\" stroke-width=\"2px\" d=\"M70,137.0 C70,92.0 130.0,92.0 130.0,137.0\" fill=\"none\" stroke=\"currentColor\"/>\n",
       "    <text dy=\"1.25em\" style=\"font-size: 0.8em; letter-spacing: 1px\">\n",
       "        <textPath xlink:href=\"#arrow-7c3019a9b2a54f3ea390b58e13e504dd-0-0\" class=\"displacy-label\" startOffset=\"50%\" side=\"left\" fill=\"currentColor\" text-anchor=\"middle\">dep</textPath>\n",
       "    </text>\n",
       "    <path class=\"displacy-arrowhead\" d=\"M70,139.0 L62,127.0 78,127.0\" fill=\"currentColor\"/>\n",
       "</g>\n",
       "\n",
       "<g class=\"displacy-arrow\">\n",
       "    <path class=\"displacy-arc\" id=\"arrow-7c3019a9b2a54f3ea390b58e13e504dd-0-1\" stroke-width=\"2px\" d=\"M160,137.0 C160,92.0 220.0,92.0 220.0,137.0\" fill=\"none\" stroke=\"currentColor\"/>\n",
       "    <text dy=\"1.25em\" style=\"font-size: 0.8em; letter-spacing: 1px\">\n",
       "        <textPath xlink:href=\"#arrow-7c3019a9b2a54f3ea390b58e13e504dd-0-1\" class=\"displacy-label\" startOffset=\"50%\" side=\"left\" fill=\"currentColor\" text-anchor=\"middle\">dep</textPath>\n",
       "    </text>\n",
       "    <path class=\"displacy-arrowhead\" d=\"M220.0,139.0 L228.0,127.0 212.0,127.0\" fill=\"currentColor\"/>\n",
       "</g>\n",
       "\n",
       "<g class=\"displacy-arrow\">\n",
       "    <path class=\"displacy-arc\" id=\"arrow-7c3019a9b2a54f3ea390b58e13e504dd-0-2\" stroke-width=\"2px\" d=\"M160,137.0 C160,47.0 315.0,47.0 315.0,137.0\" fill=\"none\" stroke=\"currentColor\"/>\n",
       "    <text dy=\"1.25em\" style=\"font-size: 0.8em; letter-spacing: 1px\">\n",
       "        <textPath xlink:href=\"#arrow-7c3019a9b2a54f3ea390b58e13e504dd-0-2\" class=\"displacy-label\" startOffset=\"50%\" side=\"left\" fill=\"currentColor\" text-anchor=\"middle\">appos</textPath>\n",
       "    </text>\n",
       "    <path class=\"displacy-arrowhead\" d=\"M315.0,139.0 L323.0,127.0 307.0,127.0\" fill=\"currentColor\"/>\n",
       "</g>\n",
       "\n",
       "<g class=\"displacy-arrow\">\n",
       "    <path class=\"displacy-arc\" id=\"arrow-7c3019a9b2a54f3ea390b58e13e504dd-0-3\" stroke-width=\"2px\" d=\"M340,137.0 C340,92.0 400.0,92.0 400.0,137.0\" fill=\"none\" stroke=\"currentColor\"/>\n",
       "    <text dy=\"1.25em\" style=\"font-size: 0.8em; letter-spacing: 1px\">\n",
       "        <textPath xlink:href=\"#arrow-7c3019a9b2a54f3ea390b58e13e504dd-0-3\" class=\"displacy-label\" startOffset=\"50%\" side=\"left\" fill=\"currentColor\" text-anchor=\"middle\">dep</textPath>\n",
       "    </text>\n",
       "    <path class=\"displacy-arrowhead\" d=\"M400.0,139.0 L408.0,127.0 392.0,127.0\" fill=\"currentColor\"/>\n",
       "</g>\n",
       "\n",
       "<g class=\"displacy-arrow\">\n",
       "    <path class=\"displacy-arc\" id=\"arrow-7c3019a9b2a54f3ea390b58e13e504dd-0-4\" stroke-width=\"2px\" d=\"M520,137.0 C520,47.0 675.0,47.0 675.0,137.0\" fill=\"none\" stroke=\"currentColor\"/>\n",
       "    <text dy=\"1.25em\" style=\"font-size: 0.8em; letter-spacing: 1px\">\n",
       "        <textPath xlink:href=\"#arrow-7c3019a9b2a54f3ea390b58e13e504dd-0-4\" class=\"displacy-label\" startOffset=\"50%\" side=\"left\" fill=\"currentColor\" text-anchor=\"middle\">amod</textPath>\n",
       "    </text>\n",
       "    <path class=\"displacy-arrowhead\" d=\"M520,139.0 L512,127.0 528,127.0\" fill=\"currentColor\"/>\n",
       "</g>\n",
       "\n",
       "<g class=\"displacy-arrow\">\n",
       "    <path class=\"displacy-arc\" id=\"arrow-7c3019a9b2a54f3ea390b58e13e504dd-0-5\" stroke-width=\"2px\" d=\"M610,137.0 C610,92.0 670.0,92.0 670.0,137.0\" fill=\"none\" stroke=\"currentColor\"/>\n",
       "    <text dy=\"1.25em\" style=\"font-size: 0.8em; letter-spacing: 1px\">\n",
       "        <textPath xlink:href=\"#arrow-7c3019a9b2a54f3ea390b58e13e504dd-0-5\" class=\"displacy-label\" startOffset=\"50%\" side=\"left\" fill=\"currentColor\" text-anchor=\"middle\">amod</textPath>\n",
       "    </text>\n",
       "    <path class=\"displacy-arrowhead\" d=\"M610,139.0 L602,127.0 618,127.0\" fill=\"currentColor\"/>\n",
       "</g>\n",
       "\n",
       "<g class=\"displacy-arrow\">\n",
       "    <path class=\"displacy-arc\" id=\"arrow-7c3019a9b2a54f3ea390b58e13e504dd-0-6\" stroke-width=\"2px\" d=\"M160,137.0 C160,2.0 680.0,2.0 680.0,137.0\" fill=\"none\" stroke=\"currentColor\"/>\n",
       "    <text dy=\"1.25em\" style=\"font-size: 0.8em; letter-spacing: 1px\">\n",
       "        <textPath xlink:href=\"#arrow-7c3019a9b2a54f3ea390b58e13e504dd-0-6\" class=\"displacy-label\" startOffset=\"50%\" side=\"left\" fill=\"currentColor\" text-anchor=\"middle\">amod</textPath>\n",
       "    </text>\n",
       "    <path class=\"displacy-arrowhead\" d=\"M680.0,139.0 L688.0,127.0 672.0,127.0\" fill=\"currentColor\"/>\n",
       "</g>\n",
       "\n",
       "<g class=\"displacy-arrow\">\n",
       "    <path class=\"displacy-arc\" id=\"arrow-7c3019a9b2a54f3ea390b58e13e504dd-0-7\" stroke-width=\"2px\" d=\"M700,137.0 C700,92.0 760.0,92.0 760.0,137.0\" fill=\"none\" stroke=\"currentColor\"/>\n",
       "    <text dy=\"1.25em\" style=\"font-size: 0.8em; letter-spacing: 1px\">\n",
       "        <textPath xlink:href=\"#arrow-7c3019a9b2a54f3ea390b58e13e504dd-0-7\" class=\"displacy-label\" startOffset=\"50%\" side=\"left\" fill=\"currentColor\" text-anchor=\"middle\">prep</textPath>\n",
       "    </text>\n",
       "    <path class=\"displacy-arrowhead\" d=\"M760.0,139.0 L768.0,127.0 752.0,127.0\" fill=\"currentColor\"/>\n",
       "</g>\n",
       "\n",
       "<g class=\"displacy-arrow\">\n",
       "    <path class=\"displacy-arc\" id=\"arrow-7c3019a9b2a54f3ea390b58e13e504dd-0-8\" stroke-width=\"2px\" d=\"M790,137.0 C790,92.0 850.0,92.0 850.0,137.0\" fill=\"none\" stroke=\"currentColor\"/>\n",
       "    <text dy=\"1.25em\" style=\"font-size: 0.8em; letter-spacing: 1px\">\n",
       "        <textPath xlink:href=\"#arrow-7c3019a9b2a54f3ea390b58e13e504dd-0-8\" class=\"displacy-label\" startOffset=\"50%\" side=\"left\" fill=\"currentColor\" text-anchor=\"middle\">amod</textPath>\n",
       "    </text>\n",
       "    <path class=\"displacy-arrowhead\" d=\"M850.0,139.0 L858.0,127.0 842.0,127.0\" fill=\"currentColor\"/>\n",
       "</g>\n",
       "</svg></span>"
      ],
      "text/plain": [
       "<IPython.core.display.HTML object>"
      ]
     },
     "metadata": {},
     "output_type": "display_data"
    }
   ],
   "source": [
    "displacy.render(sent[0:10], style=\"dep\", jupyter=True, options={\"distance\": 90})"
   ]
  },
  {
   "cell_type": "code",
   "execution_count": 17,
   "metadata": {},
   "outputs": [],
   "source": [
    "patterns = df.Category.unique()\n",
    "for a in patterns:\n",
    "    ruler.add_patterns([{\"label\": \"Job-Category\", \"pattern\": a}])"
   ]
  },
  {
   "cell_type": "code",
   "execution_count": 18,
   "metadata": {},
   "outputs": [
    {
     "data": {
      "text/html": [
       "<span class=\"tex2jax_ignore\"><div class=\"entities\" style=\"line-height: 2.5; direction: ltr\">         QUALITY CONTROL INSPECTOR       Summary    Southeast Region Veterans Preference:        10 \n",
       "<mark class=\"entity\" style=\"background: #ffd966; padding: 0.45em 0.6em; margin: 0 0.25em; line-height: 1; border-radius: 0.35em;\">\n",
       "    Point Preference\n",
       "    <span style=\"font-size: 0.8em; font-weight: bold; line-height: 1; border-radius: 0.35em; vertical-align: middle; margin-left: 0.5rem\">ORG</span>\n",
       "</mark>\n",
       " based on disability from military service Availability:          Full Time, Permanent Profile: Highly qualified aerospace inspector with over \n",
       "<mark class=\"entity\" style=\"background: #c27ba0; padding: 0.45em 0.6em; margin: 0 0.25em; line-height: 1; border-radius: 0.35em;\">\n",
       "    18 years\n",
       "    <span style=\"font-size: 0.8em; font-weight: bold; line-height: 1; border-radius: 0.35em; vertical-align: middle; margin-left: 0.5rem\">DATE</span>\n",
       "</mark>\n",
       " of rotary and fixed wing aircraft maintenance, inspection, and modification experience on military and commercial aircraft During my civilian aerospace experience, I have prepared and retained records, \n",
       "<mark class=\"entity\" style=\"background: linear-gradient(90deg, #9BE15D, #00E3AE); padding: 0.45em 0.6em; margin: 0 0.25em; line-height: 1; border-radius: 0.35em;\">\n",
       "    documentation\n",
       "    <span style=\"font-size: 0.8em; font-weight: bold; line-height: 1; border-radius: 0.35em; vertical-align: middle; margin-left: 0.5rem\">SKILL</span>\n",
       "</mark>\n",
       ", and reports required by customer contract and/or instruction. Tasked to review and verify technical data to customer requirements and correct data when nonconforming. In my military career, I am required to work independently repairing and/or manufacturing components for military aircraft. I interpret blueprints and \n",
       "<mark class=\"entity\" style=\"background: linear-gradient(90deg, #9BE15D, #00E3AE); padding: 0.45em 0.6em; margin: 0 0.25em; line-height: 1; border-radius: 0.35em;\">\n",
       "    engineering\n",
       "    <span style=\"font-size: 0.8em; font-weight: bold; line-height: 1; border-radius: 0.35em; vertical-align: middle; margin-left: 0.5rem\">SKILL</span>\n",
       "</mark>\n",
       " drawings and then initiate processes or work instructions to manufacture specific components. After initial setup, I audit and qualify technical data using aerospace quality assurance principles before production is performed.       Experience      Quality Control Inspector   10/2011   －   Current     Company Name     City  ,   State       Supervisor: \n",
       "<mark class=\"entity\" style=\"background: #e06666; padding: 0.45em 0.6em; margin: 0 0.25em; line-height: 1; border-radius: 0.35em;\">\n",
       "    Hunter Reed\n",
       "    <span style=\"font-size: 0.8em; font-weight: bold; line-height: 1; border-radius: 0.35em; vertical-align: middle; margin-left: 0.5rem\">PERSON</span>\n",
       "</mark>\n",
       " (912)-414-1558 Completes classroom and on-the-job training to acquire, exercise, and maintain knowledge of the duties required to perform all inspection task ranging from \n",
       "<mark class=\"entity\" style=\"background: #674ea7; padding: 0.45em 0.6em; margin: 0 0.25em; line-height: 1; border-radius: 0.35em;\">\n",
       "    First\n",
       "    <span style=\"font-size: 0.8em; font-weight: bold; line-height: 1; border-radius: 0.35em; vertical-align: middle; margin-left: 0.5rem\">ORDINAL</span>\n",
       "</mark>\n",
       " Article inspections to process inspections.  Reviewing written quality or inspection procedures for adequacy and evaluating the implementation and effectiveness of quality/inspection systems, including work plans.  Reviewing production activities and capabilities considering contract quality requirements.  Analyzing quality data to detect unsatisfactory trends or weaknesses in the quality/inspection system.  Reading, interpreting, and applying technical data such as blueprints, \n",
       "<mark class=\"entity\" style=\"background: linear-gradient(90deg, #9BE15D, #00E3AE); padding: 0.45em 0.6em; margin: 0 0.25em; line-height: 1; border-radius: 0.35em;\">\n",
       "    engineering\n",
       "    <span style=\"font-size: 0.8em; font-weight: bold; line-height: 1; border-radius: 0.35em; vertical-align: middle; margin-left: 0.5rem\">SKILL</span>\n",
       "</mark>\n",
       " drawings, product specifications, or technical manuals to ensure overall customer satisfaction is being adhered \n",
       "<mark class=\"entity\" style=\"background: #f9cb9c; padding: 0.45em 0.6em; margin: 0 0.25em; line-height: 1; border-radius: 0.35em;\">\n",
       "    Verifying\n",
       "    <span style=\"font-size: 0.8em; font-weight: bold; line-height: 1; border-radius: 0.35em; vertical-align: middle; margin-left: 0.5rem\">PRODUCT</span>\n",
       "</mark>\n",
       " by test or inspection, using sampling inspection or intensive product inspection techniques, that products comply with requirements prior to acceptance.          \n",
       "<mark class=\"entity\" style=\"background: #ffd966; padding: 0.45em 0.6em; margin: 0 0.25em; line-height: 1; border-radius: 0.35em;\">\n",
       "    Aviation Structural Mechanic\n",
       "    <span style=\"font-size: 0.8em; font-weight: bold; line-height: 1; border-radius: 0.35em; vertical-align: middle; margin-left: 0.5rem\">ORG</span>\n",
       "</mark>\n",
       "   08/2009   －   05/2011     Company Name     City  ,   State       Supervisor: \n",
       "<mark class=\"entity\" style=\"background: #e06666; padding: 0.45em 0.6em; margin: 0 0.25em; line-height: 1; border-radius: 0.35em;\">\n",
       "    John Sherman\n",
       "    <span style=\"font-size: 0.8em; font-weight: bold; line-height: 1; border-radius: 0.35em; vertical-align: middle; margin-left: 0.5rem\">PERSON</span>\n",
       "</mark>\n",
       " (912) 661-6824 Performs acceptance inspection on all inbound aircraft to assess the total damage before beginning overall Reset.  Orders necessary components to complete \n",
       "<mark class=\"entity\" style=\"background: #ffd966; padding: 0.45em 0.6em; margin: 0 0.25em; line-height: 1; border-radius: 0.35em;\">\n",
       "    Aircraft\n",
       "    <span style=\"font-size: 0.8em; font-weight: bold; line-height: 1; border-radius: 0.35em; vertical-align: middle; margin-left: 0.5rem\">ORG</span>\n",
       "</mark>\n",
       " reset Prioritized \n",
       "<mark class=\"entity\" style=\"background: linear-gradient(90deg, #9BE15D, #00E3AE); padding: 0.45em 0.6em; margin: 0 0.25em; line-height: 1; border-radius: 0.35em;\">\n",
       "    workload\n",
       "    <span style=\"font-size: 0.8em; font-weight: bold; line-height: 1; border-radius: 0.35em; vertical-align: middle; margin-left: 0.5rem\">SKILL</span>\n",
       "</mark>\n",
       " and preliminary mechanical inspection of critical flight controls.  \n",
       "<mark class=\"entity\" style=\"background: #ffd966; padding: 0.45em 0.6em; margin: 0 0.25em; line-height: 1; border-radius: 0.35em;\">\n",
       "    Fabricated\n",
       "    <span style=\"font-size: 0.8em; font-weight: bold; line-height: 1; border-radius: 0.35em; vertical-align: middle; margin-left: 0.5rem\">ORG</span>\n",
       "</mark>\n",
       ", processed, and installed aircraft critical components that were damaged from hostile flight operations.  Assisted electrical runs and ring outs to ensure the turnaround time was achieved.          \n",
       "<mark class=\"entity\" style=\"background: #ffd966; padding: 0.45em 0.6em; margin: 0 0.25em; line-height: 1; border-radius: 0.35em;\">\n",
       "    Aviation Structural Mechanic\n",
       "    <span style=\"font-size: 0.8em; font-weight: bold; line-height: 1; border-radius: 0.35em; vertical-align: middle; margin-left: 0.5rem\">ORG</span>\n",
       "</mark>\n",
       "   \n",
       "<mark class=\"entity\" style=\"background: #c27ba0; padding: 0.45em 0.6em; margin: 0 0.25em; line-height: 1; border-radius: 0.35em;\">\n",
       "    11/2007\n",
       "    <span style=\"font-size: 0.8em; font-weight: bold; line-height: 1; border-radius: 0.35em; vertical-align: middle; margin-left: 0.5rem\">DATE</span>\n",
       "</mark>\n",
       "   －   08/2009     Company Name     City  ,   State       Supervisor: \n",
       "<mark class=\"entity\" style=\"background: #e06666; padding: 0.45em 0.6em; margin: 0 0.25em; line-height: 1; border-radius: 0.35em;\">\n",
       "    Robert Macks\n",
       "    <span style=\"font-size: 0.8em; font-weight: bold; line-height: 1; border-radius: 0.35em; vertical-align: middle; margin-left: 0.5rem\">PERSON</span>\n",
       "</mark>\n",
       " (615) 946-4685 Qualified to perform various inspections on a periodic basis to include Phase, hydraulic, landing gear and flight control inspections.  Implements risk management techniques while performing quality maintenance and inspections on \n",
       "<mark class=\"entity\" style=\"background: #f9cb9c; padding: 0.45em 0.6em; margin: 0 0.25em; line-height: 1; border-radius: 0.35em;\">\n",
       "    the F/A-18\n",
       "    <span style=\"font-size: 0.8em; font-weight: bold; line-height: 1; border-radius: 0.35em; vertical-align: middle; margin-left: 0.5rem\">PRODUCT</span>\n",
       "</mark>\n",
       " aircraft.  Trains and supervises personnel at all experience and skill levels to ensure a cohesive working team.  Continuously reviews and interprets blueprints and technical drawings to gather customer requirements needed for manufacturing.  Utilize technical manuals/directives to enable proper work instructions while performing aircraft phase maintenance.          \n",
       "<mark class=\"entity\" style=\"background: #ffd966; padding: 0.45em 0.6em; margin: 0 0.25em; line-height: 1; border-radius: 0.35em;\">\n",
       "    Aviation Structural Mechanic / Grade E-5\n",
       "    <span style=\"font-size: 0.8em; font-weight: bold; line-height: 1; border-radius: 0.35em; vertical-align: middle; margin-left: 0.5rem\">ORG</span>\n",
       "</mark>\n",
       "   \n",
       "<mark class=\"entity\" style=\"background: #c27ba0; padding: 0.45em 0.6em; margin: 0 0.25em; line-height: 1; border-radius: 0.35em;\">\n",
       "    10/1999\n",
       "    <span style=\"font-size: 0.8em; font-weight: bold; line-height: 1; border-radius: 0.35em; vertical-align: middle; margin-left: 0.5rem\">DATE</span>\n",
       "</mark>\n",
       "   －   \n",
       "<mark class=\"entity\" style=\"background: #c27ba0; padding: 0.45em 0.6em; margin: 0 0.25em; line-height: 1; border-radius: 0.35em;\">\n",
       "    10/2007\n",
       "    <span style=\"font-size: 0.8em; font-weight: bold; line-height: 1; border-radius: 0.35em; vertical-align: middle; margin-left: 0.5rem\">DATE</span>\n",
       "</mark>\n",
       "     Company Name     City  ,   State       \n",
       "<mark class=\"entity\" style=\"background: #c27ba0; padding: 0.45em 0.6em; margin: 0 0.25em; line-height: 1; border-radius: 0.35em;\">\n",
       "    Eight years\n",
       "    <span style=\"font-size: 0.8em; font-weight: bold; line-height: 1; border-radius: 0.35em; vertical-align: middle; margin-left: 0.5rem\">DATE</span>\n",
       "</mark>\n",
       " of active duty service in the \n",
       "<mark class=\"entity\" style=\"background: #ffd966; padding: 0.45em 0.6em; margin: 0 0.25em; line-height: 1; border-radius: 0.35em;\">\n",
       "    Navy\n",
       "    <span style=\"font-size: 0.8em; font-weight: bold; line-height: 1; border-radius: 0.35em; vertical-align: middle; margin-left: 0.5rem\">ORG</span>\n",
       "</mark>\n",
       " (Honorable Discharge) Installed/replaced pneumatic actuators and servos, landing gear and flight controls on \n",
       "<mark class=\"entity\" style=\"background: #f9cb9c; padding: 0.45em 0.6em; margin: 0 0.25em; line-height: 1; border-radius: 0.35em;\">\n",
       "    the F/A-18\n",
       "    <span style=\"font-size: 0.8em; font-weight: bold; line-height: 1; border-radius: 0.35em; vertical-align: middle; margin-left: 0.5rem\">PRODUCT</span>\n",
       "</mark>\n",
       " hornet.  On board \n",
       "<mark class=\"entity\" style=\"background: #f9cb9c; padding: 0.45em 0.6em; margin: 0 0.25em; line-height: 1; border-radius: 0.35em;\">\n",
       "    the USS Nimitz CVN-68 Aircraft Carrier\n",
       "    <span style=\"font-size: 0.8em; font-weight: bold; line-height: 1; border-radius: 0.35em; vertical-align: middle; margin-left: 0.5rem\">PRODUCT</span>\n",
       "</mark>\n",
       " for a \n",
       "<mark class=\"entity\" style=\"background: #c27ba0; padding: 0.45em 0.6em; margin: 0 0.25em; line-height: 1; border-radius: 0.35em;\">\n",
       "    six-month\n",
       "    <span style=\"font-size: 0.8em; font-weight: bold; line-height: 1; border-radius: 0.35em; vertical-align: middle; margin-left: 0.5rem\">DATE</span>\n",
       "</mark>\n",
       " \n",
       "<mark class=\"entity\" style=\"background: linear-gradient(90deg, #9BE15D, #00E3AE); padding: 0.45em 0.6em; margin: 0 0.25em; line-height: 1; border-radius: 0.35em;\">\n",
       "    deployment\n",
       "    <span style=\"font-size: 0.8em; font-weight: bold; line-height: 1; border-radius: 0.35em; vertical-align: middle; margin-left: 0.5rem\">SKILL</span>\n",
       "</mark>\n",
       " during Operation Iraqi Freedom.  Collateral Duty Inspector inspecting \n",
       "<mark class=\"entity\" style=\"background: #c27ba0; padding: 0.45em 0.6em; margin: 0 0.25em; line-height: 1; border-radius: 0.35em;\">\n",
       "    14-day\n",
       "    <span style=\"font-size: 0.8em; font-weight: bold; line-height: 1; border-radius: 0.35em; vertical-align: middle; margin-left: 0.5rem\">DATE</span>\n",
       "</mark>\n",
       ", \n",
       "<mark class=\"entity\" style=\"background: #c27ba0; padding: 0.45em 0.6em; margin: 0 0.25em; line-height: 1; border-radius: 0.35em;\">\n",
       "    28-day\n",
       "    <span style=\"font-size: 0.8em; font-weight: bold; line-height: 1; border-radius: 0.35em; vertical-align: middle; margin-left: 0.5rem\">DATE</span>\n",
       "</mark>\n",
       ", \n",
       "<mark class=\"entity\" style=\"background: #c27ba0; padding: 0.45em 0.6em; margin: 0 0.25em; line-height: 1; border-radius: 0.35em;\">\n",
       "    daily\n",
       "    <span style=\"font-size: 0.8em; font-weight: bold; line-height: 1; border-radius: 0.35em; vertical-align: middle; margin-left: 0.5rem\">DATE</span>\n",
       "</mark>\n",
       ", and turnaround inspections ensuring aircraft airworthiness prior to flight.          \n",
       "<mark class=\"entity\" style=\"background: #ffd966; padding: 0.45em 0.6em; margin: 0 0.25em; line-height: 1; border-radius: 0.35em;\">\n",
       "    Education\n",
       "    <span style=\"font-size: 0.8em; font-weight: bold; line-height: 1; border-radius: 0.35em; vertical-align: middle; margin-left: 0.5rem\">ORG</span>\n",
       "</mark>\n",
       " and Training          B.S  :  \n",
       "<mark class=\"entity\" style=\"background: #ffd966; padding: 0.45em 0.6em; margin: 0 0.25em; line-height: 1; border-radius: 0.35em;\">\n",
       "    Riddle Aeronautical University\n",
       "    <span style=\"font-size: 0.8em; font-weight: bold; line-height: 1; border-radius: 0.35em; vertical-align: middle; margin-left: 0.5rem\">ORG</span>\n",
       "</mark>\n",
       "   -   \n",
       "<mark class=\"entity\" style=\"background: #ffd966; padding: 0.45em 0.6em; margin: 0 0.25em; line-height: 1; border-radius: 0.35em;\">\n",
       "    Professional Aeronautics\n",
       "    <span style=\"font-size: 0.8em; font-weight: bold; line-height: 1; border-radius: 0.35em; vertical-align: middle; margin-left: 0.5rem\">ORG</span>\n",
       "</mark>\n",
       "            70% complete \n",
       "<mark class=\"entity\" style=\"background: #ffd966; padding: 0.45em 0.6em; margin: 0 0.25em; line-height: 1; border-radius: 0.35em;\">\n",
       "    Professional Aeronautics\n",
       "    <span style=\"font-size: 0.8em; font-weight: bold; line-height: 1; border-radius: 0.35em; vertical-align: middle; margin-left: 0.5rem\">ORG</span>\n",
       "</mark>\n",
       "            U.S. Navy Aviation F/A-18 Hydraulic/Structural Repair School\r<br>*U.S Navy Aircraft Paint Touch Up and Markings\r<br>*Catia V  :                        Skills    blueprints, \n",
       "<mark class=\"entity\" style=\"background: #ffd966; padding: 0.45em 0.6em; margin: 0 0.25em; line-height: 1; border-radius: 0.35em;\">\n",
       "    Catia V\n",
       "    <span style=\"font-size: 0.8em; font-weight: bold; line-height: 1; border-radius: 0.35em; vertical-align: middle; margin-left: 0.5rem\">ORG</span>\n",
       "</mark>\n",
       ", inspecting, inspection, Inspector, risk management, technical manuals     </div></span>"
      ],
      "text/plain": [
       "<IPython.core.display.HTML object>"
      ]
     },
     "metadata": {},
     "output_type": "display_data"
    }
   ],
   "source": [
    "colors = {\n",
    "    \"Job-Category\": \"linear-gradient(90deg, #aa9cfc, #fc9ce7)\",\n",
    "    \"SKILL\": \"linear-gradient(90deg, #9BE15D, #00E3AE)\",\n",
    "    \"ORG\": \"#ffd966\",\n",
    "    \"PERSON\": \"#e06666\",\n",
    "    \"GPE\": \"#9fc5e8\",\n",
    "    \"DATE\": \"#c27ba0\",\n",
    "    \"ORDINAL\": \"#674ea7\",\n",
    "    \"PRODUCT\": \"#f9cb9c\",\n",
    "}\n",
    "options = {\n",
    "    \"ents\": [\n",
    "        \"Job-Category\",\n",
    "        \"SKILL\",\n",
    "        \"ORG\",\n",
    "        \"PERSON\",\n",
    "        \"GPE\",\n",
    "        \"DATE\",\n",
    "        \"ORDINAL\",\n",
    "        \"PRODUCT\",\n",
    "    ],\n",
    "    \"colors\": colors,\n",
    "}\n",
    "sent = nlp(data[\"Resume_str\"].iloc[5])\n",
    "displacy.render(sent, style=\"ent\", jupyter=True, options=options)"
   ]
  },
  {
   "cell_type": "code",
   "execution_count": 19,
   "metadata": {},
   "outputs": [
    {
     "data": {
      "text/html": [
       "<span class=\"tex2jax_ignore\"><div class=\"entities\" style=\"line-height: 2.5; direction: ltr\">\n",
       "<mark class=\"entity\" style=\"background: #e06666; padding: 0.45em 0.6em; margin: 0 0.25em; line-height: 1; border-radius: 0.35em;\">\n",
       "    Harshvardhan Sharma\n",
       "    <span style=\"font-size: 0.8em; font-weight: bold; line-height: 1; border-radius: 0.35em; vertical-align: middle; margin-left: 0.5rem\">PERSON</span>\n",
       "</mark>\n",
       "  +91 7067133966 # \n",
       "<mark class=\"entity\" style=\"background: #e06666; padding: 0.45em 0.6em; margin: 0 0.25em; line-height: 1; border-radius: 0.35em;\">\n",
       "    hvsharma2164@gmail.com /in\n",
       "    <span style=\"font-size: 0.8em; font-weight: bold; line-height: 1; border-radius: 0.35em; vertical-align: middle; margin-left: 0.5rem\">PERSON</span>\n",
       "</mark>\n",
       "/HarshvardhanSharma github.com/Harshvardhan2164 Summary I am on a quest to evolve into a successful data and \n",
       "<mark class=\"entity\" style=\"background: linear-gradient(90deg, #9BE15D, #00E3AE); padding: 0.45em 0.6em; margin: 0 0.25em; line-height: 1; border-radius: 0.35em;\">\n",
       "    business\n",
       "    <span style=\"font-size: 0.8em; font-weight: bold; line-height: 1; border-radius: 0.35em; vertical-align: middle; margin-left: 0.5rem\">SKILL</span>\n",
       "</mark>\n",
       " analyst—a maestro of insights and predictions. My ambition is to harness the power of data, unleashing its potential to propel businesses to new summits. Education Dr. \n",
       "<mark class=\"entity\" style=\"background: #ffd966; padding: 0.45em 0.6em; margin: 0 0.25em; line-height: 1; border-radius: 0.35em;\">\n",
       "    SPM International Institute of Information Technology\n",
       "    <span style=\"font-size: 0.8em; font-weight: bold; line-height: 1; border-radius: 0.35em; vertical-align: middle; margin-left: 0.5rem\">ORG</span>\n",
       "</mark>\n",
       " \n",
       "<mark class=\"entity\" style=\"background: #e06666; padding: 0.45em 0.6em; margin: 0 0.25em; line-height: 1; border-radius: 0.35em;\">\n",
       "    Naya Raipur\n",
       "    <span style=\"font-size: 0.8em; font-weight: bold; line-height: 1; border-radius: 0.35em; vertical-align: middle; margin-left: 0.5rem\">PERSON</span>\n",
       "</mark>\n",
       " \n",
       "<mark class=\"entity\" style=\"background: #c27ba0; padding: 0.45em 0.6em; margin: 0 0.25em; line-height: 1; border-radius: 0.35em;\">\n",
       "    Nov 2022\n",
       "    <span style=\"font-size: 0.8em; font-weight: bold; line-height: 1; border-radius: 0.35em; vertical-align: middle; margin-left: 0.5rem\">DATE</span>\n",
       "</mark>\n",
       " – Present \n",
       "<mark class=\"entity\" style=\"background: #ffd966; padding: 0.45em 0.6em; margin: 0 0.25em; line-height: 1; border-radius: 0.35em;\">\n",
       "    Bachelor of Technology\n",
       "    <span style=\"font-size: 0.8em; font-weight: bold; line-height: 1; border-radius: 0.35em; vertical-align: middle; margin-left: 0.5rem\">ORG</span>\n",
       "</mark>\n",
       ", \n",
       "<mark class=\"entity\" style=\"background: #ffd966; padding: 0.45em 0.6em; margin: 0 0.25em; line-height: 1; border-radius: 0.35em;\">\n",
       "    Data Science\n",
       "    <span style=\"font-size: 0.8em; font-weight: bold; line-height: 1; border-radius: 0.35em; vertical-align: middle; margin-left: 0.5rem\">ORG</span>\n",
       "</mark>\n",
       " and \n",
       "<mark class=\"entity\" style=\"background: linear-gradient(90deg, #9BE15D, #00E3AE); padding: 0.45em 0.6em; margin: 0 0.25em; line-height: 1; border-radius: 0.35em;\">\n",
       "    Artificial Intelligence\n",
       "    <span style=\"font-size: 0.8em; font-weight: bold; line-height: 1; border-radius: 0.35em; vertical-align: middle; margin-left: 0.5rem\">SKILL</span>\n",
       "</mark>\n",
       " CGPA: 9.50 \n",
       "<mark class=\"entity\" style=\"background: #ffd966; padding: 0.45em 0.6em; margin: 0 0.25em; line-height: 1; border-radius: 0.35em;\">\n",
       "    Ryan International School\n",
       "    <span style=\"font-size: 0.8em; font-weight: bold; line-height: 1; border-radius: 0.35em; vertical-align: middle; margin-left: 0.5rem\">ORG</span>\n",
       "</mark>\n",
       " \n",
       "<mark class=\"entity\" style=\"background: #c27ba0; padding: 0.45em 0.6em; margin: 0 0.25em; line-height: 1; border-radius: 0.35em;\">\n",
       "    June 2021\n",
       "    <span style=\"font-size: 0.8em; font-weight: bold; line-height: 1; border-radius: 0.35em; vertical-align: middle; margin-left: 0.5rem\">DATE</span>\n",
       "</mark>\n",
       " – \n",
       "<mark class=\"entity\" style=\"background: #c27ba0; padding: 0.45em 0.6em; margin: 0 0.25em; line-height: 1; border-radius: 0.35em;\">\n",
       "    July 2022\n",
       "    <span style=\"font-size: 0.8em; font-weight: bold; line-height: 1; border-radius: 0.35em; vertical-align: middle; margin-left: 0.5rem\">DATE</span>\n",
       "</mark>\n",
       " \n",
       "<mark class=\"entity\" style=\"background: #ffd966; padding: 0.45em 0.6em; margin: 0 0.25em; line-height: 1; border-radius: 0.35em;\">\n",
       "    CBSE Board\n",
       "    <span style=\"font-size: 0.8em; font-weight: bold; line-height: 1; border-radius: 0.35em; vertical-align: middle; margin-left: 0.5rem\">ORG</span>\n",
       "</mark>\n",
       ", Class - XII 97.2% Relevant Coursework • \n",
       "<mark class=\"entity\" style=\"background: linear-gradient(90deg, #9BE15D, #00E3AE); padding: 0.45em 0.6em; margin: 0 0.25em; line-height: 1; border-radius: 0.35em;\">\n",
       "    Data Structures\n",
       "    <span style=\"font-size: 0.8em; font-weight: bold; line-height: 1; border-radius: 0.35em; vertical-align: middle; margin-left: 0.5rem\">SKILL</span>\n",
       "</mark>\n",
       " • Data \n",
       "<mark class=\"entity\" style=\"background: linear-gradient(90deg, #9BE15D, #00E3AE); padding: 0.45em 0.6em; margin: 0 0.25em; line-height: 1; border-radius: 0.35em;\">\n",
       "    Analytics\n",
       "    <span style=\"font-size: 0.8em; font-weight: bold; line-height: 1; border-radius: 0.35em; vertical-align: middle; margin-left: 0.5rem\">SKILL</span>\n",
       "</mark>\n",
       " • \n",
       "<mark class=\"entity\" style=\"background: linear-gradient(90deg, #9BE15D, #00E3AE); padding: 0.45em 0.6em; margin: 0 0.25em; line-height: 1; border-radius: 0.35em;\">\n",
       "    Machine Learning\n",
       "    <span style=\"font-size: 0.8em; font-weight: bold; line-height: 1; border-radius: 0.35em; vertical-align: middle; margin-left: 0.5rem\">SKILL</span>\n",
       "</mark>\n",
       " • \n",
       "<mark class=\"entity\" style=\"background: linear-gradient(90deg, #9BE15D, #00E3AE); padding: 0.45em 0.6em; margin: 0 0.25em; line-height: 1; border-radius: 0.35em;\">\n",
       "    Database\n",
       "    <span style=\"font-size: 0.8em; font-weight: bold; line-height: 1; border-radius: 0.35em; vertical-align: middle; margin-left: 0.5rem\">SKILL</span>\n",
       "</mark>\n",
       " Management • \n",
       "<mark class=\"entity\" style=\"background: linear-gradient(90deg, #9BE15D, #00E3AE); padding: 0.45em 0.6em; margin: 0 0.25em; line-height: 1; border-radius: 0.35em;\">\n",
       "    Artificial Intelligence\n",
       "    <span style=\"font-size: 0.8em; font-weight: bold; line-height: 1; border-radius: 0.35em; vertical-align: middle; margin-left: 0.5rem\">SKILL</span>\n",
       "</mark>\n",
       " • Front-end Development Projects Applicant \n",
       "<mark class=\"entity\" style=\"background: linear-gradient(90deg, #9BE15D, #00E3AE); padding: 0.45em 0.6em; margin: 0 0.25em; line-height: 1; border-radius: 0.35em;\">\n",
       "    Tracking System\n",
       "    <span style=\"font-size: 0.8em; font-weight: bold; line-height: 1; border-radius: 0.35em; vertical-align: middle; margin-left: 0.5rem\">SKILL</span>\n",
       "</mark>\n",
       " | \n",
       "<mark class=\"entity\" style=\"background: linear-gradient(90deg, #9BE15D, #00E3AE); padding: 0.45em 0.6em; margin: 0 0.25em; line-height: 1; border-radius: 0.35em;\">\n",
       "    Python\n",
       "    <span style=\"font-size: 0.8em; font-weight: bold; line-height: 1; border-radius: 0.35em; vertical-align: middle; margin-left: 0.5rem\">SKILL</span>\n",
       "</mark>\n",
       ", \n",
       "<mark class=\"entity\" style=\"background: #ffd966; padding: 0.45em 0.6em; margin: 0 0.25em; line-height: 1; border-radius: 0.35em;\">\n",
       "    NLP\n",
       "    <span style=\"font-size: 0.8em; font-weight: bold; line-height: 1; border-radius: 0.35em; vertical-align: middle; margin-left: 0.5rem\">ORG</span>\n",
       "</mark>\n",
       ", \n",
       "<mark class=\"entity\" style=\"background: #ffd966; padding: 0.45em 0.6em; margin: 0 0.25em; line-height: 1; border-radius: 0.35em;\">\n",
       "    Machine Learning\n",
       "    <span style=\"font-size: 0.8em; font-weight: bold; line-height: 1; border-radius: 0.35em; vertical-align: middle; margin-left: 0.5rem\">ORG</span>\n",
       "</mark>\n",
       ", Full Stack Web Development Present • This enhanced system collects and parses resumes and job descriptions, utilizing \n",
       "<mark class=\"entity\" style=\"background: #ffd966; padding: 0.45em 0.6em; margin: 0 0.25em; line-height: 1; border-radius: 0.35em;\">\n",
       "    NLP\n",
       "    <span style=\"font-size: 0.8em; font-weight: bold; line-height: 1; border-radius: 0.35em; vertical-align: middle; margin-left: 0.5rem\">ORG</span>\n",
       "</mark>\n",
       " to extract key information and standardize data. • \n",
       "<mark class=\"entity\" style=\"background: linear-gradient(90deg, #9BE15D, #00E3AE); padding: 0.45em 0.6em; margin: 0 0.25em; line-height: 1; border-radius: 0.35em;\">\n",
       "    ML\n",
       "    <span style=\"font-size: 0.8em; font-weight: bold; line-height: 1; border-radius: 0.35em; vertical-align: middle; margin-left: 0.5rem\">SKILL</span>\n",
       "</mark>\n",
       " \n",
       "<mark class=\"entity\" style=\"background: linear-gradient(90deg, #9BE15D, #00E3AE); padding: 0.45em 0.6em; margin: 0 0.25em; line-height: 1; border-radius: 0.35em;\">\n",
       "    algorithms\n",
       "    <span style=\"font-size: 0.8em; font-weight: bold; line-height: 1; border-radius: 0.35em; vertical-align: middle; margin-left: 0.5rem\">SKILL</span>\n",
       "</mark>\n",
       " then employ \n",
       "<mark class=\"entity\" style=\"background: linear-gradient(90deg, #9BE15D, #00E3AE); padding: 0.45em 0.6em; margin: 0 0.25em; line-height: 1; border-radius: 0.35em;\">\n",
       "    semantic matching\n",
       "    <span style=\"font-size: 0.8em; font-weight: bold; line-height: 1; border-radius: 0.35em; vertical-align: middle; margin-left: 0.5rem\">SKILL</span>\n",
       "</mark>\n",
       " to identify the most relevant candidates, providing accurate resume \n",
       "<mark class=\"entity\" style=\"background: linear-gradient(90deg, #9BE15D, #00E3AE); padding: 0.45em 0.6em; margin: 0 0.25em; line-height: 1; border-radius: 0.35em;\">\n",
       "    ranking\n",
       "    <span style=\"font-size: 0.8em; font-weight: bold; line-height: 1; border-radius: 0.35em; vertical-align: middle; margin-left: 0.5rem\">SKILL</span>\n",
       "</mark>\n",
       " and scoring. Candidate profiling is enriched with qualitative aspects extracted by \n",
       "<mark class=\"entity\" style=\"background: #ffd966; padding: 0.45em 0.6em; margin: 0 0.25em; line-height: 1; border-radius: 0.35em;\">\n",
       "    NLP\n",
       "    <span style=\"font-size: 0.8em; font-weight: bold; line-height: 1; border-radius: 0.35em; vertical-align: middle; margin-left: 0.5rem\">ORG</span>\n",
       "</mark>\n",
       ", creating comprehensive candidate profiles. • The user interacts with the \n",
       "<mark class=\"entity\" style=\"background: #ffd966; padding: 0.45em 0.6em; margin: 0 0.25em; line-height: 1; border-radius: 0.35em;\">\n",
       "    ATS\n",
       "    <span style=\"font-size: 0.8em; font-weight: bold; line-height: 1; border-radius: 0.35em; vertical-align: middle; margin-left: 0.5rem\">ORG</span>\n",
       "</mark>\n",
       " through a full stack web interface, featuring real-time updates, notifications, and a secure environment that complies with data protection regulations. \n",
       "<mark class=\"entity\" style=\"background: #ffd966; padding: 0.45em 0.6em; margin: 0 0.25em; line-height: 1; border-radius: 0.35em;\">\n",
       "    Social Media Sentiment Analysis | Python\n",
       "    <span style=\"font-size: 0.8em; font-weight: bold; line-height: 1; border-radius: 0.35em; vertical-align: middle; margin-left: 0.5rem\">ORG</span>\n",
       "</mark>\n",
       ", \n",
       "<mark class=\"entity\" style=\"background: #ffd966; padding: 0.45em 0.6em; margin: 0 0.25em; line-height: 1; border-radius: 0.35em;\">\n",
       "    NLP\n",
       "    <span style=\"font-size: 0.8em; font-weight: bold; line-height: 1; border-radius: 0.35em; vertical-align: middle; margin-left: 0.5rem\">ORG</span>\n",
       "</mark>\n",
       ", \n",
       "<mark class=\"entity\" style=\"background: #ffd966; padding: 0.45em 0.6em; margin: 0 0.25em; line-height: 1; border-radius: 0.35em;\">\n",
       "    Machine Learning\n",
       "    <span style=\"font-size: 0.8em; font-weight: bold; line-height: 1; border-radius: 0.35em; vertical-align: middle; margin-left: 0.5rem\">ORG</span>\n",
       "</mark>\n",
       ", Full Stack Web Development \n",
       "<mark class=\"entity\" style=\"background: #c27ba0; padding: 0.45em 0.6em; margin: 0 0.25em; line-height: 1; border-radius: 0.35em;\">\n",
       "    December 2023\n",
       "    <span style=\"font-size: 0.8em; font-weight: bold; line-height: 1; border-radius: 0.35em; vertical-align: middle; margin-left: 0.5rem\">DATE</span>\n",
       "</mark>\n",
       " • This project aims to develop a \n",
       "<mark class=\"entity\" style=\"background: linear-gradient(90deg, #9BE15D, #00E3AE); padding: 0.45em 0.6em; margin: 0 0.25em; line-height: 1; border-radius: 0.35em;\">\n",
       "    machine learning\n",
       "    <span style=\"font-size: 0.8em; font-weight: bold; line-height: 1; border-radius: 0.35em; vertical-align: middle; margin-left: 0.5rem\">SKILL</span>\n",
       "</mark>\n",
       " model for \n",
       "<mark class=\"entity\" style=\"background: linear-gradient(90deg, #9BE15D, #00E3AE); padding: 0.45em 0.6em; margin: 0 0.25em; line-height: 1; border-radius: 0.35em;\">\n",
       "    sentiment analysis\n",
       "    <span style=\"font-size: 0.8em; font-weight: bold; line-height: 1; border-radius: 0.35em; vertical-align: middle; margin-left: 0.5rem\">SKILL</span>\n",
       "</mark>\n",
       " on social media platforms such as \n",
       "<mark class=\"entity\" style=\"background: #ffd966; padding: 0.45em 0.6em; margin: 0 0.25em; line-height: 1; border-radius: 0.35em;\">\n",
       "    Twitter\n",
       "    <span style=\"font-size: 0.8em; font-weight: bold; line-height: 1; border-radius: 0.35em; vertical-align: middle; margin-left: 0.5rem\">ORG</span>\n",
       "</mark>\n",
       " and \n",
       "<mark class=\"entity\" style=\"background: #ffd966; padding: 0.45em 0.6em; margin: 0 0.25em; line-height: 1; border-radius: 0.35em;\">\n",
       "    YouTube\n",
       "    <span style=\"font-size: 0.8em; font-weight: bold; line-height: 1; border-radius: 0.35em; vertical-align: middle; margin-left: 0.5rem\">ORG</span>\n",
       "</mark>\n",
       " and E-\n",
       "<mark class=\"entity\" style=\"background: linear-gradient(90deg, #9BE15D, #00E3AE); padding: 0.45em 0.6em; margin: 0 0.25em; line-height: 1; border-radius: 0.35em;\">\n",
       "    commerce\n",
       "    <span style=\"font-size: 0.8em; font-weight: bold; line-height: 1; border-radius: 0.35em; vertical-align: middle; margin-left: 0.5rem\">SKILL</span>\n",
       "</mark>\n",
       " websites like \n",
       "<mark class=\"entity\" style=\"background: #ffd966; padding: 0.45em 0.6em; margin: 0 0.25em; line-height: 1; border-radius: 0.35em;\">\n",
       "    Amazon\n",
       "    <span style=\"font-size: 0.8em; font-weight: bold; line-height: 1; border-radius: 0.35em; vertical-align: middle; margin-left: 0.5rem\">ORG</span>\n",
       "</mark>\n",
       ". • Social media plays a pivotal role in shaping people’s views and ideas, making it essential to understand the sentiments expressed on these platforms. \n",
       "<mark class=\"entity\" style=\"background: #ffd966; padding: 0.45em 0.6em; margin: 0 0.25em; line-height: 1; border-radius: 0.35em;\">\n",
       "    House\n",
       "    <span style=\"font-size: 0.8em; font-weight: bold; line-height: 1; border-radius: 0.35em; vertical-align: middle; margin-left: 0.5rem\">ORG</span>\n",
       "</mark>\n",
       " Price Prediction Model | \n",
       "<mark class=\"entity\" style=\"background: linear-gradient(90deg, #9BE15D, #00E3AE); padding: 0.45em 0.6em; margin: 0 0.25em; line-height: 1; border-radius: 0.35em;\">\n",
       "    Python\n",
       "    <span style=\"font-size: 0.8em; font-weight: bold; line-height: 1; border-radius: 0.35em; vertical-align: middle; margin-left: 0.5rem\">SKILL</span>\n",
       "</mark>\n",
       ", \n",
       "<mark class=\"entity\" style=\"background: #ffd966; padding: 0.45em 0.6em; margin: 0 0.25em; line-height: 1; border-radius: 0.35em;\">\n",
       "    Machine Learning\n",
       "    <span style=\"font-size: 0.8em; font-weight: bold; line-height: 1; border-radius: 0.35em; vertical-align: middle; margin-left: 0.5rem\">ORG</span>\n",
       "</mark>\n",
       ", Full Stack Web Development \n",
       "<mark class=\"entity\" style=\"background: #c27ba0; padding: 0.45em 0.6em; margin: 0 0.25em; line-height: 1; border-radius: 0.35em;\">\n",
       "    June 2023\n",
       "    <span style=\"font-size: 0.8em; font-weight: bold; line-height: 1; border-radius: 0.35em; vertical-align: middle; margin-left: 0.5rem\">DATE</span>\n",
       "</mark>\n",
       " • This project is about finalizing the appropriate house for an individual inclined based on their conditions and requirement • It uses the fundamental \n",
       "<mark class=\"entity\" style=\"background: #ffd966; padding: 0.45em 0.6em; margin: 0 0.25em; line-height: 1; border-radius: 0.35em;\">\n",
       "    Machine Learning\n",
       "    <span style=\"font-size: 0.8em; font-weight: bold; line-height: 1; border-radius: 0.35em; vertical-align: middle; margin-left: 0.5rem\">ORG</span>\n",
       "</mark>\n",
       " perspective for \n",
       "<mark class=\"entity\" style=\"background: #ffd966; padding: 0.45em 0.6em; margin: 0 0.25em; line-height: 1; border-radius: 0.35em;\">\n",
       "    EDA\n",
       "    <span style=\"font-size: 0.8em; font-weight: bold; line-height: 1; border-radius: 0.35em; vertical-align: middle; margin-left: 0.5rem\">ORG</span>\n",
       "</mark>\n",
       " and \n",
       "<mark class=\"entity\" style=\"background: linear-gradient(90deg, #9BE15D, #00E3AE); padding: 0.45em 0.6em; margin: 0 0.25em; line-height: 1; border-radius: 0.35em;\">\n",
       "    Data Visualization\n",
       "    <span style=\"font-size: 0.8em; font-weight: bold; line-height: 1; border-radius: 0.35em; vertical-align: middle; margin-left: 0.5rem\">SKILL</span>\n",
       "</mark>\n",
       ". • It includes an introduction to Linear Regression for continuous data evaluation and modeling using \n",
       "<mark class=\"entity\" style=\"background: linear-gradient(90deg, #9BE15D, #00E3AE); padding: 0.45em 0.6em; margin: 0 0.25em; line-height: 1; border-radius: 0.35em;\">\n",
       "    algorithms\n",
       "    <span style=\"font-size: 0.8em; font-weight: bold; line-height: 1; border-radius: 0.35em; vertical-align: middle; margin-left: 0.5rem\">SKILL</span>\n",
       "</mark>\n",
       ". \n",
       "<mark class=\"entity\" style=\"background: #ffd966; padding: 0.45em 0.6em; margin: 0 0.25em; line-height: 1; border-radius: 0.35em;\">\n",
       "    Technical Skills Languages\n",
       "    <span style=\"font-size: 0.8em; font-weight: bold; line-height: 1; border-radius: 0.35em; vertical-align: middle; margin-left: 0.5rem\">ORG</span>\n",
       "</mark>\n",
       ": \n",
       "<mark class=\"entity\" style=\"background: linear-gradient(90deg, #9BE15D, #00E3AE); padding: 0.45em 0.6em; margin: 0 0.25em; line-height: 1; border-radius: 0.35em;\">\n",
       "    Python\n",
       "    <span style=\"font-size: 0.8em; font-weight: bold; line-height: 1; border-radius: 0.35em; vertical-align: middle; margin-left: 0.5rem\">SKILL</span>\n",
       "</mark>\n",
       ", \n",
       "<mark class=\"entity\" style=\"background: linear-gradient(90deg, #9BE15D, #00E3AE); padding: 0.45em 0.6em; margin: 0 0.25em; line-height: 1; border-radius: 0.35em;\">\n",
       "    C\n",
       "    <span style=\"font-size: 0.8em; font-weight: bold; line-height: 1; border-radius: 0.35em; vertical-align: middle; margin-left: 0.5rem\">SKILL</span>\n",
       "</mark>\n",
       ", C++, \n",
       "<mark class=\"entity\" style=\"background: linear-gradient(90deg, #9BE15D, #00E3AE); padding: 0.45em 0.6em; margin: 0 0.25em; line-height: 1; border-radius: 0.35em;\">\n",
       "    HTML\n",
       "    <span style=\"font-size: 0.8em; font-weight: bold; line-height: 1; border-radius: 0.35em; vertical-align: middle; margin-left: 0.5rem\">SKILL</span>\n",
       "</mark>\n",
       "/\n",
       "<mark class=\"entity\" style=\"background: linear-gradient(90deg, #9BE15D, #00E3AE); padding: 0.45em 0.6em; margin: 0 0.25em; line-height: 1; border-radius: 0.35em;\">\n",
       "    CSS\n",
       "    <span style=\"font-size: 0.8em; font-weight: bold; line-height: 1; border-radius: 0.35em; vertical-align: middle; margin-left: 0.5rem\">SKILL</span>\n",
       "</mark>\n",
       ", \n",
       "<mark class=\"entity\" style=\"background: #f9cb9c; padding: 0.45em 0.6em; margin: 0 0.25em; line-height: 1; border-radius: 0.35em;\">\n",
       "    JavaScript\n",
       "    <span style=\"font-size: 0.8em; font-weight: bold; line-height: 1; border-radius: 0.35em; vertical-align: middle; margin-left: 0.5rem\">PRODUCT</span>\n",
       "</mark>\n",
       ", \n",
       "<mark class=\"entity\" style=\"background: #ffd966; padding: 0.45em 0.6em; margin: 0 0.25em; line-height: 1; border-radius: 0.35em;\">\n",
       "    SQL Technologies/Frameworks\n",
       "    <span style=\"font-size: 0.8em; font-weight: bold; line-height: 1; border-radius: 0.35em; vertical-align: middle; margin-left: 0.5rem\">ORG</span>\n",
       "</mark>\n",
       ": \n",
       "<mark class=\"entity\" style=\"background: linear-gradient(90deg, #9BE15D, #00E3AE); padding: 0.45em 0.6em; margin: 0 0.25em; line-height: 1; border-radius: 0.35em;\">\n",
       "    MySQL\n",
       "    <span style=\"font-size: 0.8em; font-weight: bold; line-height: 1; border-radius: 0.35em; vertical-align: middle; margin-left: 0.5rem\">SKILL</span>\n",
       "</mark>\n",
       ", \n",
       "<mark class=\"entity\" style=\"background: #9fc5e8; padding: 0.45em 0.6em; margin: 0 0.25em; line-height: 1; border-radius: 0.35em;\">\n",
       "    Tableau\n",
       "    <span style=\"font-size: 0.8em; font-weight: bold; line-height: 1; border-radius: 0.35em; vertical-align: middle; margin-left: 0.5rem\">GPE</span>\n",
       "</mark>\n",
       ", \n",
       "<mark class=\"entity\" style=\"background: #ffd966; padding: 0.45em 0.6em; margin: 0 0.25em; line-height: 1; border-radius: 0.35em;\">\n",
       "    Microsoft Excel\n",
       "    <span style=\"font-size: 0.8em; font-weight: bold; line-height: 1; border-radius: 0.35em; vertical-align: middle; margin-left: 0.5rem\">ORG</span>\n",
       "</mark>\n",
       ", \n",
       "<mark class=\"entity\" style=\"background: #ffd966; padding: 0.45em 0.6em; margin: 0 0.25em; line-height: 1; border-radius: 0.35em;\">\n",
       "    GitHub\n",
       "    <span style=\"font-size: 0.8em; font-weight: bold; line-height: 1; border-radius: 0.35em; vertical-align: middle; margin-left: 0.5rem\">ORG</span>\n",
       "</mark>\n",
       ", \n",
       "<mark class=\"entity\" style=\"background: linear-gradient(90deg, #9BE15D, #00E3AE); padding: 0.45em 0.6em; margin: 0 0.25em; line-height: 1; border-radius: 0.35em;\">\n",
       "    Numpy\n",
       "    <span style=\"font-size: 0.8em; font-weight: bold; line-height: 1; border-radius: 0.35em; vertical-align: middle; margin-left: 0.5rem\">SKILL</span>\n",
       "</mark>\n",
       ", \n",
       "<mark class=\"entity\" style=\"background: #ffd966; padding: 0.45em 0.6em; margin: 0 0.25em; line-height: 1; border-radius: 0.35em;\">\n",
       "    Pandas\n",
       "    <span style=\"font-size: 0.8em; font-weight: bold; line-height: 1; border-radius: 0.35em; vertical-align: middle; margin-left: 0.5rem\">ORG</span>\n",
       "</mark>\n",
       ", Matplotlib \n",
       "<mark class=\"entity\" style=\"background: linear-gradient(90deg, #9BE15D, #00E3AE); padding: 0.45em 0.6em; margin: 0 0.25em; line-height: 1; border-radius: 0.35em;\">\n",
       "    Languages\n",
       "    <span style=\"font-size: 0.8em; font-weight: bold; line-height: 1; border-radius: 0.35em; vertical-align: middle; margin-left: 0.5rem\">SKILL</span>\n",
       "</mark>\n",
       " • English : Professional Proficiency • Hindi : Native Proficiency Hobbies • Cinephile • Fitness Enthusiast • Sports Enthusiast</div></span>"
      ],
      "text/plain": [
       "<IPython.core.display.HTML object>"
      ]
     },
     "metadata": {},
     "output_type": "display_data"
    }
   ],
   "source": [
    "input_resume = \"Harshvardhan Sharma  +91 7067133966 # hvsharma2164@gmail.com /in/HarshvardhanSharma github.com/Harshvardhan2164 Summary I am on a quest to evolve into a successful data and business analyst—a maestro of insights and predictions. My ambition is to harness the power of data, unleashing its potential to propel businesses to new summits. Education Dr. SPM International Institute of Information Technology Naya Raipur Nov 2022 – Present Bachelor of Technology, Data Science and Artificial Intelligence CGPA: 9.50 Ryan International School June 2021 – July 2022 CBSE Board, Class - XII 97.2% Relevant Coursework • Data Structures • Data Analytics • Machine Learning • Database Management • Artificial Intelligence • Front-end Development Projects Applicant Tracking System | Python, NLP, Machine Learning, Full Stack Web Development Present • This enhanced system collects and parses resumes and job descriptions, utilizing NLP to extract key information and standardize data. • ML algorithms then employ semantic matching to identify the most relevant candidates, providing accurate resume ranking and scoring. Candidate profiling is enriched with qualitative aspects extracted by NLP, creating comprehensive candidate profiles. • The user interacts with the ATS through a full stack web interface, featuring real-time updates, notifications, and a secure environment that complies with data protection regulations. Social Media Sentiment Analysis | Python, NLP, Machine Learning, Full Stack Web Development December 2023 • This project aims to develop a machine learning model for sentiment analysis on social media platforms such as Twitter and YouTube and E-commerce websites like Amazon. • Social media plays a pivotal role in shaping people’s views and ideas, making it essential to understand the sentiments expressed on these platforms. House Price Prediction Model | Python, Machine Learning, Full Stack Web Development June 2023 • This project is about finalizing the appropriate house for an individual inclined based on their conditions and requirement • It uses the fundamental Machine Learning perspective for EDA and Data Visualization. • It includes an introduction to Linear Regression for continuous data evaluation and modeling using algorithms. Technical Skills Languages: Python, C, C++, HTML/CSS, JavaScript, SQL Technologies/Frameworks: MySQL, Tableau, Microsoft Excel, GitHub, Numpy, Pandas, Matplotlib Languages • English : Professional Proficiency • Hindi : Native Proficiency Hobbies • Cinephile • Fitness Enthusiast • Sports Enthusiast\"\n",
    "sent2 = nlp(input_resume)\n",
    "displacy.render(sent2, style=\"ent\", jupyter=True, options=options)"
   ]
  },
  {
   "cell_type": "code",
   "execution_count": 28,
   "metadata": {},
   "outputs": [
    {
     "name": "stdout",
     "output_type": "stream",
     "text": [
      "The current Resume is 60.0% matched to your requirements\n"
     ]
    }
   ],
   "source": [
    "#Match score\n",
    "input_skills = \"C++,Python,SQL,Machine learning,Javascript\"\n",
    "req_skills = input_skills.lower().split(\",\")\n",
    "resume_skills = unique_skills(get_skills(input_resume.lower()))\n",
    "score = 0\n",
    "for x in req_skills:\n",
    "    if x in resume_skills:\n",
    "        score += 1\n",
    "req_skills_len = len(req_skills)\n",
    "match = round(score / req_skills_len * 100, 1)\n",
    "\n",
    "print(f\"The current Resume is {match}% matched to your requirements\")"
   ]
  }
 ],
 "metadata": {
  "kernelspec": {
   "display_name": "Python 3",
   "language": "python",
   "name": "python3"
  },
  "language_info": {
   "codemirror_mode": {
    "name": "ipython",
    "version": 3
   },
   "file_extension": ".py",
   "mimetype": "text/x-python",
   "name": "python",
   "nbconvert_exporter": "python",
   "pygments_lexer": "ipython3",
   "version": "3.12.1"
  }
 },
 "nbformat": 4,
 "nbformat_minor": 2
}
